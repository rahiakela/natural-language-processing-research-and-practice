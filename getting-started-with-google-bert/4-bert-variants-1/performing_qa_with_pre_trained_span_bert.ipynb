{
  "nbformat": 4,
  "nbformat_minor": 0,
  "metadata": {
    "colab": {
      "name": "performing-qa-with-pre-trained-span-bert.ipynb",
      "provenance": [],
      "toc_visible": true,
      "authorship_tag": "ABX9TyMkrY69Db1wnbYFtyNkqGH8",
      "include_colab_link": true
    },
    "kernelspec": {
      "name": "python3",
      "display_name": "Python 3"
    },
    "accelerator": "GPU"
  },
  "cells": [
    {
      "cell_type": "markdown",
      "metadata": {
        "id": "view-in-github",
        "colab_type": "text"
      },
      "source": [
        "<a href=\"https://colab.research.google.com/github/rahiakela/getting-started-with-google-bert/blob/main/4-bert-variants-1/performing_qa_with_pre_trained_span_bert.ipynb\" target=\"_parent\"><img src=\"https://colab.research.google.com/assets/colab-badge.svg\" alt=\"Open In Colab\"/></a>"
      ]
    },
    {
      "cell_type": "markdown",
      "metadata": {
        "id": "jivRMocQdzfI"
      },
      "source": [
        "## Performing Q&A with pre-trained SpanBERT"
      ]
    },
    {
      "cell_type": "markdown",
      "metadata": {
        "id": "d9Pb8l0Si-dN"
      },
      "source": [
        "Let's learn how to perform question answering with a pre-trained SpanBERT model that is fine-tuned on the question answering task. In this notebook, we will use the pipeline API of the transformers library. The pipeline is the simple API provided by the transformers library for seamlessly performing complex tasks ranging from text classification to question answering."
      ]
    },
    {
      "cell_type": "markdown",
      "metadata": {
        "id": "J7PywmnSL_uC"
      },
      "source": [
        "## Setup"
      ]
    },
    {
      "cell_type": "code",
      "metadata": {
        "id": "sl-GcyGXMBJ9"
      },
      "source": [
        "!pip install transformers"
      ],
      "execution_count": null,
      "outputs": []
    },
    {
      "cell_type": "code",
      "metadata": {
        "id": "7z8AJjW2MDHx"
      },
      "source": [
        "from transformers import pipeline\n",
        "\n",
        "from pprint import pprint"
      ],
      "execution_count": 2,
      "outputs": []
    },
    {
      "cell_type": "markdown",
      "metadata": {
        "id": "ufsiNBKUM81e"
      },
      "source": [
        "## Load pipeline"
      ]
    },
    {
      "cell_type": "markdown",
      "metadata": {
        "id": "1r_dReC8M_Q8"
      },
      "source": [
        "Now, we define our question answering pipeline. To the pipeline API, we pass the task that we want to perform, the pre-trained model, and the tokenizer as arguments.\n",
        "\n",
        "Here, we are using the spanbert-large-fine-tuned-squadv2 model,\n",
        "which is the pre-trained and fine-tuned SpanBERT for the question answering task."
      ]
    },
    {
      "cell_type": "code",
      "metadata": {
        "id": "-IYOeyNWNEHJ"
      },
      "source": [
        "qa_pipeline = pipeline(\"question-answering\",\n",
        "                       model=\"mrm8488/spanbert-large-finetuned-squadv2\",\n",
        "                       tokenizer=\"SpanBERT/spanbert-large-cased\")"
      ],
      "execution_count": null,
      "outputs": []
    },
    {
      "cell_type": "markdown",
      "metadata": {
        "id": "sCsE78jwh5yl"
      },
      "source": [
        "Now, we just need to feed the question and the context to `qa_pipeline` and it will return the result containing the answer:"
      ]
    },
    {
      "cell_type": "code",
      "metadata": {
        "id": "ppLY_BcxRpfb",
        "colab": {
          "base_uri": "https://localhost:8080/"
        },
        "outputId": "509710f7-f81b-44f1-cc3c-d04ee6835c73"
      },
      "source": [
        "results = qa_pipeline({\n",
        "    \"question\": \"What is machine learning?\",\n",
        "    \"context\": \"Machine learning is a subset of artificial intelligence. It is widely used for creating a variety of applications such as email filtering and computer vision\"\n",
        "})\n",
        "\n",
        "print(results[\"answer\"])"
      ],
      "execution_count": 4,
      "outputs": [
        {
          "output_type": "stream",
          "text": [
            "a subset of artificial intelligence\n"
          ],
          "name": "stdout"
        }
      ]
    },
    {
      "cell_type": "code",
      "metadata": {
        "colab": {
          "base_uri": "https://localhost:8080/"
        },
        "id": "_5sMlZYLILUq",
        "outputId": "eb9bdda9-0d41-40d9-c02b-f2c5dc73bf92"
      },
      "source": [
        "results = qa_pipeline({\n",
        "    \"question\": \"Who is sundar pichai?\",\n",
        "    \"context\": \"Pichai Sundararajan, better known as Sundar Pichai, is an Indian-American business executive. He is the chief executive officer of Alphabet Inc. and its subsidiary Google. Born in Chennai, India, Pichai earned his degree from IIT Kharagpur in metallurgical engineering.\"\n",
        "})\n",
        "\n",
        "print(results[\"answer\"])"
      ],
      "execution_count": 5,
      "outputs": [
        {
          "output_type": "stream",
          "text": [
            "an Indian-American business executive\n"
          ],
          "name": "stdout"
        }
      ]
    }
  ]
}