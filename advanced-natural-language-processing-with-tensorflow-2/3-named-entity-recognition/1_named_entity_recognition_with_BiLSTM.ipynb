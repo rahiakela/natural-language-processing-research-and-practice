{
  "nbformat": 4,
  "nbformat_minor": 0,
  "metadata": {
    "colab": {
      "name": "1-named-entity-recognition-with-BiLSTM.ipynb",
      "provenance": [],
      "toc_visible": true,
      "authorship_tag": "ABX9TyNq5M4bSjmUS1vs50vbMh6l",
      "include_colab_link": true
    },
    "kernelspec": {
      "name": "python3",
      "display_name": "Python 3"
    },
    "language_info": {
      "name": "python"
    },
    "accelerator": "GPU"
  },
  "cells": [
    {
      "cell_type": "markdown",
      "metadata": {
        "id": "view-in-github",
        "colab_type": "text"
      },
      "source": [
        "<a href=\"https://colab.research.google.com/github/rahiakela/advanced-natural-language-processing-with-tensorflow-2/blob/main/3-named-entity-recognition/1_named_entity_recognition_with_BiLSTM.ipynb\" target=\"_parent\"><img src=\"https://colab.research.google.com/assets/colab-badge.svg\" alt=\"Open In Colab\"/></a>"
      ]
    },
    {
      "cell_type": "markdown",
      "metadata": {
        "id": "Ie5BQVSb8HSG"
      },
      "source": [
        "## Named Entity Recognition with BiLSTM"
      ]
    },
    {
      "cell_type": "markdown",
      "metadata": {
        "id": "RYgOSjly8UPB"
      },
      "source": [
        "One of the fundamental building blocks of NLU is **Named Entity Recognition\n",
        "(NER)**. The names of people, companies, products, and quantities can be tagged in a piece of text with NER, which is very useful in chatbot applications and many other use cases in information retrieval and extraction.\n",
        "\n",
        "Building and training a model capable of doing NER requires several techniques, such as **Conditional Random Fields (CRFs)** and **Bi-directional LSTMs(BiLSTMs)**.\n",
        "\n"
      ]
    },
    {
      "cell_type": "markdown",
      "metadata": {
        "id": "nsI96aaV8zfx"
      },
      "source": [
        "## Named Entity Recognition"
      ]
    },
    {
      "cell_type": "markdown",
      "metadata": {
        "id": "ljnBvMUK80sA"
      },
      "source": [
        "Given a sentence or a piece of text, the objective of an NER model is to locate and classify text tokens as named entities in categories such as people's names, organizations and companies, physical locations, quantities, monetary quantities, times, dates, and even protein or DNA sequences. \n",
        "\n",
        "NER should tag the following sentence:\n",
        "\n",
        "```\n",
        "Ashish paid Uber $80 to go to the Twitter offices in San Francisco.\n",
        "```\n",
        "\n",
        "as follows:\n",
        "\n",
        "$$\n",
        "[Ashish]_{PER} \\space paid \\space [Uber]_{ORG} \\space [$80]_{MONEY} \\space to \\space go \\space to \\space the \\space [Twitter]_{ORG} \\space offices \\space in \\space [San Francisco]_{LOC}.\n",
        "$$\n",
        "\n",
        "The most common tags are listed in the table below:\n",
        "\n",
        "| **Type** | Example Tag | Example |\n",
        "|---|---|---|\n",
        "| Person | PER | Gregory went to the castle. |\n",
        "| Organization | ORG | WHO just issued an epidemic advisory.|\n",
        "| Location | LOC | She lives in Seattle. |\n",
        "| Money | MONEY | You owe me twenty dollars. |\n",
        "| Percentage | PERCENT | Stocks have risen 10% today. |\n",
        "| Date | DATE | Let's meet on Wednesday. |\n",
        "| Time | TIME | Is it 5 pm already? |\n",
        "\n",
        "There are different data sets and tagging schemes that can be used to train NER models. Different data sets will have different subsets of the tags.\n",
        "\n",
        "There are a few different ways to build an NER model. If the sentence is considered a sequence, then this task can be modeled as a word-by-word labeling task.\n",
        "\n",
        "Hence, models similar to the models used for Part of Speech (POS) tagging are applicable. Features can be added to a model to improve labeling. The POS of a word and its neighboring words are the most straightforward features to add. Word shape features that model lowercase letters can add a lot of information, principally because a lot of the entity types deal with proper nouns, such as those for people and organizations.\n",
        "\n",
        "Another vital feature involves checking a word in a gazetteer. A gazetteer is like a database of important geographical entities."
      ]
    },
    {
      "cell_type": "markdown",
      "metadata": {
        "id": "AA2OC1OI-ace"
      },
      "source": [
        "## Setup"
      ]
    },
    {
      "cell_type": "code",
      "metadata": {
        "id": "tQsSsqzh6qbJ"
      },
      "source": [
        "!pip install tensorflow-addons"
      ],
      "execution_count": null,
      "outputs": []
    },
    {
      "cell_type": "code",
      "metadata": {
        "id": "LSGcXyuLAfho",
        "colab": {
          "base_uri": "https://localhost:8080/",
          "height": 35
        },
        "outputId": "db1e1e3a-8bd3-4cad-9648-19990ba1b24e"
      },
      "source": [
        "import tensorflow as tf\n",
        "import tensorflow_datasets as tfds\n",
        "import tensorflow_addons as tfa\n",
        "from tensorflow.keras.preprocessing.text import Tokenizer\n",
        "from tensorflow.keras.preprocessing import sequence\n",
        "from tensorflow.keras import Model, Input, Sequential\n",
        "from tensorflow.keras.layers import Embedding, Bidirectional, LSTM, TimeDistributed, Dense, Dropout\n",
        "from tensorflow.keras.layers import Layer\n",
        "from tensorflow.keras import backend as K\n",
        "\n",
        "import numpy as np\n",
        "import pandas as pd\n",
        "\n",
        "import os\n",
        "import csv\n",
        "import collections\n",
        "import glob\n",
        "import matplotlib.pyplot as plt\n",
        "\n",
        "tf.__version__"
      ],
      "execution_count": 2,
      "outputs": [
        {
          "output_type": "execute_result",
          "data": {
            "application/vnd.google.colaboratory.intrinsic+json": {
              "type": "string"
            },
            "text/plain": [
              "'2.5.0'"
            ]
          },
          "metadata": {
            "tags": []
          },
          "execution_count": 2
        }
      ]
    },
    {
      "cell_type": "code",
      "metadata": {
        "id": "KxKONS2lAlxc",
        "colab": {
          "base_uri": "https://localhost:8080/",
          "height": 35
        },
        "outputId": "1ed65a87-fd0c-4fed-b6f0-6d69f855fbd9"
      },
      "source": [
        "tfds.__version__"
      ],
      "execution_count": 3,
      "outputs": [
        {
          "output_type": "execute_result",
          "data": {
            "application/vnd.google.colaboratory.intrinsic+json": {
              "type": "string"
            },
            "text/plain": [
              "'4.0.1'"
            ]
          },
          "metadata": {
            "tags": []
          },
          "execution_count": 3
        }
      ]
    },
    {
      "cell_type": "code",
      "metadata": {
        "id": "50FcUmjAAnmb",
        "colab": {
          "base_uri": "https://localhost:8080/"
        },
        "outputId": "b9c76ae6-d0fc-4701-b2e0-764909f92230"
      },
      "source": [
        "######## GPU CONFIGS FOR RTX 2070 ###############\n",
        "## Please ignore if not training on GPU       ##\n",
        "## this is important for running CuDNN on GPU ##\n",
        "\n",
        "tf.keras.backend.clear_session() #- for easy reset of notebook state\n",
        "\n",
        "# chck if GPU can be seen by TF\n",
        "tf.config.list_physical_devices('GPU')\n",
        "# only if you want to see how commands are executed, uncomment below\n",
        "# tf.debugging.set_log_device_placement(True)\n",
        "gpus = tf.config.experimental.list_physical_devices('GPU')\n",
        "if gpus:\n",
        "  # Restrict TensorFlow to only use the first GPU\n",
        "  try:\n",
        "    tf.config.experimental.set_memory_growth(gpus[0], True)\n",
        "    tf.config.experimental.set_visible_devices(gpus[0], 'GPU')\n",
        "    logical_gpus = tf.config.experimental.list_logical_devices('GPU')\n",
        "    print(len(gpus), \"Physical GPUs,\", len(logical_gpus), \"Logical GPU\")\n",
        "  except RuntimeError as e:\n",
        "    # Visible devices must be set before GPUs have been initialized\n",
        "    print(e)\n",
        "###############################################"
      ],
      "execution_count": 4,
      "outputs": [
        {
          "output_type": "stream",
          "text": [
            "1 Physical GPUs, 1 Logical GPU\n"
          ],
          "name": "stdout"
        }
      ]
    },
    {
      "cell_type": "code",
      "metadata": {
        "id": "OQagKbU9BCF7"
      },
      "source": [
        "%%shell\n",
        "\n",
        "wget https://gmb.let.rug.nl/releases/gmb-2.2.0.zip\n",
        "\n",
        "# !unzip -o gmb-2.2.0.zip  <= use the -o to expand and overwrite whtout prompting\n",
        "unzip gmb-2.2.0.zip\n",
        "rm -rf gmb-2.2.0.zip"
      ],
      "execution_count": null,
      "outputs": []
    },
    {
      "cell_type": "markdown",
      "metadata": {
        "id": "hMDJSmCHCd9e"
      },
      "source": [
        "## Loading the data"
      ]
    },
    {
      "cell_type": "markdown",
      "metadata": {
        "id": "d-QLg74QCe_C"
      },
      "source": [
        "**The GMB data set**\n",
        "\n",
        "With all the basics in the bag, we are ready to build a model that classifies NERs. For this task, the Groningen Meaning Bank (GMB) data set will be used. This dataset is not considered a gold standard.\n",
        "\n",
        "Also note that since we are going to be working on large data sets, some of the following steps may take some time to execute. In the world of Natural Language Processing (NLP), more training data and training time is key to great results.\n",
        "\n",
        "The data subfolder has a number of subfolders with different files. README supplied with the data set provides details about the various files and their contents. For this example, we will be using only files named en.tags in various subdirectories. These files are tab-separated files with\n",
        "each word of a sentence in a row.\n",
        "\n",
        "Out of lots of fields, we are going to use only the token and the named entity tag."
      ]
    },
    {
      "cell_type": "code",
      "metadata": {
        "id": "tJp-SOUyBOII"
      },
      "source": [
        "data_root = './gmb-2.2.0/data/'\n",
        "\n",
        "fnames = []\n",
        "for root, dirs, files in os.walk(data_root):\n",
        "    for filename in files:\n",
        "        if filename.endswith(\".tags\"):\n",
        "            fnames.append(os.path.join(root, filename))"
      ],
      "execution_count": 6,
      "outputs": []
    },
    {
      "cell_type": "code",
      "metadata": {
        "id": "aaS2rfp9BP-Z",
        "colab": {
          "base_uri": "https://localhost:8080/"
        },
        "outputId": "1303a677-848e-43d3-973e-89342c5f77c6"
      },
      "source": [
        "fnames[:2]"
      ],
      "execution_count": 7,
      "outputs": [
        {
          "output_type": "execute_result",
          "data": {
            "text/plain": [
              "['./gmb-2.2.0/data/p08/d0059/en.tags', './gmb-2.2.0/data/p08/d0158/en.tags']"
            ]
          },
          "metadata": {
            "tags": []
          },
          "execution_count": 7
        }
      ]
    },
    {
      "cell_type": "markdown",
      "metadata": {
        "id": "RtUMbY9E73cm"
      },
      "source": [
        "A few processing steps need to happen. Each file has a number of sentences, with each words in a row. The entire sentence as a sequence and the corresponding sequence of NER tags need to be fed in as inputs while training the model. As mentioned, the NER tags also need to be simplified to the top-level entities only. Secondly, the NER tags need to be converted to the IOB format. IOB stands for In-Other-Begin. These letters are used as a prefix to the NER tag. The sentence fragment in the table below shows how this scheme works:\n",
        "\n",
        "```\n",
        "Reverend Terry Jones arrived in New    York\n",
        "B-per    I-per I-per O       O  B-geo  I-geo\n",
        "```\n",
        "\n",
        "Note that New York\n",
        "is one location. As soon as New is encountered, it marks the start of the geo NER\n",
        "tag, hence it is assigned B-geo. The next word is York, which is a continuation of\n",
        "the same geographical entity. For any network, classifying the word New as the\n",
        "start of the geographical entity is going to be very challenging. However, a BiLSTM\n",
        "network would be able to see the succeeding words, which helps quite a bit with\n",
        "disambiguation.\n",
        "\n"
      ]
    },
    {
      "cell_type": "code",
      "metadata": {
        "id": "DH2HOzLtBQZ0"
      },
      "source": [
        "# First, create a directory to store all the processed files\n",
        "!mkdir ner"
      ],
      "execution_count": 8,
      "outputs": []
    },
    {
      "cell_type": "markdown",
      "metadata": {
        "id": "s_tVvxKl8pQB"
      },
      "source": [
        "We want to process the tags so that we strip the subcategories of the NER tags out. It would also be nice to collect some stats on the types of tags in the documents."
      ]
    },
    {
      "cell_type": "code",
      "metadata": {
        "id": "k1jIxkmY8rTK"
      },
      "source": [
        "ner_tags = collections.Counter()\n",
        "iob_tags = collections.Counter()\n",
        "\n",
        "\n",
        "def strip_ner_subcat(tag):\n",
        "  # NER tags are of form {cat}-{subcat} eg tim-dow. We only want first part\n",
        "  return tag.split(\"-\")[0]"
      ],
      "execution_count": 9,
      "outputs": []
    },
    {
      "cell_type": "markdown",
      "metadata": {
        "id": "pLoIR2369IDO"
      },
      "source": [
        "The next method takes a sequence of tags and converts them into IOB format."
      ]
    },
    {
      "cell_type": "code",
      "metadata": {
        "id": "fV_q5H9U9KHC"
      },
      "source": [
        "def iob_format(ners):\n",
        "  # converts IO tags into IOB format\n",
        "  # input is a sequence of IO NER tokens\n",
        "  # convert this: O, PERSON, PERSON, O, O, LOCATION, O\n",
        "  # into: O, B-PERSON, I-PERSON, O, O, B-LOCATION, O\n",
        "  iob_tokens = []\n",
        "\n",
        "  for idx, token in enumerate(ners):\n",
        "    if token != \"O\":    # !other\n",
        "      if idx == 0:\n",
        "        token = \"B-\" + token  # start of sentence\n",
        "      elif ners[idx - 1] == token:\n",
        "        token = \"I-\" + token  # continues\n",
        "      else:\n",
        "        token = \"B-\" + token\n",
        "\n",
        "    iob_tokens.append(token)\n",
        "    iob_tags[token] += 1\n",
        "  return iob_tokens"
      ],
      "execution_count": 10,
      "outputs": []
    },
    {
      "cell_type": "markdown",
      "metadata": {
        "id": "8JPs5iDTEUNe"
      },
      "source": [
        "Once these two convenience functions are ready, all the tags files need to be read and processed."
      ]
    },
    {
      "cell_type": "code",
      "metadata": {
        "id": "Dfw7oiw5EWFX"
      },
      "source": [
        "total_sentences = 0\n",
        "outfiles = []\n",
        "\n",
        "for idx, file in enumerate(fnames):\n",
        "  with open(file, \"rb\") as content:\n",
        "    data = content.read().decode(\"utf-8\").strip()\n",
        "    sentences = data.split(\"\\n\\n\")\n",
        "    print(idx, file, len(sentences))\n",
        "    total_sentences += len(sentences)\n",
        "\n",
        "    with open(\"./ner/\" + str(idx) + \"-\" + os.path.basename(file), \"w\") as outfile:\n",
        "      outfiles.append(\"./ner/\" + str(idx) + \"-\" + os.path.basename(file))\n",
        "      writer = csv.writer(outfile)\n",
        "\n",
        "      for sentence in sentences:\n",
        "        toks = sentence.split(\"\\n\")\n",
        "        words, pos, ner = [], [], []\n",
        "        for tok in toks:\n",
        "          t = tok.split(\"\\t\")\n",
        "          words.append(t[0])\n",
        "          pos.append(t[1])\n",
        "          ner_tags[t[3]] += 1\n",
        "          ner.append(strip_ner_subcat(t[3]))\n",
        "      \n",
        "        writer.writerow([\" \".join(words), \" \".join(iob_format(ner)), \" \".join(pos)])"
      ],
      "execution_count": null,
      "outputs": []
    },
    {
      "cell_type": "markdown",
      "metadata": {
        "id": "z-1e-KqJHUTJ"
      },
      "source": [
        "Files are read and split into two empty newline characters. That is the marker\n",
        "for the end of a sentence in the file. Only the actual words, POS tokens, and NER tokens are used from the file. Once these are collected, a new CSV file is written with three columns: the sentence, a sequence of POS tags, and a sequence of NER tags."
      ]
    },
    {
      "cell_type": "code",
      "metadata": {
        "id": "xsgYknzQHZWe",
        "colab": {
          "base_uri": "https://localhost:8080/"
        },
        "outputId": "1928b07a-642f-410e-d2ee-8dd596d8c212"
      },
      "source": [
        "print(\"total number of sentences:\", total_sentences)"
      ],
      "execution_count": 12,
      "outputs": [
        {
          "output_type": "stream",
          "text": [
            "total number of sentences: 62010\n"
          ],
          "name": "stdout"
        }
      ]
    },
    {
      "cell_type": "markdown",
      "metadata": {
        "id": "MKJEJKUdHplj"
      },
      "source": [
        "To confirm the distribution of the NER tags before and after processing."
      ]
    },
    {
      "cell_type": "code",
      "metadata": {
        "id": "OTM6QdkuHlLJ",
        "colab": {
          "base_uri": "https://localhost:8080/"
        },
        "outputId": "9d9d72bf-53f6-4512-9cb9-9050ffe7932b"
      },
      "source": [
        "print(ner_tags)\n",
        "print(iob_tags)"
      ],
      "execution_count": 13,
      "outputs": [
        {
          "output_type": "stream",
          "text": [
            "Counter({'O': 1146068, 'geo-nam': 58388, 'org-nam': 48034, 'per-nam': 23790, 'gpe-nam': 20680, 'tim-dat': 12786, 'tim-dow': 11404, 'per-tit': 9800, 'per-fam': 8152, 'tim-yoc': 5290, 'tim-moy': 4262, 'per-giv': 2413, 'tim-clo': 891, 'art-nam': 866, 'eve-nam': 602, 'nat-nam': 300, 'tim-nam': 146, 'eve-ord': 107, 'per-ini': 60, 'org-leg': 60, 'per-ord': 38, 'tim-dom': 10, 'art-add': 1, 'per-mid': 1})\n",
            "Counter({'O': 1146068, 'B-geo': 48876, 'B-tim': 26296, 'B-org': 26195, 'I-per': 22270, 'B-per': 21984, 'I-org': 21899, 'B-gpe': 20436, 'I-geo': 9512, 'I-tim': 8493, 'B-art': 503, 'B-eve': 391, 'I-art': 364, 'I-eve': 318, 'I-gpe': 244, 'B-nat': 238, 'I-nat': 62})\n"
          ],
          "name": "stdout"
        }
      ]
    },
    {
      "cell_type": "markdown",
      "metadata": {
        "id": "W8813xDaH6Ya"
      },
      "source": [
        "As is evident, some tags were very infrequent, like tim-dom. It would be next to impossible for a network to learn them. Aggregating up one level helps increase the signal for these tags."
      ]
    },
    {
      "cell_type": "code",
      "metadata": {
        "id": "mtJQImWGJdkp"
      },
      "source": [
        "labels, values = zip(*iob_tags.items())"
      ],
      "execution_count": 14,
      "outputs": []
    },
    {
      "cell_type": "code",
      "metadata": {
        "id": "xf_NW68FJli-",
        "colab": {
          "base_uri": "https://localhost:8080/",
          "height": 288
        },
        "outputId": "32ddb5bc-3e9e-4f69-ee17-cafce6d114ab"
      },
      "source": [
        "indexes = np.arange(len(labels))\n",
        "\n",
        "plt.bar(indexes, values)\n",
        "plt.xticks  (indexes, labels, rotation=\"vertical\")\n",
        "plt.margins(0.01)\n",
        "plt.subplots_adjust(bottom=0.15)\n",
        "plt.show()"
      ],
      "execution_count": 15,
      "outputs": [
        {
          "output_type": "display_data",
          "data": {
            "image/png": "[encoded data removed]",
            "text/plain": [
              "<Figure size 432x288 with 1 Axes>"
            ]
          },
          "metadata": {
            "tags": [],
            "needs_background": "light"
          }
        }
      ]
    },
    {
      "cell_type": "markdown",
      "metadata": {
        "id": "sH8vHVLOH-he"
      },
      "source": [
        "## Normalizing and vectorizing data"
      ]
    },
    {
      "cell_type": "markdown",
      "metadata": {
        "id": "lkdqTCKAH_Y3"
      },
      "source": [
        "For this, pandas and numpy methods will be used. The first step is to load the contents of the processed files into one DataFrame."
      ]
    },
    {
      "cell_type": "code",
      "metadata": {
        "id": "iz_Y_ZT_Hu08"
      },
      "source": [
        "# could use `outfiles` param as well\n",
        "files = glob.glob(\"./ner/*.tags\")\n",
        "\n",
        "data_pd = pd.concat([pd.read_csv(f, header=None, names=[\"text\", \"label\", \"pos\"]) for f in files], ignore_index=True)"
      ],
      "execution_count": 16,
      "outputs": []
    },
    {
      "cell_type": "markdown",
      "metadata": {
        "id": "VUvc1W7PbZdR"
      },
      "source": [
        "This step may take a while given that it is processing 10,000 files. Once the content is loaded, we can check the structure of the DataFrame:"
      ]
    },
    {
      "cell_type": "code",
      "metadata": {
        "id": "lODjENjGbbX5",
        "colab": {
          "base_uri": "https://localhost:8080/"
        },
        "outputId": "3a66f796-b855-472e-9723-f62eb1eeab10"
      },
      "source": [
        "data_pd.info()"
      ],
      "execution_count": 17,
      "outputs": [
        {
          "output_type": "stream",
          "text": [
            "<class 'pandas.core.frame.DataFrame'>\n",
            "RangeIndex: 62010 entries, 0 to 62009\n",
            "Data columns (total 3 columns):\n",
            " #   Column  Non-Null Count  Dtype \n",
            "---  ------  --------------  ----- \n",
            " 0   text    62010 non-null  object\n",
            " 1   label   62010 non-null  object\n",
            " 2   pos     62010 non-null  object\n",
            "dtypes: object(3)\n",
            "memory usage: 1.4+ MB\n"
          ],
          "name": "stdout"
        }
      ]
    },
    {
      "cell_type": "markdown",
      "metadata": {
        "id": "yin3tYhCbeDI"
      },
      "source": [
        "Both the text and NER tags need to be tokenized and encoded into numbers for\n",
        "use in training. We are going to be using core methods provided by the keras.\n",
        "preprocessing package. \n",
        "\n",
        "First, the tokenizer will be used to tokenize the text. In this example, the text only needs to be tokenized by white spaces, as it has been broken\n",
        "up already:"
      ]
    },
    {
      "cell_type": "code",
      "metadata": {
        "id": "N1A1Ue0Jbzv9"
      },
      "source": [
        "text_token = Tokenizer(filters=\"[\\\\]^\\t\\n\", lower=False, split=\" \", oov_token=\"<OOV>\")\n",
        "pos_token = Tokenizer(filters=\"\\t\\n\", lower=False, split=\" \", oov_token=\"<OOV>\")\n",
        "ner_token = Tokenizer(filters=\"\\t\\n\", lower=False, split=\" \", oov_token=\"<OOV>\")\n",
        "\n",
        "text_token.fit_on_texts(data_pd[\"text\"])\n",
        "pos_token.fit_on_texts(data_pd[\"pos\"])\n",
        "ner_token.fit_on_texts(data_pd[\"label\"])"
      ],
      "execution_count": 18,
      "outputs": []
    },
    {
      "cell_type": "markdown",
      "metadata": {
        "id": "v4Nj-JFcdm-I"
      },
      "source": [
        "The default values for the tokenizer are quite reasonable. However, in this particular case, it is important to only tokenize on spaces and not clean the special characters out. Otherwise the data will become mis-formatted.\n",
        "\n",
        "This tokenizer has some useful features. It provides a way to restrict the size of the vocabulary by word counts, TF-IDF, and so on. If the num_words parameter is passed with a numeric value, the tokenizer will limit the number of tokens by word frequencies to that number. The fit_on_texts method takes in all the texts, tokenizes them, and constructs dictionaries with tokens that will be used later to tokenize and encode in one go. \n",
        "\n",
        "A convenience function, get_config(), can be called after the tokenizer has been fit on texts to provide information about the tokens:"
      ]
    },
    {
      "cell_type": "code",
      "metadata": {
        "id": "1KvERC7yeifZ",
        "colab": {
          "base_uri": "https://localhost:8080/"
        },
        "outputId": "36484b04-6083-44a6-891b-6bffb17a0fd2"
      },
      "source": [
        "ner_config = ner_token.get_config()\n",
        "text_config = text_token.get_config()\n",
        "\n",
        "print(ner_config)"
      ],
      "execution_count": 19,
      "outputs": [
        {
          "output_type": "stream",
          "text": [
            "{'num_words': None, 'filters': '\\t\\n', 'lower': False, 'split': ' ', 'char_level': False, 'oov_token': '<OOV>', 'document_count': 62010, 'word_counts': '{\"O\": 1146068, \"B-org\": 26195, \"B-tim\": 26296, \"I-org\": 21899, \"B-geo\": 48876, \"I-tim\": 8493, \"B-gpe\": 20436, \"B-per\": 21984, \"I-per\": 22270, \"I-geo\": 9512, \"B-art\": 503, \"B-eve\": 391, \"I-eve\": 318, \"B-nat\": 238, \"I-gpe\": 244, \"I-nat\": 62, \"I-art\": 364}', 'word_docs': '{\"O\": 61999, \"B-tim\": 22345, \"B-org\": 20478, \"I-org\": 11011, \"I-tim\": 5526, \"B-geo\": 31660, \"B-gpe\": 16565, \"I-per\": 13805, \"I-geo\": 7738, \"B-per\": 17499, \"B-eve\": 361, \"I-eve\": 201, \"B-art\": 425, \"B-nat\": 211, \"I-gpe\": 224, \"I-nat\": 50, \"I-art\": 207}', 'index_docs': '{\"2\": 61999, \"4\": 22345, \"5\": 20478, \"8\": 11011, \"11\": 5526, \"3\": 31660, \"9\": 16565, \"6\": 13805, \"10\": 7738, \"7\": 17499, \"13\": 361, \"15\": 201, \"12\": 425, \"17\": 211, \"16\": 224, \"18\": 50, \"14\": 207}', 'index_word': '{\"1\": \"<OOV>\", \"2\": \"O\", \"3\": \"B-geo\", \"4\": \"B-tim\", \"5\": \"B-org\", \"6\": \"I-per\", \"7\": \"B-per\", \"8\": \"I-org\", \"9\": \"B-gpe\", \"10\": \"I-geo\", \"11\": \"I-tim\", \"12\": \"B-art\", \"13\": \"B-eve\", \"14\": \"I-art\", \"15\": \"I-eve\", \"16\": \"I-gpe\", \"17\": \"B-nat\", \"18\": \"I-nat\"}', 'word_index': '{\"<OOV>\": 1, \"O\": 2, \"B-geo\": 3, \"B-tim\": 4, \"B-org\": 5, \"I-per\": 6, \"B-per\": 7, \"I-org\": 8, \"B-gpe\": 9, \"I-geo\": 10, \"I-tim\": 11, \"B-art\": 12, \"B-eve\": 13, \"I-art\": 14, \"I-eve\": 15, \"I-gpe\": 16, \"B-nat\": 17, \"I-nat\": 18}'}\n"
          ],
          "name": "stdout"
        }
      ]
    },
    {
      "cell_type": "markdown",
      "metadata": {
        "id": "AxXUevUAe-J_"
      },
      "source": [
        "The `index_word` dictionary property in the config provides a mapping between\n",
        "IDs and tokens. There is a considerable amount of information in the config. The vocabularies can be obtained from the config:"
      ]
    },
    {
      "cell_type": "code",
      "metadata": {
        "id": "yEA7jF-zfEya",
        "colab": {
          "base_uri": "https://localhost:8080/"
        },
        "outputId": "e314510f-719a-4d55-b7ea-e83b312aa875"
      },
      "source": [
        "text_vocab = eval(text_config[\"index_word\"])\n",
        "ner_vocab = eval(ner_config[\"index_word\"])\n",
        "\n",
        "print(\"Unique words in vocab:\", len(text_vocab))\n",
        "print(\"Unique NER tags in vocab:\", len(ner_vocab))"
      ],
      "execution_count": 20,
      "outputs": [
        {
          "output_type": "stream",
          "text": [
            "Unique words in vocab: 39422\n",
            "Unique NER tags in vocab: 18\n"
          ],
          "name": "stdout"
        }
      ]
    },
    {
      "cell_type": "markdown",
      "metadata": {
        "id": "i6cl_eL9fr8g"
      },
      "source": [
        "Tokenizing and encoding text and named entity labels is quite easy:"
      ]
    },
    {
      "cell_type": "code",
      "metadata": {
        "id": "9ny7-ujrfsn-",
        "colab": {
          "base_uri": "https://localhost:8080/"
        },
        "outputId": "9fa3d9a1-f4af-4edc-92e7-cc0353d9bc1b"
      },
      "source": [
        "x_token = text_token.texts_to_sequences(data_pd[\"text\"])\n",
        "y_token = ner_token.texts_to_sequences(data_pd[\"label\"])\n",
        "\n",
        "print(text_token.sequences_to_texts([x_token[1]]), data_pd[\"text\"][1])\n",
        "print(ner_token.sequences_to_texts([y_token[1]]), data_pd[\"label\"][1])"
      ],
      "execution_count": 55,
      "outputs": [
        {
          "output_type": "stream",
          "text": [
            "['The job market looks better , with the Labor Department reporting the biggest drop since 2001 in requests for first-time unemployment compensation .'] The job market looks better , with the Labor Department reporting the biggest drop since 2001 in requests for first-time unemployment compensation .\n",
            "['O O O O O O O O B-org I-org O O O O O B-tim O O O O O O O'] O O O O O O O O B-org I-org O O O O O B-tim O O O O O O O\n"
          ],
          "name": "stdout"
        }
      ]
    },
    {
      "cell_type": "markdown",
      "metadata": {
        "id": "hIOWhTGTgmQJ"
      },
      "source": [
        "Since sequences are of different sizes, they will all be padded or truncated to a size of 50 tokens."
      ]
    },
    {
      "cell_type": "code",
      "metadata": {
        "id": "loe707lPgnoZ",
        "colab": {
          "base_uri": "https://localhost:8080/"
        },
        "outputId": "29e68d6d-6f4c-4532-886b-be10ecf371e9"
      },
      "source": [
        "max_len = 50\n",
        "\n",
        "x_pad = sequence.pad_sequences(x_token, padding=\"post\", maxlen=max_len)\n",
        "y_pad = sequence.pad_sequences(y_token, padding=\"post\", maxlen=max_len)\n",
        "\n",
        "print(x_pad.shape, y_pad.shape)"
      ],
      "execution_count": 22,
      "outputs": [
        {
          "output_type": "stream",
          "text": [
            "(62010, 50) (62010, 50)\n"
          ],
          "name": "stdout"
        }
      ]
    },
    {
      "cell_type": "code",
      "metadata": {
        "id": "B_uHLrgnhpd-",
        "colab": {
          "base_uri": "https://localhost:8080/"
        },
        "outputId": "bd0ae23c-20b7-468c-cecc-e15170a15204"
      },
      "source": [
        "text_token.sequences_to_texts([x_pad[1]])"
      ],
      "execution_count": 56,
      "outputs": [
        {
          "output_type": "execute_result",
          "data": {
            "text/plain": [
              "['The job market looks better , with the Labor Department reporting the biggest drop since 2001 in requests for first-time unemployment compensation . <OOV> <OOV> <OOV> <OOV> <OOV> <OOV> <OOV> <OOV> <OOV> <OOV> <OOV> <OOV> <OOV> <OOV> <OOV> <OOV> <OOV> <OOV> <OOV> <OOV> <OOV> <OOV> <OOV> <OOV> <OOV> <OOV> <OOV>']"
            ]
          },
          "metadata": {
            "tags": []
          },
          "execution_count": 56
        }
      ]
    },
    {
      "cell_type": "code",
      "metadata": {
        "id": "GNeORgAPh3zD",
        "colab": {
          "base_uri": "https://localhost:8080/"
        },
        "outputId": "e6bf6217-b0bc-4ac9-cb08-6e9bd6c27be9"
      },
      "source": [
        "ner_token.sequences_to_texts([y_pad[1]])"
      ],
      "execution_count": 57,
      "outputs": [
        {
          "output_type": "execute_result",
          "data": {
            "text/plain": [
              "['O O O O O O O O B-org I-org O O O O O B-tim O O O O O O O <OOV> <OOV> <OOV> <OOV> <OOV> <OOV> <OOV> <OOV> <OOV> <OOV> <OOV> <OOV> <OOV> <OOV> <OOV> <OOV> <OOV> <OOV> <OOV> <OOV> <OOV> <OOV> <OOV> <OOV> <OOV> <OOV> <OOV>']"
            ]
          },
          "metadata": {
            "tags": []
          },
          "execution_count": 57
        }
      ]
    },
    {
      "cell_type": "markdown",
      "metadata": {
        "id": "t7-kb2rEhjAy"
      },
      "source": [
        "There is an additional step that needs to be performed on the labels. Since there are multiple labels, each label token needs to be one-hot encoded like so:"
      ]
    },
    {
      "cell_type": "code",
      "metadata": {
        "id": "3lx_igSohkS_",
        "colab": {
          "base_uri": "https://localhost:8080/"
        },
        "outputId": "45d727e2-76ed-4e9f-87b1-9f11de445a57"
      },
      "source": [
        "num_classes = len(ner_vocab) + 1\n",
        "\n",
        "Y = tf.keras.utils.to_categorical(y_pad, num_classes=num_classes)\n",
        "Y.shape"
      ],
      "execution_count": 25,
      "outputs": [
        {
          "output_type": "execute_result",
          "data": {
            "text/plain": [
              "(62010, 50, 19)"
            ]
          },
          "metadata": {
            "tags": []
          },
          "execution_count": 25
        }
      ]
    },
    {
      "cell_type": "markdown",
      "metadata": {
        "id": "ycIneQV5iRwk"
      },
      "source": [
        "## A BiLSTM model"
      ]
    },
    {
      "cell_type": "markdown",
      "metadata": {
        "id": "2YZqDivsiTFb"
      },
      "source": [
        "The first model we will try is a BiLSTM model. \n",
        "\n",
        "First, the basic constants need to be set up:"
      ]
    },
    {
      "cell_type": "code",
      "metadata": {
        "id": "gJ7dLyckfpxm"
      },
      "source": [
        "# Length of the vocabulary\n",
        "vocab_size = len(text_vocab) + 1\n",
        "\n",
        "# The embedding dimension\n",
        "embedding_dim = 64\n",
        "\n",
        "# Number of RNN units\n",
        "rnn_units = 100\n",
        "\n",
        "# batch size\n",
        "BATCH_SIZE = 90\n",
        "\n",
        "# num of NER classes\n",
        "num_classes = len(ner_vocab) + 1"
      ],
      "execution_count": 26,
      "outputs": []
    },
    {
      "cell_type": "markdown",
      "metadata": {
        "id": "l6iz13iogQAh"
      },
      "source": [
        "Next, a convenience function for instantiating models is defined:"
      ]
    },
    {
      "cell_type": "code",
      "metadata": {
        "id": "DOS5KgE4gQh2"
      },
      "source": [
        "dropout = 0.2\n",
        "\n",
        "def build_model_bilstm(vocab_size, embedding_dim, rnn_units, batch_size, classes):\n",
        "  model = tf.keras.Sequential([\n",
        "       Embedding(vocab_size, embedding_dim, mask_zero=True, batch_input_shape=[batch_size, None]),\n",
        "       Bidirectional(LSTM(units=rnn_units, return_sequences=True, dropout=dropout, kernel_initializer=tf.keras.initializers.he_normal())),\n",
        "       TimeDistributed(Dense(rnn_units, activation=\"relu\")),\n",
        "       Dense(num_classes, activation=\"softmax\")                      \n",
        "  ])\n",
        "\n",
        "  return model"
      ],
      "execution_count": 27,
      "outputs": []
    },
    {
      "cell_type": "markdown",
      "metadata": {
        "id": "5OlN1o1qiFUe"
      },
      "source": [
        "We are going to train our own embeddings. After the embedding layer,\n",
        "there is a BiLSTM layer, followed by a TimeDistributed dense layer. This last\n",
        "layer is different from the sentiment analysis model, where there was only a single unit for binary output. \n",
        "\n",
        "In this problem, for each word in the input sequence, an NER token needs to be predicted. So, the output has as many tokens as the input sequence. Consequently, output tokens correspond 1-to-1 with input tokens and are classified as one of the NER classes. The TimeDistributed layer provides this capability. \n",
        "\n",
        "The other thing to note in this model is the use of regularization. It is important that the model does not overfit the training data. Since LSTMs have high model capacity, using regularization is very important.\n",
        "\n",
        "Now the model can be compiled:"
      ]
    },
    {
      "cell_type": "code",
      "metadata": {
        "id": "co5nYZLmib3P",
        "colab": {
          "base_uri": "https://localhost:8080/"
        },
        "outputId": "9d16a284-fa3c-43fa-aae5-1c68fec43126"
      },
      "source": [
        "model = build_model_bilstm(vocab_size=vocab_size, \n",
        "                           embedding_dim=embedding_dim,\n",
        "                           rnn_units=rnn_units,\n",
        "                           batch_size=BATCH_SIZE,\n",
        "                           classes=num_classes)\n",
        "model.summary()\n",
        "model.compile(optimizer=\"adam\", loss=\"categorical_crossentropy\", metrics=[\"accuracy\"])"
      ],
      "execution_count": 28,
      "outputs": [
        {
          "output_type": "stream",
          "text": [
            "Model: \"sequential\"\n",
            "_________________________________________________________________\n",
            "Layer (type)                 Output Shape              Param #   \n",
            "=================================================================\n",
            "embedding (Embedding)        (90, None, 64)            2523072   \n",
            "_________________________________________________________________\n",
            "bidirectional (Bidirectional (90, None, 200)           132000    \n",
            "_________________________________________________________________\n",
            "time_distributed (TimeDistri (90, None, 100)           20100     \n",
            "_________________________________________________________________\n",
            "dense_1 (Dense)              (90, None, 19)            1919      \n",
            "=================================================================\n",
            "Total params: 2,677,091\n",
            "Trainable params: 2,677,091\n",
            "Non-trainable params: 0\n",
            "_________________________________________________________________\n"
          ],
          "name": "stdout"
        }
      ]
    },
    {
      "cell_type": "markdown",
      "metadata": {
        "id": "erFYGjsDlKxN"
      },
      "source": [
        "This simplistic model has over 2.6 million parameters!\n",
        "\n",
        ">If you notice, the bulk of the parameters are coming from the size\n",
        "of the vocabulary. The vocabulary has 39,422 words. This increases\n",
        "the model training time and computational capacity required.\n",
        "One way to reduce this is to make the vocabulary size smaller.\n",
        "The easiest way to do this would be to only consider words that\n",
        "have more than a certain frequency of occurrence or to remove\n",
        "words smaller than a certain number of characters. The vocabulary\n",
        "can also be reduced by converting all characters to lower case.\n",
        "However, in NER, case is a very important feature.\n",
        "\n",
        "This model is ready for training. \n",
        "\n",
        "The last thing that is needed is to split the data into train and test sets:"
      ]
    },
    {
      "cell_type": "code",
      "metadata": {
        "id": "SO_70p1SlXhC",
        "colab": {
          "base_uri": "https://localhost:8080/"
        },
        "outputId": "62b1f76c-baa5-4e21-edc4-491ff07597a7"
      },
      "source": [
        "# to enable TensorFlow to process sentences properly\n",
        "X = x_pad\n",
        "\n",
        "# create training and testing splits\n",
        "total_sentences = 62010\n",
        "\n",
        "test_size = round(total_sentences / BATCH_SIZE * 0.2)\n",
        "\n",
        "X_train = X[BATCH_SIZE * test_size:]\n",
        "Y_train = Y[BATCH_SIZE * test_size:]\n",
        "\n",
        "X_test = X[0:BATCH_SIZE * test_size]\n",
        "Y_test = Y[0:BATCH_SIZE * test_size]\n",
        "\n",
        "print(X_train.shape, Y_train.shape)\n",
        "print(X_test.shape, Y_test.shape)"
      ],
      "execution_count": 29,
      "outputs": [
        {
          "output_type": "stream",
          "text": [
            "(49590, 50) (49590, 50, 19)\n",
            "(12420, 50) (12420, 50, 19)\n"
          ],
          "name": "stdout"
        }
      ]
    },
    {
      "cell_type": "markdown",
      "metadata": {
        "id": "7triOCztmdS5"
      },
      "source": [
        "Now, the model is ready for training:"
      ]
    },
    {
      "cell_type": "code",
      "metadata": {
        "id": "k3E3IrUtmcou",
        "colab": {
          "base_uri": "https://localhost:8080/"
        },
        "outputId": "db058957-016e-45a5-88b9-5172dd5929d1"
      },
      "source": [
        "model.fit(X_train, Y_train, batch_size=BATCH_SIZE, epochs=15)"
      ],
      "execution_count": 30,
      "outputs": [
        {
          "output_type": "stream",
          "text": [
            "Epoch 1/15\n",
            "551/551 [==============================] - 31s 37ms/step - loss: 0.1833 - accuracy: 0.9070\n",
            "Epoch 2/15\n",
            "551/551 [==============================] - 20s 37ms/step - loss: 0.0472 - accuracy: 0.9681\n",
            "Epoch 3/15\n",
            "551/551 [==============================] - 20s 37ms/step - loss: 0.0352 - accuracy: 0.9751\n",
            "Epoch 4/15\n",
            "551/551 [==============================] - 20s 37ms/step - loss: 0.0294 - accuracy: 0.9787\n",
            "Epoch 5/15\n",
            "551/551 [==============================] - 20s 37ms/step - loss: 0.0253 - accuracy: 0.9813\n",
            "Epoch 6/15\n",
            "551/551 [==============================] - 20s 37ms/step - loss: 0.0219 - accuracy: 0.9837\n",
            "Epoch 7/15\n",
            "551/551 [==============================] - 20s 37ms/step - loss: 0.0191 - accuracy: 0.9857\n",
            "Epoch 8/15\n",
            "551/551 [==============================] - 20s 37ms/step - loss: 0.0167 - accuracy: 0.9874\n",
            "Epoch 9/15\n",
            "551/551 [==============================] - 20s 37ms/step - loss: 0.0145 - accuracy: 0.9889\n",
            "Epoch 10/15\n",
            "551/551 [==============================] - 20s 37ms/step - loss: 0.0127 - accuracy: 0.9904\n",
            "Epoch 11/15\n",
            "551/551 [==============================] - 20s 37ms/step - loss: 0.0111 - accuracy: 0.9915\n",
            "Epoch 12/15\n",
            "551/551 [==============================] - 20s 37ms/step - loss: 0.0099 - accuracy: 0.9924\n",
            "Epoch 13/15\n",
            "551/551 [==============================] - 20s 37ms/step - loss: 0.0091 - accuracy: 0.9930\n",
            "Epoch 14/15\n",
            "551/551 [==============================] - 20s 37ms/step - loss: 0.0080 - accuracy: 0.9938\n",
            "Epoch 15/15\n",
            "551/551 [==============================] - 20s 37ms/step - loss: 0.0072 - accuracy: 0.9944\n"
          ],
          "name": "stdout"
        },
        {
          "output_type": "execute_result",
          "data": {
            "text/plain": [
              "<tensorflow.python.keras.callbacks.History at 0x7fac1198ed50>"
            ]
          },
          "metadata": {
            "tags": []
          },
          "execution_count": 30
        }
      ]
    },
    {
      "cell_type": "markdown",
      "metadata": {
        "id": "Nhps0DFXmw44"
      },
      "source": [
        "Over 15 epochs of training, the model is doing quite well with over 99% accuracy.\n",
        "\n",
        "Let's see how the model performs on the test set and whether the regularization helped:"
      ]
    },
    {
      "cell_type": "code",
      "metadata": {
        "id": "wkJTjLHHm0F3",
        "colab": {
          "base_uri": "https://localhost:8080/"
        },
        "outputId": "3b7f546b-f702-464c-fa91-e00402f15406"
      },
      "source": [
        "model.evaluate(X_test, Y_test, batch_size=BATCH_SIZE)"
      ],
      "execution_count": 31,
      "outputs": [
        {
          "output_type": "stream",
          "text": [
            "138/138 [==============================] - 3s 7ms/step - loss: 0.0962 - accuracy: 0.9616\n"
          ],
          "name": "stdout"
        },
        {
          "output_type": "execute_result",
          "data": {
            "text/plain": [
              "[0.0962095707654953, 0.961600124835968]"
            ]
          },
          "metadata": {
            "tags": []
          },
          "execution_count": 31
        }
      ]
    },
    {
      "cell_type": "markdown",
      "metadata": {
        "id": "2R1VTnjQnjft"
      },
      "source": [
        "The model performs well on the test data set, with over 96.5% accuracy. The\n",
        "difference between the train and test accuracies is still there, implying that the model could use some additional regularization. \n",
        "\n",
        "You can play with the dropout variable or add additional dropout layers between the embedding and BiLSTM layers, and between the TimeDistributed layer and the final Dense layer.\n",
        "\n",
        "Here is an example of a sentence fragment tagged by this model:\n",
        "\n",
        "<img src='https://github.com/rahiakela/img-repo/blob/master/advanced-nlp-with-tensorflow-2/sentence-fragment.png?raw=1' width='800'/>\n",
        "\n",
        "This model is not doing poorly at all. It was able to identify the person and time entities in the sentence.\n",
        "\n",
        "As good as this model is, it does not use an important characteristic of named entity tags – a given tag is highly correlated with the tag coming after it. CRFs can take advantage of this information and further improve the accuracy of NER tasks.\n",
        "\n",
        "\n"
      ]
    },
    {
      "cell_type": "markdown",
      "metadata": {
        "id": "XN1f4wj5egtV"
      },
      "source": [
        "## Conditional random fields (CRFs)"
      ]
    },
    {
      "cell_type": "markdown",
      "metadata": {
        "id": "LiTuOtzwehuX"
      },
      "source": [
        "BiLSTM models look at a sequence of input words and predict the label for the\n",
        "current word. In making this determination, only the information of previous inputs is considered. Previous predictions play no role in making this decision. However, there is information encoded in the sequence of labels that is being discounted.\n",
        "\n",
        "To illustrate this point, consider a subset of NER tags: O, B-Per, I-Per, B-Geo, and I-Geo. This represents two domains of person and geographical entities and an Other category for everything else. Based on the structure of IOB tags, we know that any I- tag must be preceded by a B-I from the same domain. This also implies that an I- tag cannot be preceded by an O tag.\n",
        "\n",
        "<img src='https://github.com/rahiakela/img-repo/blob/master/advanced-nlp-with-tensorflow-2/ner-tag-transitions.png?raw=1' width='800'/>\n",
        "\n",
        "Note that these transition weights can be learned based on the data. Such a learned transition weights matrix could be used during prediction to consider the entire sequence of predicted labels and make updates to the probabilities.\n",
        "\n",
        "Here is an illustrative matrix with indicative transition weights:\n",
        "\n",
        "<img src='https://github.com/rahiakela/img-repo/blob/master/advanced-nlp-with-tensorflow-2/ner-tag-transitions-table.png?raw=1' width='800'/>\n",
        "\n",
        "As per the table above, the weight of the edge connecting I-Org to B-Org has a\n",
        "weight of -1.38, implying that this transition is extremely unlikely to happen.\n",
        "\n",
        "Practically, implementing a CRF has three main steps. The first step is modifying the score generated by the BiLSTM layer and accounting for the transition weights.\n",
        "\n",
        "While decoding, the output sequence is the one that has the maximum score among\n",
        "these possible sequences, calculated conceptually using an style function. The\n",
        "argmax Viterbi algorithm is commonly used to implement a dynamic programming solution for decoding."
      ]
    },
    {
      "cell_type": "markdown",
      "metadata": {
        "id": "sGTX2j15hXI7"
      },
      "source": [
        "## Implementing the custom CRF"
      ]
    },
    {
      "cell_type": "markdown",
      "metadata": {
        "id": "2nkOXPtbp6Wq"
      },
      "source": [
        "### A custom CRF layer"
      ]
    },
    {
      "cell_type": "markdown",
      "metadata": {
        "id": "awIgFV9VhYs9"
      },
      "source": [
        "Similar to the flow above, there will be an embedding layer and a BiLSTM layer.\n",
        "The output of the BiLSTM needs to be evaluated with the CRF log-likelihood loss. This is the loss that needs to be used to train the model. The\n",
        "first step in implementation is creating a custom layer."
      ]
    },
    {
      "cell_type": "code",
      "metadata": {
        "id": "th3VcYPricv2"
      },
      "source": [
        "class CRFLayer(Layer):\n",
        "  \"\"\"\n",
        "  Computes the log likelihood during training and Performs Viterbi decoding during prediction\n",
        "  \"\"\"\n",
        "  def __init__(self, label_size, mask_id=0, trans_params=None, name=\"crf\", **kwargs):\n",
        "    \"\"\"\n",
        "    The main parameters that are needed are:\n",
        "      1-The number of labels and the transition matrix:This transition parameters matrix is not trainable through\n",
        "      gradient descent. It is calculated as a consequence of computing the loglikelihoods. The transition parameters matrix can also be passed into this\n",
        "      layer if it has been learned in the past.\n",
        "      2-The mask id: Since the sequences are padded, it is important to recover the original sequence lengths for computing transition scores. \n",
        "      By convention, a value of 0 is used for the mask, and that is the default.\n",
        "    \"\"\"\n",
        "    super(CRFLayer, self).__init__(name=name, **kwargs)\n",
        "    self.label_size = label_size \n",
        "    self.mask_id = mask_id \n",
        "    self.transition_params = None\n",
        "\n",
        "    if trans_params is None:  # not reloading pretrained params\n",
        "      self.transition_params = tf.Variable(tf.random.uniform(shape=(label_size, label_size)), trainable=False)\n",
        "    else:\n",
        "      self.transition_params = trans_params\n",
        "\n",
        "  def get_seq_lengths(self, matrix):\n",
        "    \"\"\"\n",
        "    The log-likelihood function also requires the actual sequence lengths for each example. \n",
        "    These sequence lengths can be computed from the labels and the mask identifier that was set up in the constructor of this layer.\n",
        "    \"\"\"\n",
        "    # matrix is of shape (batch_size, max_seq_len)\n",
        "    mask = tf.not_equal(matrix, self.mask_id)\n",
        "    seq_lengths = tf.math.reduce_sum(tf.cast(mask, dtype=tf.int32), axis=-1)\n",
        "\n",
        "    return seq_lengths\n",
        "\n",
        "  def call(self, inputs, seq_lengths, training=None):\n",
        "    \"\"\"\n",
        "    The CRF layer is useful only during inference. At inference time, it uses the transition matrix\n",
        "    and logic to correct the sequences' output by the BiLSTM layers before returning them.\n",
        "    \"\"\"\n",
        "    if training is None:\n",
        "      training = K.learning_phase()  # If this variable is not passed, pull from the Keras backend.\n",
        "    \n",
        "    # during training, this layer just returns the logits\n",
        "    if training:\n",
        "      return inputs\n",
        "\n",
        "    return inputs\n",
        "\n",
        "  def get_proper_labels(self, y_true):\n",
        "    shape = y_true.shape\n",
        "    if len(shape) > 2:\n",
        "      return tf.argmax(y_true, -1, output_type=tf.int32)\n",
        "\n",
        "    return y_true\n",
        "\n",
        "  def loss(self, y_true, y_pred):\n",
        "    y_pred = tf.convert_to_tensor(y_pred)\n",
        "    y_true = tf.cast(self.get_proper_labels(y_true), y_pred.dtype)\n",
        "\n",
        "    seq_lengths = self.get_seq_lengths(y_true)\n",
        "    # calculate and return the log-likelihoods and the transition matrix\n",
        "    log_likelihoods, self.transition_params = tfa.text.crf_log_likelihood(y_pred, y_true, seq_lengths) \n",
        "\n",
        "    # save transition params\n",
        "    self.transition_params = tf.Variable(self.transition_params, trainable=False)\n",
        "    # calculate loss\n",
        "    loss = - tf.reduce_mean(log_likelihoods)\n",
        "\n",
        "    return loss"
      ],
      "execution_count": 36,
      "outputs": []
    },
    {
      "cell_type": "markdown",
      "metadata": {
        "id": "G14UjQGgpjs1"
      },
      "source": [
        "As sequences being passed are masked, this layer needs to know the real sequence\n",
        "lengths during inference time for decoding. A variable is passed for it but is unused at this time. \n",
        "\n",
        "Now that the basic CRF layer is ready, let's build the model."
      ]
    },
    {
      "cell_type": "markdown",
      "metadata": {
        "id": "mUmZfgzopv6i"
      },
      "source": [
        "### A custom CRF model"
      ]
    },
    {
      "cell_type": "markdown",
      "metadata": {
        "id": "08YIHOhWpyqn"
      },
      "source": [
        "Since the model builds on a number of preexisting layers in addition to the custom CRF layer."
      ]
    },
    {
      "cell_type": "code",
      "metadata": {
        "id": "eXKNq-1kqQ_m"
      },
      "source": [
        "class NerModel(tf.keras.Model):\n",
        "  def __init__(self, hidden_num, vocab_size, label_size, embedding_size, name=\"BilstmCrfModel\", **kwargs):\n",
        "    super(NerModel, self).__init__(name=name, **kwargs)\n",
        "    self.num_hidden = hidden_num \n",
        "    self.vocab_size = vocab_size \n",
        "    self.label_size = label_size \n",
        "\n",
        "    self.embedding = Embedding(vocab_size, embedding_size, mask_zero=True, name=\"embedding\")\n",
        "\n",
        "    self.biLSTM = Bidirectional(LSTM(hidden_num, return_sequences=True), name=\"bilstm\")\n",
        "    self.dense = TimeDistributed(tf.keras.layers.Dense(label_size), name=\"dense\")\n",
        "    self.crf = CRFLayer(self.label_size, name=\"crf\")\n",
        "\n",
        "  def call(self, text, labels=None, training=None):\n",
        "    seq_lengths = tf.math.reduce_sum(tf.cast(tf.math.not_equal(text, 0), dtype=tf.int32), axis=-1)\n",
        "\n",
        "    if training is None:\n",
        "      training = K.learning_phase()\n",
        "\n",
        "    inputs = self.embedding(text)\n",
        "    bilstm = self.biLSTM(inputs)\n",
        "    logits = self.dense(bilstm)\n",
        "    outputs = self.crf(logits, seq_lengths, training)\n",
        "\n",
        "    return outputs"
      ],
      "execution_count": 41,
      "outputs": []
    },
    {
      "cell_type": "markdown",
      "metadata": {
        "id": "DV1UaRYyvyDB"
      },
      "source": [
        "###Implementing custom training"
      ]
    },
    {
      "cell_type": "markdown",
      "metadata": {
        "id": "TOubnRp7vzT7"
      },
      "source": [
        "The model needs to be instantiated and initialized for training:"
      ]
    },
    {
      "cell_type": "code",
      "metadata": {
        "id": "B6pKaV1pwOBS"
      },
      "source": [
        "# Length of the vocabulary in chars\n",
        "vocab_size = len(text_vocab) + 1\n",
        "\n",
        "# The embedding dimension\n",
        "embedding_dim = 64\n",
        "\n",
        "# Number of RNN units\n",
        "rnn_units = 100\n",
        "\n",
        "# batch size\n",
        "BATCH_SIZE=90\n",
        "\n",
        "# num of NER classes\n",
        "num_classes = len(ner_vocab) + 1\n",
        "\n",
        "blc_model = NerModel(rnn_units, vocab_size, num_classes, embedding_dim, dynamic=True)\n",
        "optimizer = tf.optimizers.Adam(learning_rate=1e-3)"
      ],
      "execution_count": 42,
      "outputs": []
    },
    {
      "cell_type": "markdown",
      "metadata": {
        "id": "icGuucp60-gf"
      },
      "source": [
        "Next, we will construct tf.data.DataSet from the DataFrames loaded in the BiLSTM."
      ]
    },
    {
      "cell_type": "code",
      "metadata": {
        "id": "_3Xb7OqI0ilA"
      },
      "source": [
        "# create training and testing splits\n",
        "total_sentences = 62010\n",
        "test_size = round(total_sentences / BATCH_SIZE * 0.2)\n",
        "\n",
        "X_train = x_pad[BATCH_SIZE * test_size:]\n",
        "Y_train = Y[BATCH_SIZE * test_size:]\n",
        "\n",
        "X_test = x_pad[0: BATCH_SIZE * test_size]\n",
        "Y_test = Y[0: BATCH_SIZE * test_size]\n",
        "\n",
        "Y_train_int = tf.cast(Y_train, dtype=tf.int32)\n",
        "\n",
        "train_dataset = tf.data.Dataset.from_tensor_slices((X_train, Y_train_int))\n",
        "train_dataset = train_dataset.batch(BATCH_SIZE, drop_remainder=True)"
      ],
      "execution_count": 43,
      "outputs": []
    },
    {
      "cell_type": "markdown",
      "metadata": {
        "id": "KeWQXoCn4aSy"
      },
      "source": [
        "Roughly 20% of the data is reserved for testing. The rest is used for training.\n",
        "\n",
        "To implement a custom training loop, TensorFlow 2.0 exposes a gradient tape. This allows low-level management of the main steps required for training any model with gradient descent.\n",
        "\n",
        "These steps are:\n",
        "- Computing the forward pass predictions\n",
        "- Computing the loss when these predictions are compared with the labels\n",
        "- Computing the gradients for the trainable parameters based on the loss and\n",
        "then using the optimizer to adjust the weights\n",
        "\n",
        "Let us train this model for 5 epochs and watch the loss as training progresses."
      ]
    },
    {
      "cell_type": "code",
      "metadata": {
        "id": "ainioCok3Hxb",
        "outputId": "0647fd63-18a3-4a20-a6aa-dba70bb76242",
        "colab": {
          "base_uri": "https://localhost:8080/"
        }
      },
      "source": [
        "# A metric is created to keep track of the average loss over time.\n",
        "loss_metric = tf.keras.metrics.Mean()\n",
        "\n",
        "epochs = 5\n",
        "\n",
        "#  Iterate over epochs\n",
        "for epoch in range(epochs):\n",
        "  print(\"Start of epoch %d\" % (epoch, ))\n",
        "\n",
        "  # Iterate over the batches of the dataset\n",
        "  for step, (text_batch, labels_batch) in enumerate(train_dataset):\n",
        "    labels_max = tf.argmax(labels_batch, -1, output_type=tf.int32)\n",
        "    with tf.GradientTape() as tape:  # keep track of the operations\n",
        "      logits = blc_model(text_batch, training=True)\n",
        "      loss = blc_model.crf.loss(labels_max, logits)\n",
        "\n",
        "      grads = tape.gradient(loss, blc_model.trainable_weights)\n",
        "      optimizer.apply_gradients(zip(grads, blc_model.trainable_weights))\n",
        "\n",
        "      loss_metric(loss)\n",
        "    # the loss metric is printed every 50th step to show training progress\n",
        "    if step % 50 == 0:\n",
        "      print(\"step %s: mean loss = %s\" % (step, loss_metric.result()))"
      ],
      "execution_count": 44,
      "outputs": [
        {
          "output_type": "stream",
          "text": [
            "Start of epoch 0\n",
            "step 0: mean loss = tf.Tensor(56.082767, shape=(), dtype=float32)\n",
            "step 50: mean loss = tf.Tensor(30.648026, shape=(), dtype=float32)\n",
            "step 100: mean loss = tf.Tensor(23.702646, shape=(), dtype=float32)\n",
            "step 150: mean loss = tf.Tensor(20.419762, shape=(), dtype=float32)\n",
            "step 200: mean loss = tf.Tensor(18.009138, shape=(), dtype=float32)\n",
            "step 250: mean loss = tf.Tensor(16.202168, shape=(), dtype=float32)\n",
            "step 300: mean loss = tf.Tensor(14.862465, shape=(), dtype=float32)\n",
            "step 350: mean loss = tf.Tensor(13.804647, shape=(), dtype=float32)\n",
            "step 400: mean loss = tf.Tensor(12.93241, shape=(), dtype=float32)\n",
            "step 450: mean loss = tf.Tensor(12.178338, shape=(), dtype=float32)\n",
            "step 500: mean loss = tf.Tensor(11.524003, shape=(), dtype=float32)\n",
            "step 550: mean loss = tf.Tensor(10.938169, shape=(), dtype=float32)\n",
            "Start of epoch 1\n",
            "step 0: mean loss = tf.Tensor(10.925796, shape=(), dtype=float32)\n",
            "step 50: mean loss = tf.Tensor(10.380131, shape=(), dtype=float32)\n",
            "step 100: mean loss = tf.Tensor(9.8744545, shape=(), dtype=float32)\n",
            "step 150: mean loss = tf.Tensor(9.422437, shape=(), dtype=float32)\n",
            "step 200: mean loss = tf.Tensor(9.016287, shape=(), dtype=float32)\n",
            "step 250: mean loss = tf.Tensor(8.642759, shape=(), dtype=float32)\n",
            "step 300: mean loss = tf.Tensor(8.304727, shape=(), dtype=float32)\n",
            "step 350: mean loss = tf.Tensor(7.9967155, shape=(), dtype=float32)\n",
            "step 400: mean loss = tf.Tensor(7.720956, shape=(), dtype=float32)\n",
            "step 450: mean loss = tf.Tensor(7.4631653, shape=(), dtype=float32)\n",
            "step 500: mean loss = tf.Tensor(7.234514, shape=(), dtype=float32)\n",
            "step 550: mean loss = tf.Tensor(7.021969, shape=(), dtype=float32)\n",
            "Start of epoch 2\n",
            "step 0: mean loss = tf.Tensor(7.017804, shape=(), dtype=float32)\n",
            "step 50: mean loss = tf.Tensor(6.818898, shape=(), dtype=float32)\n",
            "step 100: mean loss = tf.Tensor(6.630545, shape=(), dtype=float32)\n",
            "step 150: mean loss = tf.Tensor(6.4568954, shape=(), dtype=float32)\n",
            "step 200: mean loss = tf.Tensor(6.294872, shape=(), dtype=float32)\n",
            "step 250: mean loss = tf.Tensor(6.140226, shape=(), dtype=float32)\n",
            "step 300: mean loss = tf.Tensor(5.9958405, shape=(), dtype=float32)\n",
            "step 350: mean loss = tf.Tensor(5.8581915, shape=(), dtype=float32)\n",
            "step 400: mean loss = tf.Tensor(5.730833, shape=(), dtype=float32)\n",
            "step 450: mean loss = tf.Tensor(5.6074433, shape=(), dtype=float32)\n",
            "step 500: mean loss = tf.Tensor(5.495791, shape=(), dtype=float32)\n",
            "step 550: mean loss = tf.Tensor(5.389068, shape=(), dtype=float32)\n",
            "Start of epoch 3\n",
            "step 0: mean loss = tf.Tensor(5.386937, shape=(), dtype=float32)\n",
            "step 50: mean loss = tf.Tensor(5.2853208, shape=(), dtype=float32)\n",
            "step 100: mean loss = tf.Tensor(5.186667, shape=(), dtype=float32)\n",
            "step 150: mean loss = tf.Tensor(5.094122, shape=(), dtype=float32)\n",
            "step 200: mean loss = tf.Tensor(5.0060306, shape=(), dtype=float32)\n",
            "step 250: mean loss = tf.Tensor(4.921091, shape=(), dtype=float32)\n",
            "step 300: mean loss = tf.Tensor(4.8394394, shape=(), dtype=float32)\n",
            "step 350: mean loss = tf.Tensor(4.759533, shape=(), dtype=float32)\n",
            "step 400: mean loss = tf.Tensor(4.6850066, shape=(), dtype=float32)\n",
            "step 450: mean loss = tf.Tensor(4.6114035, shape=(), dtype=float32)\n",
            "step 500: mean loss = tf.Tensor(4.5443344, shape=(), dtype=float32)\n",
            "step 550: mean loss = tf.Tensor(4.4790072, shape=(), dtype=float32)\n",
            "Start of epoch 4\n",
            "step 0: mean loss = tf.Tensor(4.4777007, shape=(), dtype=float32)\n",
            "step 50: mean loss = tf.Tensor(4.4145474, shape=(), dtype=float32)\n",
            "step 100: mean loss = tf.Tensor(4.352807, shape=(), dtype=float32)\n",
            "step 150: mean loss = tf.Tensor(4.294106, shape=(), dtype=float32)\n",
            "step 200: mean loss = tf.Tensor(4.2376194, shape=(), dtype=float32)\n",
            "step 250: mean loss = tf.Tensor(4.1822057, shape=(), dtype=float32)\n",
            "step 300: mean loss = tf.Tensor(4.12824, shape=(), dtype=float32)\n",
            "step 350: mean loss = tf.Tensor(4.075483, shape=(), dtype=float32)\n",
            "step 400: mean loss = tf.Tensor(4.0258603, shape=(), dtype=float32)\n",
            "step 450: mean loss = tf.Tensor(3.9755452, shape=(), dtype=float32)\n",
            "step 500: mean loss = tf.Tensor(3.9298084, shape=(), dtype=float32)\n",
            "step 550: mean loss = tf.Tensor(3.8845806, shape=(), dtype=float32)\n"
          ],
          "name": "stdout"
        }
      ]
    },
    {
      "cell_type": "markdown",
      "metadata": {
        "id": "kAWdImok7s9a"
      },
      "source": [
        "Given we implemented a custom training loop, without requiring a compilation of\n",
        "the model, we could not obtain a summary of the model parameters before. To get an idea of the size of the model, a summary can be obtained now:"
      ]
    },
    {
      "cell_type": "code",
      "metadata": {
        "id": "CFxEwYts6Udf",
        "outputId": "ca1140f5-6d9a-4970-abe5-f8f7dafa1cbe",
        "colab": {
          "base_uri": "https://localhost:8080/"
        }
      },
      "source": [
        "blc_model.summary()"
      ],
      "execution_count": 45,
      "outputs": [
        {
          "output_type": "stream",
          "text": [
            "Model: \"BilstmCrfModel\"\n",
            "_________________________________________________________________\n",
            "Layer (type)                 Output Shape              Param #   \n",
            "=================================================================\n",
            "embedding (Embedding)        multiple                  2523072   \n",
            "_________________________________________________________________\n",
            "bilstm (Bidirectional)       multiple                  132000    \n",
            "_________________________________________________________________\n",
            "dense (TimeDistributed)      multiple                  3819      \n",
            "_________________________________________________________________\n",
            "crf (CRFLayer)               multiple                  361       \n",
            "=================================================================\n",
            "Total params: 2,659,252\n",
            "Trainable params: 2,658,891\n",
            "Non-trainable params: 361\n",
            "_________________________________________________________________\n"
          ],
          "name": "stdout"
        }
      ]
    },
    {
      "cell_type": "markdown",
      "metadata": {
        "id": "oQ6Du6dG8Ca-"
      },
      "source": [
        "It is comparable in size to the previous model but has some untrainable parameters. These are coming from the transition matrix. The transition matrix is not learned through gradient descent. Thus, they are classified as non-trainable parameters.\n",
        "\n",
        "However, training loss is hard to interpret. To compute accuracy, we need to\n",
        "implement decoding. \n",
        "\n",
        "For the moment, let's assume that decoding is available and examine the results of training for 5 epochs."
      ]
    },
    {
      "cell_type": "code",
      "metadata": {
        "id": "KeULFmvE8RDA"
      },
      "source": [
        "Y_test_int = tf.cast(Y_test, dtype=tf.int32)\n",
        "\n",
        "test_dataset = tf.data.Dataset.from_tensor_slices((X_test, Y_test_int))\n",
        "test_dataset = test_dataset.batch(BATCH_SIZE, drop_remainder=True)"
      ],
      "execution_count": 46,
      "outputs": []
    },
    {
      "cell_type": "code",
      "metadata": {
        "id": "907GXsOi8dn1"
      },
      "source": [
        "out = blc_model.predict(test_dataset.take(1))"
      ],
      "execution_count": 47,
      "outputs": []
    },
    {
      "cell_type": "code",
      "metadata": {
        "id": "rtZKsFNG8g_J"
      },
      "source": [
        "# check the outputs\n",
        "print(out[1], tf.argmax(Y_test[1], -1))\n",
        "print(out[2], tf.argmax(Y_test[2], -1))"
      ],
      "execution_count": null,
      "outputs": []
    },
    {
      "cell_type": "markdown",
      "metadata": {
        "id": "Lw0UmEvA8oOS"
      },
      "source": [
        "For illustration purposes, here is a sentence from the test set with the results pulled at the end of the first epoch and at the end of five epochs."
      ]
    },
    {
      "cell_type": "code",
      "metadata": {
        "id": "pTNqCO9T8jx5",
        "outputId": "0622e782-a3b4-425d-ecba-c47b006c0c43",
        "colab": {
          "base_uri": "https://localhost:8080/"
        }
      },
      "source": [
        "text_token.sequences_to_texts([X_test[2]])"
      ],
      "execution_count": 59,
      "outputs": [
        {
          "output_type": "execute_result",
          "data": {
            "text/plain": [
              "['Its report shows the number of such initial claims falling 43,000 to 317,000 last week . <OOV> <OOV> <OOV> <OOV> <OOV> <OOV> <OOV> <OOV> <OOV> <OOV> <OOV> <OOV> <OOV> <OOV> <OOV> <OOV> <OOV> <OOV> <OOV> <OOV> <OOV> <OOV> <OOV> <OOV> <OOV> <OOV> <OOV> <OOV> <OOV> <OOV> <OOV> <OOV> <OOV> <OOV>']"
            ]
          },
          "metadata": {
            "tags": []
          },
          "execution_count": 59
        }
      ]
    },
    {
      "cell_type": "code",
      "metadata": {
        "id": "jEMQAs51GkZq"
      },
      "source": [
        "out[2]"
      ],
      "execution_count": null,
      "outputs": []
    },
    {
      "cell_type": "code",
      "metadata": {
        "id": "BKBVRWBq8wKK",
        "outputId": "4f5276e3-aea2-4ab5-e49f-a990b7a65fac",
        "colab": {
          "base_uri": "https://localhost:8080/",
          "height": 371
        }
      },
      "source": [
        "print(\"Ground Truth: \", ner_token.sequences_to_texts([tf.argmax(Y_test[2], -1).numpy()]))\n",
        "print(\"Prediction: \", ner_token.sequences_to_texts([out[2]]))"
      ],
      "execution_count": 62,
      "outputs": [
        {
          "output_type": "stream",
          "text": [
            "Ground Truth:  ['O O O O O O O O O O O O O O O O <OOV> <OOV> <OOV> <OOV> <OOV> <OOV> <OOV> <OOV> <OOV> <OOV> <OOV> <OOV> <OOV> <OOV> <OOV> <OOV> <OOV> <OOV> <OOV> <OOV> <OOV> <OOV> <OOV> <OOV> <OOV> <OOV> <OOV> <OOV> <OOV> <OOV> <OOV> <OOV> <OOV> <OOV>']\n"
          ],
          "name": "stdout"
        },
        {
          "output_type": "error",
          "ename": "TypeError",
          "evalue": "ignored",
          "traceback": [
            "\u001b[0;31m---------------------------------------------------------------------------\u001b[0m",
            "\u001b[0;31mTypeError\u001b[0m                                 Traceback (most recent call last)",
            "\u001b[0;32m<ipython-input-62-9502fa717913>\u001b[0m in \u001b[0;36m<module>\u001b[0;34m()\u001b[0m\n\u001b[1;32m      1\u001b[0m \u001b[0mprint\u001b[0m\u001b[0;34m(\u001b[0m\u001b[0;34m\"Ground Truth: \"\u001b[0m\u001b[0;34m,\u001b[0m \u001b[0mner_token\u001b[0m\u001b[0;34m.\u001b[0m\u001b[0msequences_to_texts\u001b[0m\u001b[0;34m(\u001b[0m\u001b[0;34m[\u001b[0m\u001b[0mtf\u001b[0m\u001b[0;34m.\u001b[0m\u001b[0margmax\u001b[0m\u001b[0;34m(\u001b[0m\u001b[0mY_test\u001b[0m\u001b[0;34m[\u001b[0m\u001b[0;36m2\u001b[0m\u001b[0;34m]\u001b[0m\u001b[0;34m,\u001b[0m \u001b[0;34m-\u001b[0m\u001b[0;36m1\u001b[0m\u001b[0;34m)\u001b[0m\u001b[0;34m.\u001b[0m\u001b[0mnumpy\u001b[0m\u001b[0;34m(\u001b[0m\u001b[0;34m)\u001b[0m\u001b[0;34m]\u001b[0m\u001b[0;34m)\u001b[0m\u001b[0;34m)\u001b[0m\u001b[0;34m\u001b[0m\u001b[0;34m\u001b[0m\u001b[0m\n\u001b[0;32m----> 2\u001b[0;31m \u001b[0mprint\u001b[0m\u001b[0;34m(\u001b[0m\u001b[0;34m\"Prediction: \"\u001b[0m\u001b[0;34m,\u001b[0m \u001b[0mner_token\u001b[0m\u001b[0;34m.\u001b[0m\u001b[0msequences_to_texts\u001b[0m\u001b[0;34m(\u001b[0m\u001b[0;34m[\u001b[0m\u001b[0mout\u001b[0m\u001b[0;34m[\u001b[0m\u001b[0;36m2\u001b[0m\u001b[0;34m]\u001b[0m\u001b[0;34m]\u001b[0m\u001b[0;34m)\u001b[0m\u001b[0;34m)\u001b[0m\u001b[0;34m\u001b[0m\u001b[0;34m\u001b[0m\u001b[0m\n\u001b[0m",
            "\u001b[0;32m/usr/local/lib/python3.7/dist-packages/keras_preprocessing/text.py\u001b[0m in \u001b[0;36msequences_to_texts\u001b[0;34m(self, sequences)\u001b[0m\n\u001b[1;32m    336\u001b[0m             \u001b[0mA\u001b[0m \u001b[0mlist\u001b[0m \u001b[0mof\u001b[0m \u001b[0mtexts\u001b[0m \u001b[0;34m(\u001b[0m\u001b[0mstrings\u001b[0m\u001b[0;34m)\u001b[0m\u001b[0;34m\u001b[0m\u001b[0;34m\u001b[0m\u001b[0m\n\u001b[1;32m    337\u001b[0m         \"\"\"\n\u001b[0;32m--> 338\u001b[0;31m         \u001b[0;32mreturn\u001b[0m \u001b[0mlist\u001b[0m\u001b[0;34m(\u001b[0m\u001b[0mself\u001b[0m\u001b[0;34m.\u001b[0m\u001b[0msequences_to_texts_generator\u001b[0m\u001b[0;34m(\u001b[0m\u001b[0msequences\u001b[0m\u001b[0;34m)\u001b[0m\u001b[0;34m)\u001b[0m\u001b[0;34m\u001b[0m\u001b[0;34m\u001b[0m\u001b[0m\n\u001b[0m\u001b[1;32m    339\u001b[0m \u001b[0;34m\u001b[0m\u001b[0m\n\u001b[1;32m    340\u001b[0m     \u001b[0;32mdef\u001b[0m \u001b[0msequences_to_texts_generator\u001b[0m\u001b[0;34m(\u001b[0m\u001b[0mself\u001b[0m\u001b[0;34m,\u001b[0m \u001b[0msequences\u001b[0m\u001b[0;34m)\u001b[0m\u001b[0;34m:\u001b[0m\u001b[0;34m\u001b[0m\u001b[0;34m\u001b[0m\u001b[0m\n",
            "\u001b[0;32m/usr/local/lib/python3.7/dist-packages/keras_preprocessing/text.py\u001b[0m in \u001b[0;36msequences_to_texts_generator\u001b[0;34m(self, sequences)\u001b[0m\n\u001b[1;32m    358\u001b[0m             \u001b[0mvect\u001b[0m \u001b[0;34m=\u001b[0m \u001b[0;34m[\u001b[0m\u001b[0;34m]\u001b[0m\u001b[0;34m\u001b[0m\u001b[0;34m\u001b[0m\u001b[0m\n\u001b[1;32m    359\u001b[0m             \u001b[0;32mfor\u001b[0m \u001b[0mnum\u001b[0m \u001b[0;32min\u001b[0m \u001b[0mseq\u001b[0m\u001b[0;34m:\u001b[0m\u001b[0;34m\u001b[0m\u001b[0;34m\u001b[0m\u001b[0m\n\u001b[0;32m--> 360\u001b[0;31m                 \u001b[0mword\u001b[0m \u001b[0;34m=\u001b[0m \u001b[0mself\u001b[0m\u001b[0;34m.\u001b[0m\u001b[0mindex_word\u001b[0m\u001b[0;34m.\u001b[0m\u001b[0mget\u001b[0m\u001b[0;34m(\u001b[0m\u001b[0mnum\u001b[0m\u001b[0;34m)\u001b[0m\u001b[0;34m\u001b[0m\u001b[0;34m\u001b[0m\u001b[0m\n\u001b[0m\u001b[1;32m    361\u001b[0m                 \u001b[0;32mif\u001b[0m \u001b[0mword\u001b[0m \u001b[0;32mis\u001b[0m \u001b[0;32mnot\u001b[0m \u001b[0;32mNone\u001b[0m\u001b[0;34m:\u001b[0m\u001b[0;34m\u001b[0m\u001b[0;34m\u001b[0m\u001b[0m\n\u001b[1;32m    362\u001b[0m                     \u001b[0;32mif\u001b[0m \u001b[0mnum_words\u001b[0m \u001b[0;32mand\u001b[0m \u001b[0mnum\u001b[0m \u001b[0;34m>=\u001b[0m \u001b[0mnum_words\u001b[0m\u001b[0;34m:\u001b[0m\u001b[0;34m\u001b[0m\u001b[0;34m\u001b[0m\u001b[0m\n",
            "\u001b[0;31mTypeError\u001b[0m: unhashable type: 'numpy.ndarray'"
          ]
        }
      ]
    },
    {
      "cell_type": "markdown",
      "metadata": {
        "id": "cfbVSqQDLWOF"
      },
      "source": [
        "##Viterbi decoding"
      ]
    },
    {
      "cell_type": "markdown",
      "metadata": {
        "id": "5wh1QNflLXb6"
      },
      "source": [
        ""
      ]
    },
    {
      "cell_type": "code",
      "metadata": {
        "id": "ITNOMZ3k80Kx"
      },
      "source": [
        ""
      ],
      "execution_count": null,
      "outputs": []
    }
  ]
}