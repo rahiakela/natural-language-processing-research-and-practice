{
  "nbformat": 4,
  "nbformat_minor": 0,
  "metadata": {
    "colab": {
      "name": "topic-analysis.ipynb",
      "provenance": [],
      "toc_visible": true,
      "authorship_tag": "ABX9TyPtB3Wv1HyT+pJiNz9Rd9lz",
      "include_colab_link": true
    },
    "kernelspec": {
      "name": "python3",
      "display_name": "Python 3"
    },
    "language_info": {
      "name": "python"
    }
  },
  "cells": [
    {
      "cell_type": "markdown",
      "metadata": {
        "id": "view-in-github",
        "colab_type": "text"
      },
      "source": [
        "<a href=\"https://colab.research.google.com/github/rahiakela/natural-language-processing-research-and-practice/blob/main/getting-started-with-nlp/09-topic-analysis/topic_analysis.ipynb\" target=\"_parent\"><img src=\"https://colab.research.google.com/assets/colab-badge.svg\" alt=\"Open In Colab\"/></a>"
      ]
    },
    {
      "cell_type": "markdown",
      "source": [
        "##Topic Analysis"
      ],
      "metadata": {
        "id": "KNfBwCp922nA"
      }
    },
    {
      "cell_type": "markdown",
      "source": [
        "In this notebook, you will work with one more application of\n",
        "this powerful framework – topic classification. \n",
        "\n",
        "Let’s start with a scenario: suppose you work\n",
        "as a content manager for a large news platform. Your platform hosts texts from a wide\n",
        "variety of authors and mainly specializes in the following set of well-established topics:\n",
        "“Politics”, “Finance”, “Science”, “Sports”, and “Arts”. Your task is to decide, for every\n",
        "incoming article, which topic it belongs to and post it under the relevant tab on the platform.\n",
        "\n",
        "This scenario relates to the task that we can broadly define as topic analysis.\n",
        "\n",
        "Imagine\n",
        "that the content on your platform doesn’t stay the same all the time – new topics may\n",
        "emerge in the data. \n",
        "\n",
        "Unfortunately, if you wanted to train a classification model to cover\n",
        "these topics in a supervised manner, you will need labeled articles for these new topics as\n",
        "well. \n",
        "\n",
        "Data availability is the major bottleneck for supervised machine learning. \n",
        "\n",
        "Therefore, you need to learn about alternative ways of topic discovery and need to apply two unsupervised machine learning algorithms – \n",
        "\n",
        "* clustering\n",
        "* Latent Dirichlet Allocation\n",
        "\n",
        "\n",
        "<img src='https://github.com/rahiakela/natural-language-processing-research-and-practice/blob/main/getting-started-with-nlp/09-topic-analysis/images/1.png?raw=1' width='600'/>"
      ],
      "metadata": {
        "id": "qbKLnvHa3DKG"
      }
    },
    {
      "cell_type": "markdown",
      "source": [
        "##Setup"
      ],
      "metadata": {
        "id": "TrK8SygW4mos"
      }
    },
    {
      "cell_type": "code",
      "source": [
        "from sklearn.feature_extraction.text import TfidfVectorizer\n",
        "from sklearn.naive_bayes import MultinomialNB\n",
        "\n",
        "from sklearn.decomposition import TruncatedSVD\n",
        "from sklearn.pipeline import make_pipeline\n",
        "from sklearn.preprocessing import Normalizer\n",
        "from sklearn.cluster import KMeans\n",
        "\n",
        "from sklearn import metrics\n",
        "from sklearn.metrics import plot_confusion_matrix\n",
        "\n",
        "from sklearn.datasets import fetch_20newsgroups\n",
        "\n",
        "import random\n",
        "import numpy as np\n",
        "import matplotlib.pyplot as plt"
      ],
      "metadata": {
        "id": "XN5nbKtW4n1X"
      },
      "execution_count": 1,
      "outputs": []
    },
    {
      "cell_type": "markdown",
      "source": [
        "##Dataset"
      ],
      "metadata": {
        "id": "dZaXUkIc5q2C"
      }
    },
    {
      "cell_type": "code",
      "source": [
        "def load_dataset(subsets, cats):\n",
        "  dataset = fetch_20newsgroups(subset=subsets, categories=cats, remove=(\"headers\", \"footers\", \"quotes\"), shuffle=True)\n",
        "  return dataset"
      ],
      "metadata": {
        "id": "j4GtrPgf5r9C"
      },
      "execution_count": 2,
      "outputs": []
    },
    {
      "cell_type": "code",
      "source": [
        "categories = [\"comp.windows.x\", \"misc.forsale\", \"rec.autos\", \"rec.motorcycles\", \"rec.sport.baseball\"]\n",
        "categories += [\"rec.sport.hockey\", \"sci.crypt\", \"sci.med\", \"sci.space\", \"talk.politics.mideast\"]\n",
        "\n",
        "newsgroups_train = load_dataset(\"train\", categories)\n",
        "newsgroups_test = load_dataset(\"test\", categories)"
      ],
      "metadata": {
        "id": "--Qi6MSi6PbA"
      },
      "execution_count": 3,
      "outputs": []
    },
    {
      "cell_type": "code",
      "source": [
        "# Let's check our uploaded data subsets\n",
        "def check_data(dataset):\n",
        "  print(list(dataset.target_names))\n",
        "  print(dataset.filenames.shape)\n",
        "  print(dataset.target.shape)\n",
        "\n",
        "  if dataset.filenames.shape[0] == dataset.target.shape[0]:\n",
        "    print(\"Equal sizes for data and targets\")\n",
        "  \n",
        "  print(dataset.filenames[0])\n",
        "  print(dataset.data[0])\n",
        "  print(dataset.target[:10])"
      ],
      "metadata": {
        "id": "_0w5aZyU7Yj0"
      },
      "execution_count": 4,
      "outputs": []
    },
    {
      "cell_type": "code",
      "source": [
        "check_data(newsgroups_train)\n",
        "print(\"\\n***\\n\")\n",
        "check_data(newsgroups_test)"
      ],
      "metadata": {
        "id": "6A8TOcAT8STP",
        "outputId": "c831155e-88cb-4f94-a6db-7068243d751f",
        "colab": {
          "base_uri": "https://localhost:8080/"
        }
      },
      "execution_count": 6,
      "outputs": [
        {
          "output_type": "stream",
          "name": "stdout",
          "text": [
            "['comp.windows.x', 'misc.forsale', 'rec.autos', 'rec.motorcycles', 'rec.sport.baseball', 'rec.sport.hockey', 'sci.crypt', 'sci.med', 'sci.space', 'talk.politics.mideast']\n",
            "(5913,)\n",
            "(5913,)\n",
            "Equal sizes for data and targets\n",
            "/root/scikit_learn_data/20news_home/20news-bydate-train/rec.sport.baseball/102665\n",
            "I have posted the logos of the NL East teams to alt.binaries.pictures.misc \n",
            " Hopefully, I'll finish the series up next week with the NL West.\n",
            "\n",
            " Darren\n",
            "\n",
            "[4 3 9 7 4 3 0 5 7 8]\n",
            "\n",
            "***\n",
            "\n",
            "['comp.windows.x', 'misc.forsale', 'rec.autos', 'rec.motorcycles', 'rec.sport.baseball', 'rec.sport.hockey', 'sci.crypt', 'sci.med', 'sci.space', 'talk.politics.mideast']\n",
            "(3937,)\n",
            "(3937,)\n",
            "Equal sizes for data and targets\n",
            "/root/scikit_learn_data/20news_home/20news-bydate-test/misc.forsale/76785\n",
            "As the title says. I would like to sell my Star LV2010 9 pin printer.\n",
            "Its a narrow colum dot matrix, supports both parallel and serial\n",
            "interfacing, prints at 200 characters per second, has a 16K buffer, \n",
            "and is very dependable...\n",
            "\n",
            "Drop some mail if your interested in it. $55 Plus shipping get the\n",
            "printer, and 6 extra srink-wraped ribbons, parallel connection\n",
            "cable, power cord, manual, and ONE sheet of paper (smile)...\n",
            "[1 7 2 5 3 5 7 3 0 2]\n"
          ]
        }
      ]
    },
    {
      "cell_type": "markdown",
      "source": [
        "##Naïve Bayes classifier"
      ],
      "metadata": {
        "id": "MOZUHcvP9whf"
      }
    },
    {
      "cell_type": "markdown",
      "source": [
        ""
      ],
      "metadata": {
        "id": "ZnquC4b197i6"
      }
    }
  ]
}