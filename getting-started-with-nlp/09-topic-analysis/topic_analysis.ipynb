{
  "nbformat": 4,
  "nbformat_minor": 0,
  "metadata": {
    "colab": {
      "name": "topic-analysis.ipynb",
      "provenance": [],
      "toc_visible": true,
      "authorship_tag": "ABX9TyPbLf96RjqQMEMWj/x+43/T",
      "include_colab_link": true
    },
    "kernelspec": {
      "name": "python3",
      "display_name": "Python 3"
    },
    "language_info": {
      "name": "python"
    }
  },
  "cells": [
    {
      "cell_type": "markdown",
      "metadata": {
        "id": "view-in-github",
        "colab_type": "text"
      },
      "source": [
        "<a href=\"https://colab.research.google.com/github/rahiakela/natural-language-processing-research-and-practice/blob/main/getting-started-with-nlp/09-topic-analysis/topic_analysis.ipynb\" target=\"_parent\"><img src=\"https://colab.research.google.com/assets/colab-badge.svg\" alt=\"Open In Colab\"/></a>"
      ]
    },
    {
      "cell_type": "markdown",
      "source": [
        "##Topic Analysis"
      ],
      "metadata": {
        "id": "KNfBwCp922nA"
      }
    },
    {
      "cell_type": "markdown",
      "source": [
        "In this notebook, you will work with one more application of\n",
        "this powerful framework – topic classification. \n",
        "\n",
        "Let’s start with a scenario: suppose you work\n",
        "as a content manager for a large news platform. Your platform hosts texts from a wide\n",
        "variety of authors and mainly specializes in the following set of well-established topics:\n",
        "“Politics”, “Finance”, “Science”, “Sports”, and “Arts”. Your task is to decide, for every\n",
        "incoming article, which topic it belongs to and post it under the relevant tab on the platform.\n",
        "\n",
        "This scenario relates to the task that we can broadly define as topic analysis.\n",
        "\n",
        "Imagine\n",
        "that the content on your platform doesn’t stay the same all the time – new topics may\n",
        "emerge in the data. \n",
        "\n",
        "Unfortunately, if you wanted to train a classification model to cover\n",
        "these topics in a supervised manner, you will need labeled articles for these new topics as\n",
        "well. \n",
        "\n",
        "Data availability is the major bottleneck for supervised machine learning. \n",
        "\n",
        "Therefore, you need to learn about alternative ways of topic discovery and need to apply two unsupervised machine learning algorithms – \n",
        "\n",
        "* clustering\n",
        "* Latent Dirichlet Allocation\n",
        "\n",
        "\n",
        "<img src='images/1.png' width='600'/>"
      ],
      "metadata": {
        "id": "qbKLnvHa3DKG"
      }
    },
    {
      "cell_type": "markdown",
      "source": [
        "##Setup"
      ],
      "metadata": {
        "id": "TrK8SygW4mos"
      }
    },
    {
      "cell_type": "code",
      "source": [
        "from sklearn.feature_extraction.text import TfidfVectorizer\n",
        "from sklearn.naive_bayes import MultinomialNB\n",
        "\n",
        "from sklearn.decomposition import TruncatedSVD\n",
        "from sklearn.pipeline import make_pipeline\n",
        "from sklearn.preprocessing import Normalizer\n",
        "from sklearn.cluster import KMeans\n",
        "\n",
        "from sklearn import metrics\n",
        "from sklearn.metrics import plot_confusion_matrix\n",
        "\n",
        "from sklearn.datasets import fetch_20newsgroups\n",
        "\n",
        "import random\n",
        "import numpy as np\n",
        "import matplotlib.pyplot as plt"
      ],
      "metadata": {
        "id": "XN5nbKtW4n1X"
      },
      "execution_count": null,
      "outputs": []
    }
  ]
}