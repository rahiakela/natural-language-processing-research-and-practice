{
  "nbformat": 4,
  "nbformat_minor": 0,
  "metadata": {
    "colab": {
      "name": "tf-idf-fundamentals.ipynb",
      "provenance": [],
      "toc_visible": true,
      "authorship_tag": "ABX9TyPNlAeHFCEJyBOIfV5N+YFr",
      "include_colab_link": true
    },
    "kernelspec": {
      "name": "python3",
      "display_name": "Python 3"
    },
    "language_info": {
      "name": "python"
    }
  },
  "cells": [
    {
      "cell_type": "markdown",
      "metadata": {
        "id": "view-in-github",
        "colab_type": "text"
      },
      "source": [
        "<a href=\"https://colab.research.google.com/github/rahiakela/natural-language-processing-research-and-practice/blob/main/nlp-fundamental-works/tf_idf_fundamentals.ipynb\" target=\"_parent\"><img src=\"https://colab.research.google.com/assets/colab-badge.svg\" alt=\"Open In Colab\"/></a>"
      ]
    },
    {
      "cell_type": "markdown",
      "source": [
        "##TF-IDF Fundamentals"
      ],
      "metadata": {
        "id": "L2hGvY56H_LU"
      }
    },
    {
      "cell_type": "markdown",
      "source": [
        "`tf-idf` score is statistic that quantifies this intuition is the term\n",
        "frequency-inverse document frequency or `tf-idf` score.\n",
        "\n",
        "* One of the most popular schemes used today\n",
        "* Let $t$ be a term (n-gram), $d$ be a document, and $D$ be a\n",
        "corpus (collection of documents) under consideration\n",
        "* The `tf-idf` score of term $t$ in document $d$ with respect to\n",
        "corpus $D$ is\n",
        "\n",
        "   $$tfidf(t, d, D) = tf(t, d) * idf(t, D) $$\n",
        "\n",
        "* Many different methods for quantifying `tf` and `idf`\n",
        "\n",
        "\n",
        "<img src='https://github.com/rahiakela/natural-language-processing-research-and-practice/blob/main/nlp-fundamental-works/images/tf-idf-corpus.png?raw=1' width='400'/>\n",
        "\n",
        "* Term frequency $tf(t, d)$: Typically the fraction of terms in document $d$\n",
        "which are term $t$\n",
        "\n",
        "   * Letting $f_{t,d}$ be the number of occurrences of $t$ in $d$,\n",
        "\n",
        "    $$tf(t, d) = \\frac{f_{t,d}}{\\sum_{\\hat t} f_{\\hat t, d}}$$\n",
        "\n",
        "* Inverse document frequency $idf(t, D)$: A measure of how\n",
        "rare term $t$ is across the corpus $D$ (i.e., how much information\n",
        "it provides about a document it appears in)\n",
        "\n",
        "    * Letting $N=|D|$ be the number of documents in the corpus and $n_t$\n",
        " be the number of documents where $t$ occurs, it is typically quantified as\n",
        "\n",
        "  $$idf(t, D) = log_{10} \\begin{pmatrix} \\frac{n_t}{N}  \\end{pmatrix}^{-1} = log_{10} \\frac{N}{n_t} $$\n",
        "\n",
        "\n"
      ],
      "metadata": {
        "id": "fSmEujl8IOqa"
      }
    },
    {
      "cell_type": "markdown",
      "source": [
        "##Example"
      ],
      "metadata": {
        "id": "SHS3eE2YMu5p"
      }
    },
    {
      "cell_type": "code",
      "source": [
        ""
      ],
      "metadata": {
        "id": "riAFzIBfQX-p"
      },
      "execution_count": null,
      "outputs": []
    }
  ]
}