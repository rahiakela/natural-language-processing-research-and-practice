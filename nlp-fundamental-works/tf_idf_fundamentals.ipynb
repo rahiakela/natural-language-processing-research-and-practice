{
  "nbformat": 4,
  "nbformat_minor": 0,
  "metadata": {
    "colab": {
      "name": "tf-idf-fundamentals.ipynb",
      "provenance": [],
      "toc_visible": true,
      "authorship_tag": "ABX9TyNwwh9FJRh5Cge/Z/uXoFs+",
      "include_colab_link": true
    },
    "kernelspec": {
      "name": "python3",
      "display_name": "Python 3"
    },
    "language_info": {
      "name": "python"
    }
  },
  "cells": [
    {
      "cell_type": "markdown",
      "metadata": {
        "id": "view-in-github",
        "colab_type": "text"
      },
      "source": [
        "<a href=\"https://colab.research.google.com/github/rahiakela/natural-language-processing-research-and-practice/blob/main/nlp-fundamental-works/tf_idf_fundamentals.ipynb\" target=\"_parent\"><img src=\"https://colab.research.google.com/assets/colab-badge.svg\" alt=\"Open In Colab\"/></a>"
      ]
    },
    {
      "cell_type": "markdown",
      "source": [
        "##TF-IDF Fundamentals"
      ],
      "metadata": {
        "id": "L2hGvY56H_LU"
      }
    },
    {
      "cell_type": "markdown",
      "source": [
        "`tf-idf` score is statistic that quantifies this intuition is the term\n",
        "frequency-inverse document frequency or `tf-idf` score.\n",
        "\n",
        "* One of the most popular schemes used today\n",
        "* Let $t$ be a term (n-gram), $d$ be a document, and $D$ be a\n",
        "corpus (collection of documents) under consideration\n",
        "* The `tf-idf` score of term $t$ in document $d$ with respect to\n",
        "corpus $D$ is\n",
        "\n",
        "   $$tfidf(t, d, D) = tf(t, d) * idf(t, D) $$\n",
        "\n",
        "* Many different methods for quantifying `tf` and `idf`\n",
        "\n",
        "\n",
        "\n"
      ],
      "metadata": {
        "id": "fSmEujl8IOqa"
      }
    }
  ]
}