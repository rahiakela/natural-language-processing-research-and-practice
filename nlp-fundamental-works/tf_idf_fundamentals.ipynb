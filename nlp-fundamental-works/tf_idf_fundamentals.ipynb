{
  "nbformat": 4,
  "nbformat_minor": 0,
  "metadata": {
    "colab": {
      "name": "tf-idf-fundamentals.ipynb",
      "provenance": [],
      "toc_visible": true,
      "authorship_tag": "ABX9TyMAPdoiw6JEYcsmtFv5+8qa",
      "include_colab_link": true
    },
    "kernelspec": {
      "name": "python3",
      "display_name": "Python 3"
    },
    "language_info": {
      "name": "python"
    }
  },
  "cells": [
    {
      "cell_type": "markdown",
      "metadata": {
        "id": "view-in-github",
        "colab_type": "text"
      },
      "source": [
        "<a href=\"https://colab.research.google.com/github/rahiakela/natural-language-processing-research-and-practice/blob/main/nlp-fundamental-works/tf_idf_fundamentals.ipynb\" target=\"_parent\"><img src=\"https://colab.research.google.com/assets/colab-badge.svg\" alt=\"Open In Colab\"/></a>"
      ]
    },
    {
      "cell_type": "markdown",
      "source": [
        "##TF-IDF Fundamentals"
      ],
      "metadata": {
        "id": "L2hGvY56H_LU"
      }
    },
    {
      "cell_type": "markdown",
      "source": [
        "`tf-idf` score is statistic that quantifies this intuition is the term\n",
        "frequency-inverse document frequency or `tf-idf` score.\n",
        "\n",
        "* One of the most popular schemes used today\n",
        "* Let $t$ be a term (n-gram), $d$ be a document, and $D$ be a\n",
        "corpus (collection of documents) under consideration\n",
        "* The `tf-idf` score of term $t$ in document $d$ with respect to\n",
        "corpus $D$ is\n",
        "\n",
        "   $$tfidf(t, d, D) = tf(t, d) * idf(t, D) $$\n",
        "\n",
        "* Many different methods for quantifying `tf` and `idf`\n",
        "\n",
        "\n",
        "<img src='https://github.com/rahiakela/natural-language-processing-research-and-practice/blob/main/nlp-fundamental-works/images/tf-idf-corpus.png?raw=1' width='400'/>\n",
        "\n",
        "* Term frequency $tf(t, d)$: Typically the fraction of terms in document $d$\n",
        "which are term $t$\n",
        "\n",
        "   * Letting $f_{t,d}$ be the number of occurrences of $t$ in $d$,\n",
        "\n",
        "    $$tf(t, d) = \\frac{f_{t,d}}{\\sum_{\\hat t} f_{\\hat t, d}}$$\n",
        "\n",
        "* Inverse document frequency $idf(t, D)$: A measure of how\n",
        "rare term $t$ is across the corpus $D$ (i.e., how much information\n",
        "it provides about a document it appears in)\n",
        "\n",
        "    * Letting `N=|D|` be the number of documents in the corpus and $n_t$\n",
        " be the number of documents where $t$ occurs, it is typically quantified as\n",
        "\n",
        "  $$idf(t, D) = log_{10} \\begin{pmatrix} \\frac{n_t}{N}  \\end{pmatrix}^{-1} = log_{10} \\frac{N}{n_t} $$\n",
        "\n",
        "\n"
      ],
      "metadata": {
        "id": "fSmEujl8IOqa"
      }
    },
    {
      "cell_type": "markdown",
      "source": [
        "##Example"
      ],
      "metadata": {
        "id": "SHS3eE2YMu5p"
      }
    },
    {
      "cell_type": "markdown",
      "source": [
        "Dataset: Take the following four strings to be (very small) documents\n",
        "comprising a (very small) corpus:\n",
        "\n",
        "```txt\n",
        "1. “The sky is blue.”\n",
        "2. “The sun is bright today.”\n",
        "3. “The sun in the sky is bright.”\n",
        "4. “We can see the shining sun, the bright sun.”\n",
        "```\n",
        "\n",
        "Task: Filter out obvious stopwords, and determine the tf-idf scores of each\n",
        "term in each document.\n",
        "\n",
        "After stopword filtering:\n",
        "\n",
        "```txt\n",
        "(1) \"sky blue\", \n",
        "(2) \"sun bright today\", \n",
        "(3) \"sun sky bright\", \n",
        "(4) \"can see shining sun bright sun\"\n",
        "```\n",
        "\n",
        "Let's define the documet-to-word matrix.\n",
        "\n",
        "<img src='https://github.com/rahiakela/natural-language-processing-research-and-practice/blob/main/nlp-fundamental-works/images/tf.png?raw=1' width='800'/>"
      ],
      "metadata": {
        "id": "5mY0gPb3OF9r"
      }
    },
    {
      "cell_type": "code",
      "source": [
        "import numpy as np\n",
        "\n",
        "tf_mat = np.array([\n",
        "  [1, 0, 0, 0, 0, 1, 0, 0],\n",
        "  [0, 1, 0, 0, 0, 0, 1, 1],\n",
        "  [0, 1, 0, 0, 0, 1, 1, 0],\n",
        "  [0, 1, 1, 1, 1, 0, 2, 0],      \n",
        "])"
      ],
      "metadata": {
        "id": "riAFzIBfQX-p"
      },
      "execution_count": 2,
      "outputs": []
    },
    {
      "cell_type": "markdown",
      "source": [
        "## Term-frequency calculation"
      ],
      "metadata": {
        "id": "J74ddtVLVhnb"
      }
    },
    {
      "cell_type": "markdown",
      "source": [
        "Let's find doc-word matrix, then normalize rows to sum to 1.\n",
        "\n",
        "$$tf(t, d) = \\frac{f_{t, d}}{\\sum_{\\hat t} f_{\\hat t, d}} $$"
      ],
      "metadata": {
        "id": "GDPj3LqFP8TI"
      }
    },
    {
      "cell_type": "code",
      "source": [
        "# get row sum\n",
        "row_sum = tf_mat.sum(axis=1)\n",
        "row_sum"
      ],
      "metadata": {
        "id": "VSBVanl3QPMR",
        "outputId": "ee05974e-635c-4526-d9c2-f1d05f9f3db0",
        "colab": {
          "base_uri": "https://localhost:8080/"
        }
      },
      "execution_count": 5,
      "outputs": [
        {
          "output_type": "execute_result",
          "data": {
            "text/plain": [
              "array([2, 3, 3, 6])"
            ]
          },
          "metadata": {},
          "execution_count": 5
        }
      ]
    },
    {
      "cell_type": "markdown",
      "source": [
        "Let's define tf function."
      ],
      "metadata": {
        "id": "lsP1GMb_S_r5"
      }
    },
    {
      "cell_type": "code",
      "source": [
        "def tf(mat, r_sum):\n",
        "  tmp_mat = mat.T * (1 / r_sum)\n",
        "  return tmp_mat.T"
      ],
      "metadata": {
        "id": "aScPem-US8S4"
      },
      "execution_count": 15,
      "outputs": []
    },
    {
      "cell_type": "code",
      "source": [
        "tf_mat_tmp = tf(tf_mat, row_sum)\n",
        "print(tf_mat_tmp)"
      ],
      "metadata": {
        "id": "DLPXD-i2T4_H",
        "outputId": "24c8fbfb-e30c-405e-e199-bb6b2f895186",
        "colab": {
          "base_uri": "https://localhost:8080/"
        }
      },
      "execution_count": 17,
      "outputs": [
        {
          "output_type": "stream",
          "name": "stdout",
          "text": [
            "[[0.5        0.         0.         0.         0.         0.5\n",
            "  0.         0.        ]\n",
            " [0.         0.33333333 0.         0.         0.         0.\n",
            "  0.33333333 0.33333333]\n",
            " [0.         0.33333333 0.         0.         0.         0.33333333\n",
            "  0.33333333 0.        ]\n",
            " [0.         0.16666667 0.16666667 0.16666667 0.16666667 0.\n",
            "  0.33333333 0.        ]]\n"
          ]
        }
      ]
    },
    {
      "cell_type": "markdown",
      "source": [
        "## Inverse-document-frequency calculation"
      ],
      "metadata": {
        "id": "FgBmDoCpVyEX"
      }
    },
    {
      "cell_type": "markdown",
      "source": [
        ""
      ],
      "metadata": {
        "id": "ci2sr6cvV3Ai"
      }
    }
  ]
}