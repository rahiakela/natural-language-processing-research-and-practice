{
  "nbformat": 4,
  "nbformat_minor": 0,
  "metadata": {
    "celltoolbar": "Slideshow",
    "kernelspec": {
      "display_name": "Python 3",
      "language": "python",
      "name": "python3"
    },
    "language_info": {
      "codemirror_mode": {
        "name": "ipython",
        "version": 3
      },
      "file_extension": ".py",
      "mimetype": "text/x-python",
      "name": "python",
      "nbconvert_exporter": "python",
      "pygments_lexer": "ipython3",
      "version": "3.7.4"
    },
    "colab": {
      "name": "2-vector-space-models--dimensionality-reduction-and-representation-learning.ipynb",
      "provenance": [],
      "toc_visible": true,
      "include_colab_link": true
    }
  },
  "cells": [
    {
      "cell_type": "markdown",
      "metadata": {
        "id": "view-in-github",
        "colab_type": "text"
      },
      "source": [
        "<a href=\"https://colab.research.google.com/github/rahiakela/CS224U-Natural-Language-Understanding/blob/main/part-1-distributed-word-representations/2_vector_space_models_dimensionality_reduction_and_representation_learning.ipynb\" target=\"_parent\"><img src=\"https://colab.research.google.com/assets/colab-badge.svg\" alt=\"Open In Colab\"/></a>"
      ]
    },
    {
      "cell_type": "markdown",
      "metadata": {
        "id": "INF88lTF3Oha"
      },
      "source": [
        "# Vector-space models: Dimensionality reduction and representation learning"
      ]
    },
    {
      "cell_type": "markdown",
      "metadata": {
        "id": "xb-aDQgx3_Fa"
      },
      "source": [
        "The matrix weighting schemes reviewed in the first notebook for this unit deliver solid results. However, they are not capable of capturing higher-order associations in the data. \r\n",
        "\r\n",
        "With dimensionality reduction, the goal is to eliminate correlations in the input VSM and capture such higher-order notions of co-occurrence, thereby improving the overall space.\r\n",
        "\r\n",
        "As a motivating example, consider the adjectives _gnarly_ and _wicked_ used as slang positive adjectives.  Since both are positive, we expect them to be similar in a good VSM. However, at least stereotypically, _gnarly_ is Californian and _wicked_ is Bostonian. Thus, they are unlikely to occur often in the same texts, and so the methods we've reviewed so far will not be able to model their similarity. \r\n",
        "\r\n",
        "Dimensionality reduction techniques are often capable of capturing such semantic similarities (and have the added advantage of shrinking the size of our data structures)."
      ]
    },
    {
      "cell_type": "markdown",
      "metadata": {
        "id": "ELr6LW333_6o"
      },
      "source": [
        "## Contents"
      ]
    },
    {
      "cell_type": "markdown",
      "metadata": {
        "id": "Mle-yXfJ3Ohh"
      },
      "source": [
        "1. [Set-up](#Set-up)\n",
        "1. [Latent Semantic Analysis](#Latent-Semantic-Analysis)\n",
        "  1. [Overview of the LSA method](#Overview-of-the-LSA-method)\n",
        "  1. [Motivating example for LSA](#Motivating-example-for-LSA)\n",
        "  1. [Applying LSA to real VSMs](#Applying-LSA-to-real-VSMs)\n",
        "  1. [Other resources for matrix factorization](#Other-resources-for-matrix-factorization)\n",
        "1. [GloVe](#GloVe)\n",
        "  1. [Overview of the GloVe method](#Overview-of-the-GloVe-method)\n",
        "  1. [GloVe implementation notes](#GloVe-implementation-notes)\n",
        "  1. [Applying GloVe to our motivating example](#Applying-GloVe-to-our-motivating-example)\n",
        "  1. [Testing the GloVe implementation](#Testing-the-GloVe-implementation)\n",
        "  1. [Applying GloVe to real VSMs](#Applying-GloVe-to-real-VSMs)\n",
        "1. [Autoencoders](#Autoencoders)\n",
        "  1. [Overview of the autoencoder method](#Overview-of-the-autoencoder-method)\n",
        "  1. [Testing the autoencoder implementation](#Testing-the-autoencoder-implementation)\n",
        "  1. [Applying autoencoders to real VSMs](#Applying-autoencoders-to-real-VSMs)\n",
        "1. [Other methods](#Other-methods)"
      ]
    },
    {
      "cell_type": "markdown",
      "metadata": {
        "id": "9fEjpzsX3Ohh"
      },
      "source": [
        "## Set-up"
      ]
    },
    {
      "cell_type": "markdown",
      "metadata": {
        "id": "0ZPt4CcM3Ohi"
      },
      "source": [
        "* Make sure your environment meets all the requirements for [the cs224u repository](https://github.com/cgpotts/cs224u/). For help getting set-up, see [setup.ipynb](setup.ipynb).\n",
        "\n",
        "* Make sure you've downloaded [the data distribution for this course](http://web.stanford.edu/class/cs224u/data/data.tgz), unpacked it, and placed it in the current directory (or wherever you point `DATA_HOME` to below)."
      ]
    },
    {
      "cell_type": "code",
      "metadata": {
        "id": "ld-VtPDN4UT4"
      },
      "source": [
        "%%shell\r\n",
        "\r\n",
        "# download data\r\n",
        "wget http://web.stanford.edu/class/cs224u/data/data.tgz\r\n",
        "\r\n",
        "\r\n",
        "# extract file\r\n",
        "mkdir data\r\n",
        "tar -xvzf data.tgz data\r\n",
        "rm -rf data.tgz\r\n",
        "\r\n",
        "# download util file\r\n",
        "wget https://raw.githubusercontent.com/rahiakela/CS224U-Natural-Language-Understanding/main/code-base/utils.py\r\n",
        "wget https://raw.githubusercontent.com/rahiakela/CS224U-Natural-Language-Understanding/main/code-base/vsm.py\r\n",
        "wget https://raw.githubusercontent.com/rahiakela/CS224U-Natural-Language-Understanding/main/code-base/torch_glove.py\r\n",
        "wget https://raw.githubusercontent.com/rahiakela/CS224U-Natural-Language-Understanding/main/code-base/np_glove.py\r\n",
        "wget https://raw.githubusercontent.com/rahiakela/CS224U-Natural-Language-Understanding/main/code-base/torch_model_base.py\r\n",
        "wget https://raw.githubusercontent.com/rahiakela/CS224U-Natural-Language-Understanding/main/code-base/torch_autoencoder.py"
      ],
      "execution_count": null,
      "outputs": []
    },
    {
      "cell_type": "code",
      "metadata": {
        "id": "8lweNSBL3Ohi"
      },
      "source": [
        "from torch_glove import TorchGloVe\n",
        "import numpy as np\n",
        "from np_glove import GloVe\n",
        "import os\n",
        "import pandas as pd\n",
        "import scipy.stats\n",
        "from torch_autoencoder import TorchAutoencoder\n",
        "import utils\n",
        "import vsm"
      ],
      "execution_count": 9,
      "outputs": []
    },
    {
      "cell_type": "code",
      "metadata": {
        "id": "YBp4XEek3Ohi"
      },
      "source": [
        "# Set all the random seeds for reproducibility:\n",
        "\n",
        "utils.fix_random_seeds()"
      ],
      "execution_count": 10,
      "outputs": []
    },
    {
      "cell_type": "code",
      "metadata": {
        "id": "5G0Tbvq23Ohj"
      },
      "source": [
        "DATA_HOME = os.path.join('data', 'vsmdata')"
      ],
      "execution_count": 11,
      "outputs": []
    },
    {
      "cell_type": "code",
      "metadata": {
        "id": "wspoD9Fg3Ohj"
      },
      "source": [
        "imdb5 = pd.read_csv(os.path.join(DATA_HOME, 'imdb_window5-scaled.csv.gz'), index_col=0)"
      ],
      "execution_count": 12,
      "outputs": []
    },
    {
      "cell_type": "code",
      "metadata": {
        "id": "83bSK86P3Ohj"
      },
      "source": [
        "imdb20 = pd.read_csv(os.path.join(DATA_HOME, 'imdb_window20-flat.csv.gz'), index_col=0)"
      ],
      "execution_count": 13,
      "outputs": []
    },
    {
      "cell_type": "code",
      "metadata": {
        "id": "D2Hcc1am3Ohk"
      },
      "source": [
        "giga5 = pd.read_csv(os.path.join(DATA_HOME, 'giga_window5-scaled.csv.gz'), index_col=0)"
      ],
      "execution_count": 14,
      "outputs": []
    },
    {
      "cell_type": "code",
      "metadata": {
        "id": "UGL_5z_z3Ohk"
      },
      "source": [
        "giga20 = pd.read_csv(os.path.join(DATA_HOME, 'giga_window20-flat.csv.gz'), index_col=0)"
      ],
      "execution_count": 15,
      "outputs": []
    },
    {
      "cell_type": "markdown",
      "metadata": {
        "id": "4wAwd8HlAuaz"
      },
      "source": [
        "## Latent Semantic Analysis"
      ]
    },
    {
      "cell_type": "markdown",
      "metadata": {
        "id": "yI2mzzMT3Ohk"
      },
      "source": [
        "Latent Semantic Analysis (LSA) is a prominent dimensionality reduction technique. It is an application of __truncated singular value decomposition__ (SVD) and so uses only techniques from linear algebra (no machine learning needed)."
      ]
    },
    {
      "cell_type": "markdown",
      "metadata": {
        "id": "lwvGjIoZyyY4"
      },
      "source": [
        "### Overview of the LSA method"
      ]
    },
    {
      "cell_type": "markdown",
      "metadata": {
        "id": "Dne1XCb83Ohk"
      },
      "source": [
        "The central mathematical result is that, for any matrix of real numbers $X$ of dimension $m \\times n$, there is a factorization of $X$ into matrices $T$, $S$, and $D$ such that\n",
        "\n",
        "$$X_{m \\times n} = T_{m \\times m}S_{m\\times m}D_{n \\times m}^{\\top}$$\n",
        "\n",
        "The matrices $T$ and $D$ are  __orthonormal__ – their columns are length-normalized and orthogonal to one another (that is, they each have cosine distance of $1$ from each other). The singular-value matrix $S$ is a diagonal matrix arranged by size, so that the first dimension corresponds to the greatest source of variability in the data, followed by the second, and so on.\n",
        "\n",
        "Of course, we don't want to factorize and rebuild the original matrix, as that wouldn't get us anywhere. The __truncation__ part means that we include only the top $k$ dimensions of $S$. Given our row-oriented perspective on these matrices, this means using\n",
        "\n",
        "$$T[1{:}m, 1{:}k]S[1{:}k, 1{:}k]$$\n",
        "\n",
        "which gives us a version of $T$ that includes only the top $k$ dimensions of variation. \n",
        "\n",
        "To build up intuitions, imagine that everyone on the Stanford campus is associated with a 3d point representing their position: $x$ is east–west, $y$ is north–south, and $z$ is zenith–nadir. Since the campus is spread out and has relatively few deep basements and tall buildings, the top two dimensions of variation will be $x$ and $y$, and the 2d truncated SVD of this space will leave $z$ out. This will, for example, capture the sense in which someone at the top of Hoover Tower is close to someone at its base."
      ]
    },
    {
      "cell_type": "markdown",
      "metadata": {
        "id": "f6AbaHZn26Il"
      },
      "source": [
        "### Motivating example for LSA"
      ]
    },
    {
      "cell_type": "markdown",
      "metadata": {
        "id": "hesbxbC-3Ohl"
      },
      "source": [
        "We can also return to our original motivating example of _wicked_ and _gnarly_. Here is a matrix reflecting those assumptions:"
      ]
    },
    {
      "cell_type": "code",
      "metadata": {
        "id": "jQNfwIX53Ohl",
        "outputId": "c2a4a539-b50a-4ecb-9946-5b17316de8fa",
        "colab": {
          "base_uri": "https://localhost:8080/",
          "height": 200
        }
      },
      "source": [
        "gnarly_df = pd.DataFrame(\n",
        "    np.array([\n",
        "        [1,0,1,0,0,0],\n",
        "        [0,1,0,1,0,0],\n",
        "        [1,1,1,1,0,0],\n",
        "        [0,0,0,0,1,1],\n",
        "        [0,0,0,0,0,1]], dtype='float64'),\n",
        "    index=['gnarly', 'wicked', 'awesome', 'lame', 'terrible'])\n",
        "\n",
        "gnarly_df"
      ],
      "execution_count": 16,
      "outputs": [
        {
          "output_type": "execute_result",
          "data": {
            "text/html": [
              "<div>\n",
              "<style scoped>\n",
              "    .dataframe tbody tr th:only-of-type {\n",
              "        vertical-align: middle;\n",
              "    }\n",
              "\n",
              "    .dataframe tbody tr th {\n",
              "        vertical-align: top;\n",
              "    }\n",
              "\n",
              "    .dataframe thead th {\n",
              "        text-align: right;\n",
              "    }\n",
              "</style>\n",
              "<table border=\"1\" class=\"dataframe\">\n",
              "  <thead>\n",
              "    <tr style=\"text-align: right;\">\n",
              "      <th></th>\n",
              "      <th>0</th>\n",
              "      <th>1</th>\n",
              "      <th>2</th>\n",
              "      <th>3</th>\n",
              "      <th>4</th>\n",
              "      <th>5</th>\n",
              "    </tr>\n",
              "  </thead>\n",
              "  <tbody>\n",
              "    <tr>\n",
              "      <th>gnarly</th>\n",
              "      <td>1.0</td>\n",
              "      <td>0.0</td>\n",
              "      <td>1.0</td>\n",
              "      <td>0.0</td>\n",
              "      <td>0.0</td>\n",
              "      <td>0.0</td>\n",
              "    </tr>\n",
              "    <tr>\n",
              "      <th>wicked</th>\n",
              "      <td>0.0</td>\n",
              "      <td>1.0</td>\n",
              "      <td>0.0</td>\n",
              "      <td>1.0</td>\n",
              "      <td>0.0</td>\n",
              "      <td>0.0</td>\n",
              "    </tr>\n",
              "    <tr>\n",
              "      <th>awesome</th>\n",
              "      <td>1.0</td>\n",
              "      <td>1.0</td>\n",
              "      <td>1.0</td>\n",
              "      <td>1.0</td>\n",
              "      <td>0.0</td>\n",
              "      <td>0.0</td>\n",
              "    </tr>\n",
              "    <tr>\n",
              "      <th>lame</th>\n",
              "      <td>0.0</td>\n",
              "      <td>0.0</td>\n",
              "      <td>0.0</td>\n",
              "      <td>0.0</td>\n",
              "      <td>1.0</td>\n",
              "      <td>1.0</td>\n",
              "    </tr>\n",
              "    <tr>\n",
              "      <th>terrible</th>\n",
              "      <td>0.0</td>\n",
              "      <td>0.0</td>\n",
              "      <td>0.0</td>\n",
              "      <td>0.0</td>\n",
              "      <td>0.0</td>\n",
              "      <td>1.0</td>\n",
              "    </tr>\n",
              "  </tbody>\n",
              "</table>\n",
              "</div>"
            ],
            "text/plain": [
              "            0    1    2    3    4    5\n",
              "gnarly    1.0  0.0  1.0  0.0  0.0  0.0\n",
              "wicked    0.0  1.0  0.0  1.0  0.0  0.0\n",
              "awesome   1.0  1.0  1.0  1.0  0.0  0.0\n",
              "lame      0.0  0.0  0.0  0.0  1.0  1.0\n",
              "terrible  0.0  0.0  0.0  0.0  0.0  1.0"
            ]
          },
          "metadata": {
            "tags": []
          },
          "execution_count": 16
        }
      ]
    },
    {
      "cell_type": "markdown",
      "metadata": {
        "id": "jlLR95jv3Ohm"
      },
      "source": [
        "No column context includes both _gnarly_ and _wicked_ together so our count matrix places them far apart:"
      ]
    },
    {
      "cell_type": "code",
      "metadata": {
        "id": "46WkCibt3Ohn",
        "outputId": "76e5c774-325c-4de9-b7dd-5537e3789519",
        "colab": {
          "base_uri": "https://localhost:8080/"
        }
      },
      "source": [
        "vsm.neighbors('gnarly', gnarly_df)"
      ],
      "execution_count": 17,
      "outputs": [
        {
          "output_type": "execute_result",
          "data": {
            "text/plain": [
              "gnarly      0.000000\n",
              "awesome     0.292893\n",
              "wicked      1.000000\n",
              "lame        1.000000\n",
              "terrible    1.000000\n",
              "dtype: float64"
            ]
          },
          "metadata": {
            "tags": []
          },
          "execution_count": 17
        }
      ]
    },
    {
      "cell_type": "markdown",
      "metadata": {
        "id": "ik5dE2VM3Ohn"
      },
      "source": [
        "Reweighting doesn't help. For example, here is the attempt with Positive PMI:"
      ]
    },
    {
      "cell_type": "code",
      "metadata": {
        "id": "ghBduLfS3Ohn",
        "outputId": "fa7be355-1e6c-45fa-a91e-8df92eaa0f0b",
        "colab": {
          "base_uri": "https://localhost:8080/"
        }
      },
      "source": [
        "vsm.neighbors('gnarly', vsm.pmi(gnarly_df))"
      ],
      "execution_count": 18,
      "outputs": [
        {
          "output_type": "execute_result",
          "data": {
            "text/plain": [
              "gnarly      0.000000\n",
              "awesome     0.292893\n",
              "wicked      1.000000\n",
              "lame        1.000000\n",
              "terrible    1.000000\n",
              "dtype: float64"
            ]
          },
          "metadata": {
            "tags": []
          },
          "execution_count": 18
        }
      ]
    },
    {
      "cell_type": "markdown",
      "metadata": {
        "id": "pfas2dyW3Ohn"
      },
      "source": [
        "However, both words tend to occur with _awesome_ and not with _lame_ or _terrible_, so there is an important sense in which they are similar. LSA to the rescue:"
      ]
    },
    {
      "cell_type": "code",
      "metadata": {
        "id": "DXlumrgA3Oho"
      },
      "source": [
        "gnarly_lsa_df = vsm.lsa(gnarly_df, k=2)"
      ],
      "execution_count": 19,
      "outputs": []
    },
    {
      "cell_type": "code",
      "metadata": {
        "id": "GmC6JAi-3Oho",
        "outputId": "b9b257fb-4a87-41e3-a428-5a1512e73c45",
        "colab": {
          "base_uri": "https://localhost:8080/"
        }
      },
      "source": [
        "vsm.neighbors('gnarly', gnarly_lsa_df)"
      ],
      "execution_count": 20,
      "outputs": [
        {
          "output_type": "execute_result",
          "data": {
            "text/plain": [
              "gnarly      0.0\n",
              "wicked      0.0\n",
              "awesome     0.0\n",
              "lame        1.0\n",
              "terrible    1.0\n",
              "dtype: float64"
            ]
          },
          "metadata": {
            "tags": []
          },
          "execution_count": 20
        }
      ]
    },
    {
      "cell_type": "markdown",
      "metadata": {
        "id": "RacTxRpj6zzy"
      },
      "source": [
        "### Applying LSA to real VSMs"
      ]
    },
    {
      "cell_type": "markdown",
      "metadata": {
        "id": "8rOiXrUG3Oho"
      },
      "source": [
        "Here's an example that begins to convey the effect that this can have empirically.\n",
        "\n",
        "First, the original count matrix:"
      ]
    },
    {
      "cell_type": "code",
      "metadata": {
        "id": "0jZiCGHJ3Oho",
        "outputId": "64716cd2-ccac-446f-b13b-c2df129eeb31",
        "colab": {
          "base_uri": "https://localhost:8080/"
        }
      },
      "source": [
        "vsm.neighbors('superb', imdb5).head()"
      ],
      "execution_count": 21,
      "outputs": [
        {
          "output_type": "execute_result",
          "data": {
            "text/plain": [
              "superb    0.000000\n",
              ".         0.814956\n",
              "e         0.889682\n",
              "k         0.891759\n",
              "g         0.894064\n",
              "dtype: float64"
            ]
          },
          "metadata": {
            "tags": []
          },
          "execution_count": 21
        }
      ]
    },
    {
      "cell_type": "markdown",
      "metadata": {
        "id": "_kHigVET3Ohp"
      },
      "source": [
        "And then LSA with $k=100$:"
      ]
    },
    {
      "cell_type": "code",
      "metadata": {
        "id": "UvVGGyqr3Ohp"
      },
      "source": [
        "imdb5_svd = vsm.lsa(imdb5, k=100)"
      ],
      "execution_count": 22,
      "outputs": []
    },
    {
      "cell_type": "code",
      "metadata": {
        "id": "3k0wIAYr3Ohp",
        "outputId": "1b45b1bb-64ad-4b46-ec74-1df8056f2509",
        "colab": {
          "base_uri": "https://localhost:8080/"
        }
      },
      "source": [
        "vsm.neighbors('superb', imdb5_svd).head()"
      ],
      "execution_count": 23,
      "outputs": [
        {
          "output_type": "execute_result",
          "data": {
            "text/plain": [
              "superb     0.000000\n",
              "notch      0.015580\n",
              "talents    0.028776\n",
              "poor       0.029328\n",
              "voice      0.031802\n",
              "dtype: float64"
            ]
          },
          "metadata": {
            "tags": []
          },
          "execution_count": 23
        }
      ]
    },
    {
      "cell_type": "markdown",
      "metadata": {
        "id": "Ucc-GTDv3Ohp"
      },
      "source": [
        "A common pattern in the literature is to apply PMI first. The PMI values tend to give the count matrix a normal (Gaussian) distribution that better satisfies the assumptions underlying SVD:"
      ]
    },
    {
      "cell_type": "code",
      "metadata": {
        "id": "QyNBZIzZ3Ohq"
      },
      "source": [
        "imdb5_pmi = vsm.pmi(imdb5, positive=False)"
      ],
      "execution_count": 24,
      "outputs": []
    },
    {
      "cell_type": "code",
      "metadata": {
        "id": "b0hELZrd3Ohq"
      },
      "source": [
        "imdb5_pmi_svd = vsm.lsa(imdb5_pmi, k=100)"
      ],
      "execution_count": 25,
      "outputs": []
    },
    {
      "cell_type": "code",
      "metadata": {
        "id": "XHtZ5R8N3Ohq",
        "outputId": "1e55c7af-e0a4-4f3c-cccd-f269ebe8ae67",
        "colab": {
          "base_uri": "https://localhost:8080/"
        }
      },
      "source": [
        "vsm.neighbors('superb', imdb5_pmi_svd).head()"
      ],
      "execution_count": 26,
      "outputs": [
        {
          "output_type": "execute_result",
          "data": {
            "text/plain": [
              "superb         0.000000\n",
              "outstanding    0.017650\n",
              "terrific       0.021071\n",
              "fantastic      0.033293\n",
              "brilliant      0.050633\n",
              "dtype: float64"
            ]
          },
          "metadata": {
            "tags": []
          },
          "execution_count": 26
        }
      ]
    },
    {
      "cell_type": "markdown",
      "metadata": {
        "id": "6g7-FH4e3Ohq"
      },
      "source": [
        "### Other resources for matrix factorization\n",
        "\n",
        "The [sklearn.decomposition](http://scikit-learn.org/stable/modules/classes.html#module-sklearn.decomposition) module contains an implementation of LSA ([TruncatedSVD](http://scikit-learn.org/stable/modules/generated/sklearn.decomposition.TruncatedSVD.html#sklearn.decomposition.TruncatedSVD)) that you might want to switch to for real experiments:\n",
        "\n",
        "* The `sklearn` version is more flexible than the above in that it can operate on both dense matrices (Numpy arrays) and sparse matrices (from Scipy).\n",
        "\n",
        "* The `sklearn` version will make it easy to try out other dimensionality reduction methods in your own code; [Principal Component Analysis (PCA)](http://scikit-learn.org/stable/modules/generated/sklearn.decomposition.PCA.html#sklearn.decomposition.PCA) and [Non-Negative Matrix Factorization (NMF)](http://scikit-learn.org/stable/modules/generated/sklearn.decomposition.NMF.html#sklearn.decomposition.NMF) are closely related methods that are worth a look."
      ]
    },
    {
      "cell_type": "markdown",
      "metadata": {
        "id": "jTGJMl4hA1DX"
      },
      "source": [
        "## GloVe"
      ]
    },
    {
      "cell_type": "markdown",
      "metadata": {
        "id": "nBEapTSY7gJU"
      },
      "source": [
        "### Overview of the GloVe method"
      ]
    },
    {
      "cell_type": "markdown",
      "metadata": {
        "id": "B7cg7tdk3Ohr"
      },
      "source": [
        "[Pennington et al. (2014)](http://www.aclweb.org/anthology/D/D14/D14-1162.pdf) introduce an objective function for semantic word representations. Roughly speaking, the objective is to learn vectors for words $w_{i}$ and $w_{j}$ such that their dot product is proportional to their probability of co-occurrence:\n",
        "\n",
        "$$w_{i}^{\\top}\\widetilde{w}_{k} + b_{i} + \\widetilde{b}_{k} = \\log(X_{ik})$$\n",
        "\n",
        "The paper is exceptionally good at motivating this objective from first principles. In their equation (6), they define \n",
        "\n",
        "$$w_{i}^{\\top}\\widetilde{w}_{k} = \\log(P_{ik}) = \\log(X_{ik}) - \\log(X_{i})$$\n",
        "\n",
        "If we allow that the rows and columns can be different, then we would do\n",
        "\n",
        "$$w_{i}^{\\top}\\widetilde{w}_{k} = \\log(P_{ik}) = \\log(X_{ik}) - \\log(X_{i} \\cdot X_{*k})$$\n",
        "\n",
        "where, as in the paper, $X_{i}$ is the sum of the values in row $i$, and $X_{*k}$ is the sum of the values in column $k$.\n",
        "\n",
        "The rightmost expression is PMI by the equivalence $\\log(\\frac{x}{y}) = \\log(x) - \\log(y)$, and hence we can see GloVe as aiming to make the dot product of two learned vectors equal to the PMI!\n",
        "\n",
        "The full model is a weighting of this objective:\n",
        "\n",
        "$$\\sum_{i, j=1}^{|V|} f\\left(X_{ij}\\right)\n",
        "  \\left(w_i^\\top \\widetilde{w}_j + b_i + \\widetilde{b}_j - \\log X_{ij}\\right)^2$$\n",
        "\n",
        "where $V$ is the vocabulary and $f$ is a scaling factor designed to diminish the impact of very large co-occurrence counts:\n",
        "\n",
        "$$f(x) \n",
        "\\begin{cases}\n",
        "(x/x_{\\max})^{\\alpha} & \\textrm{if } x < x_{\\max} \\\\\n",
        "1 & \\textrm{otherwise}\n",
        "\\end{cases}$$\n",
        "\n",
        "Typically, $\\alpha$ is set to $0.75$ and $x_{\\max}$ to $100$ (though it is worth assessing how many of your non-zero counts are above this; in dense word $\\times$ word matrices, you could be flattening more than you want to)."
      ]
    },
    {
      "cell_type": "markdown",
      "metadata": {
        "id": "1aOt948w8DIh"
      },
      "source": [
        "### GloVe implementation notes"
      ]
    },
    {
      "cell_type": "markdown",
      "metadata": {
        "id": "rETh130C3Ohr"
      },
      "source": [
        "* The implementation in `np_glove.GloVe` is the most stripped-down, bare-bones version of the GloVe method I could think of. As such, it is quite slow. \n",
        "\n",
        "* `torch_glove.py` includes a vectorized implementation that is much, much faster, so we'll mainly use that. It is based on the method and implementation introduced in [Dingwall and Potts 2018](https://www.aclweb.org/anthology/N18-2034/).\n",
        "\n",
        "* For really large jobs, [the official C implementation released by the GloVe team](http://nlp.stanford.edu/projects/glove/) is probably the best choice."
      ]
    },
    {
      "cell_type": "markdown",
      "metadata": {
        "id": "DqGvHvjC8aUQ"
      },
      "source": [
        "### Applying GloVe to our motivating example"
      ]
    },
    {
      "cell_type": "markdown",
      "metadata": {
        "id": "guNhHBPz3Ohs"
      },
      "source": [
        "GloVe should do well on our _gnarly/wicked_ evaluation, though you will see a lot variation due to the small size of this VSM:"
      ]
    },
    {
      "cell_type": "code",
      "metadata": {
        "id": "JKOeq3NU3Ohs"
      },
      "source": [
        "gnarly_glove_mod = GloVe(n=2, max_iter=1000)"
      ],
      "execution_count": 27,
      "outputs": []
    },
    {
      "cell_type": "code",
      "metadata": {
        "id": "-imdHMT53Ohs",
        "outputId": "86cac6e3-f23c-4a4c-c84d-cb03713035e7",
        "colab": {
          "base_uri": "https://localhost:8080/"
        }
      },
      "source": [
        "gnarly_glove = gnarly_glove_mod.fit(gnarly_df)"
      ],
      "execution_count": 28,
      "outputs": [
        {
          "output_type": "stream",
          "text": [
            "Finished epoch 999 of 1000; error is 3.371482852000653e-05"
          ],
          "name": "stderr"
        }
      ]
    },
    {
      "cell_type": "code",
      "metadata": {
        "id": "VxSNJsxZ3Oht",
        "outputId": "623399e3-c69e-46ce-88c2-ed37783ae3c0",
        "colab": {
          "base_uri": "https://localhost:8080/"
        }
      },
      "source": [
        "vsm.neighbors('gnarly', gnarly_glove)"
      ],
      "execution_count": 29,
      "outputs": [
        {
          "output_type": "execute_result",
          "data": {
            "text/plain": [
              "gnarly      0.000000\n",
              "terrible    0.115135\n",
              "wicked      0.151883\n",
              "lame        0.171145\n",
              "awesome     1.602795\n",
              "dtype: float64"
            ]
          },
          "metadata": {
            "tags": []
          },
          "execution_count": 29
        }
      ]
    },
    {
      "cell_type": "markdown",
      "metadata": {
        "id": "avHliFfY8n6L"
      },
      "source": [
        "### Testing the GloVe implementation"
      ]
    },
    {
      "cell_type": "markdown",
      "metadata": {
        "id": "8DT20NCs3Oht"
      },
      "source": [
        "It is not easy analyze GloVe values derived from real data, but the following little simulation suggests that `np_glove.glove` is working as advertised: it does seem to reliably deliver vectors whose dot products are proportional to the log co-occurrence probability:"
      ]
    },
    {
      "cell_type": "code",
      "metadata": {
        "id": "SlE_tL423Oht"
      },
      "source": [
        "glove_test_count_df = pd.DataFrame(\n",
        "    np.array([\n",
        "        [10.0,  2.0,  3.0,  4.0],\n",
        "        [ 2.0, 10.0,  4.0,  1.0],\n",
        "        [ 3.0,  4.0, 10.0,  2.0],\n",
        "        [ 4.0,  1.0,  2.0, 10.0]]),\n",
        "    index=['A', 'B', 'C', 'D'],\n",
        "    columns=['A', 'B', 'C', 'D'])"
      ],
      "execution_count": 30,
      "outputs": []
    },
    {
      "cell_type": "code",
      "metadata": {
        "id": "7nhQyxhM3Oht"
      },
      "source": [
        "glove_test_mod = GloVe(n=4, max_iter=1000)"
      ],
      "execution_count": 31,
      "outputs": []
    },
    {
      "cell_type": "code",
      "metadata": {
        "id": "2RRgCtfA3Oht",
        "outputId": "c598d1c3-51c3-4254-ceb4-258ea9a46b8d",
        "colab": {
          "base_uri": "https://localhost:8080/"
        }
      },
      "source": [
        "glove_test_df = glove_test_mod.fit(glove_test_count_df)"
      ],
      "execution_count": 32,
      "outputs": [
        {
          "output_type": "stream",
          "text": [
            "Finished epoch 999 of 1000; error is 7.633385001520861e-05"
          ],
          "name": "stderr"
        }
      ]
    },
    {
      "cell_type": "markdown",
      "metadata": {
        "id": "M8E74Gx43Ohu"
      },
      "source": [
        "The `score` method for `GloVe` performs the correlation test that seems appropriate for GloVe. We can roughly summarize the test as follows: calculate the Pearson correlation of `G.dot(G.T)` and `log P(X)`, where `G` is the learned GloVe embedding and `log P(X)` gives the log probabilities. The test exempts `0` count cells when calculating the correlation."
      ]
    },
    {
      "cell_type": "code",
      "metadata": {
        "id": "XIdndYL73Ohu",
        "outputId": "f1dbb47f-3431-45ab-9a2e-14ca41572907",
        "colab": {
          "base_uri": "https://localhost:8080/"
        }
      },
      "source": [
        "glove_test_mod.score(glove_test_count_df)"
      ],
      "execution_count": 33,
      "outputs": [
        {
          "output_type": "execute_result",
          "data": {
            "text/plain": [
              "0.9566649559987256"
            ]
          },
          "metadata": {
            "tags": []
          },
          "execution_count": 33
        }
      ]
    },
    {
      "cell_type": "markdown",
      "metadata": {
        "id": "d8_lgot33Ohu"
      },
      "source": [
        "### Applying GloVe to real VSMs"
      ]
    },
    {
      "cell_type": "markdown",
      "metadata": {
        "id": "N2zF5jDa3Ohu"
      },
      "source": [
        "The `vsm.glove` implementation is too slow to use on real matrices. The version in the `torch_glove` module is significantly faster, making its use possible even without a GPU (and it will be very fast indeed on a GPU machine):"
      ]
    },
    {
      "cell_type": "code",
      "metadata": {
        "id": "62r9QERi3Ohv",
        "outputId": "ea62561e-b53e-47a6-e85d-55318ec2038f",
        "colab": {
          "base_uri": "https://localhost:8080/"
        }
      },
      "source": [
        "glove_model = TorchGloVe()\n",
        "\n",
        "imdb5_glv = glove_model.fit(imdb5)"
      ],
      "execution_count": 34,
      "outputs": [
        {
          "output_type": "stream",
          "text": [
            "Finished epoch 1000 of 1000; error is 225616.6171875"
          ],
          "name": "stderr"
        }
      ]
    },
    {
      "cell_type": "markdown",
      "metadata": {
        "id": "0F_2sYRc3Ohv"
      },
      "source": [
        "We can again use the `score` method to see how we did:"
      ]
    },
    {
      "cell_type": "code",
      "metadata": {
        "id": "6Zk3gqyK3Ohv",
        "outputId": "870991a5-b7f0-4f3d-8467-806c76fafeb3",
        "colab": {
          "base_uri": "https://localhost:8080/"
        }
      },
      "source": [
        "glove_model.score(imdb5)"
      ],
      "execution_count": 35,
      "outputs": [
        {
          "output_type": "execute_result",
          "data": {
            "text/plain": [
              "0.4566495073278943"
            ]
          },
          "metadata": {
            "tags": []
          },
          "execution_count": 35
        }
      ]
    },
    {
      "cell_type": "code",
      "metadata": {
        "id": "jZRUQeH13Ohv",
        "outputId": "e4656735-b454-47e8-df8f-d9300eabe618"
      },
      "source": [
        "vsm.neighbors('superb', imdb5_glv).head()"
      ],
      "execution_count": null,
      "outputs": [
        {
          "output_type": "execute_result",
          "data": {
            "text/plain": [
              "superb         0.000000\n",
              "excellent      0.073974\n",
              "outstanding    0.085162\n",
              "terrific       0.116188\n",
              "fantastic      0.127726\n",
              "dtype: float64"
            ]
          },
          "metadata": {
            "tags": []
          },
          "execution_count": 29
        }
      ]
    },
    {
      "cell_type": "markdown",
      "metadata": {
        "id": "gyGBbfeoA7PX"
      },
      "source": [
        "## Autoencoders"
      ]
    },
    {
      "cell_type": "markdown",
      "metadata": {
        "id": "gLvBFwAI3Ohv"
      },
      "source": [
        "An autoencoder is a machine learning model that seeks to learn parameters that predict its own input. This is meaningful when there are intermediate representations that have lower dimensionality than the inputs. These provide a reduced-dimensional view of the data akin to those learned by LSA, but now we have a lot more design choices and a lot more potential to learn higher-order associations in the underyling data."
      ]
    },
    {
      "cell_type": "markdown",
      "metadata": {
        "id": "hru8fsq-fwI0"
      },
      "source": [
        "### Overview of the autoencoder method"
      ]
    },
    {
      "cell_type": "markdown",
      "metadata": {
        "id": "KJjeQLFg3Ohw"
      },
      "source": [
        "The module `torch_autoencoder` uses PyToch to implement a simple one-layer autoencoder:\n",
        "\n",
        "$$\n",
        "\\begin{align}\n",
        "h &= \\mathbf{f}(xW + b_{h}) \\\\\n",
        "\\widehat{x} &= hW^{\\top} + b_{x}\n",
        "\\end{align}$$\n",
        "\n",
        "Here, we assume that the hidden representation $h$ has a low dimensionality like 100, and that $\\mathbf{f}$ is a non-linear activation function (the default for `TorchAutoencoder` is `tanh`). These are the major design choices internal to the network. It might also be meaningful to assume that there are two matrices of weights $W_{xh}$ and $W_{hx}$, rather than using $W^{\\top}$ for the output step.\n",
        "\n",
        "The objective function for autoencoders will implement some kind of assessment of the distance between the inputs and their predicted outputs. For example, one could use the one-half mean squared error:\n",
        "\n",
        "$$\\frac{1}{m}\\sum_{i=1}^{m} \\frac{1}{2}(\\widehat{X[i]} - X[i])^{2}$$\n",
        "\n",
        "where $X$ is the input matrix of examples (dimension $m \\times n$) and $X[i]$ corresponds to the $i$th example.\n",
        "\n",
        "When you call the `fit` method of `TorchAutoencoder`, it returns the matrix of hidden representations $h$, which is the new embedding space: same row count as the input, but with the column count set by the `hidden_dim` parameter.\n",
        "\n",
        "For much more on autoencoders, see the 'Autoencoders' chapter of [Goodfellow et al. 2016](http://www.deeplearningbook.org)."
      ]
    },
    {
      "cell_type": "markdown",
      "metadata": {
        "id": "7qf4_yTff0XT"
      },
      "source": [
        "### Testing the autoencoder implementation"
      ]
    },
    {
      "cell_type": "markdown",
      "metadata": {
        "id": "FPHvsv9K3Ohw"
      },
      "source": [
        "Here's an evaluation that is meant to test the autoencoder implementation – we expect it to be able to full encode the input matrix because we know its rank is equal to the dimensionality of the hidden representation."
      ]
    },
    {
      "cell_type": "code",
      "metadata": {
        "id": "KpOI-fXF3Ohw"
      },
      "source": [
        "def randmatrix(m, n, sigma=0.1, mu=0):\n",
        "    return sigma * np.random.randn(m, n) + mu\n",
        "\n",
        "def autoencoder_evaluation(nrow=1000, ncol=100, rank=20, max_iter=20000):\n",
        "    \"\"\"This an evaluation in which `TorchAutoencoder` should be able\n",
        "    to perfectly reconstruct the input data, because the\n",
        "    hidden representations have the same dimensionality as\n",
        "    the rank of the input matrix.\n",
        "    \"\"\"\n",
        "    X = randmatrix(nrow, rank).dot(randmatrix(rank, ncol))\n",
        "    ae = TorchAutoencoder(hidden_dim=rank, max_iter=max_iter)\n",
        "    ae.fit(X)\n",
        "    X_pred = ae.predict(X)\n",
        "    mse = (0.5 * (X_pred - X)**2).mean()\n",
        "    return(X, X_pred, mse)"
      ],
      "execution_count": null,
      "outputs": []
    },
    {
      "cell_type": "code",
      "metadata": {
        "id": "0RgoW-6a3Ohw",
        "outputId": "772b376c-0478-47f7-dd2a-eab637102d93"
      },
      "source": [
        "ae_max_iter = 100\n",
        "\n",
        "_, _, ae = autoencoder_evaluation(max_iter=ae_max_iter)\n",
        "\n",
        "print(\"Autoencoder evaluation MSE after {0} evaluations: {1:0.04f}\".format(ae_max_iter, ae))"
      ],
      "execution_count": null,
      "outputs": [
        {
          "output_type": "stream",
          "text": [
            "Finished epoch 100 of 100; error is 0.0013741686707362533"
          ],
          "name": "stderr"
        },
        {
          "output_type": "stream",
          "text": [
            "Autoencoder evaluation MSE after 100 evaluations: 0.0007\n"
          ],
          "name": "stdout"
        }
      ]
    },
    {
      "cell_type": "markdown",
      "metadata": {
        "id": "87SAFvbPgAd7"
      },
      "source": [
        "### Applying autoencoders to real VSMs"
      ]
    },
    {
      "cell_type": "markdown",
      "metadata": {
        "id": "SyG2y4q23Ohw"
      },
      "source": [
        "You can apply the autoencoder directly to the count matrix, but this could interact very badly with the internal activation function: if the counts are all very high or very low, then everything might get pushed irrevocably towards the extreme values of the activation.\n",
        "\n",
        "Thus, it's a good idea to first normalize the values somehow. Here, I use `vsm.length_norm`:"
      ]
    },
    {
      "cell_type": "code",
      "metadata": {
        "id": "dI6FM0p43Ohx"
      },
      "source": [
        "imdb5_l2 = imdb5.apply(vsm.length_norm, axis=1)"
      ],
      "execution_count": null,
      "outputs": []
    },
    {
      "cell_type": "code",
      "metadata": {
        "id": "ttFHbJxH3Ohx",
        "outputId": "113cbcbe-6954-4839-91c9-eb8a3c438560"
      },
      "source": [
        "imdb5_l2_ae = TorchAutoencoder(\n",
        "    max_iter=100, hidden_dim=50, eta=0.001).fit(imdb5_l2)"
      ],
      "execution_count": null,
      "outputs": [
        {
          "output_type": "stream",
          "text": [
            "Stopping after epoch 28. Training loss did not improve more than tol=1e-05. Final error is 0.0009803352440940216."
          ],
          "name": "stderr"
        }
      ]
    },
    {
      "cell_type": "code",
      "metadata": {
        "id": "5f3AdYlK3Ohx",
        "outputId": "a0bdcea4-f967-4b37-9b5c-3aa8aea30fc7"
      },
      "source": [
        "vsm.neighbors('superb', imdb5_l2_ae).head()"
      ],
      "execution_count": null,
      "outputs": [
        {
          "output_type": "execute_result",
          "data": {
            "text/plain": [
              "superb     0.000000\n",
              "lizard     0.001003\n",
              "fill       0.001045\n",
              "concert    0.001068\n",
              "gritty     0.001128\n",
              "dtype: float64"
            ]
          },
          "metadata": {
            "tags": []
          },
          "execution_count": 34
        }
      ]
    },
    {
      "cell_type": "markdown",
      "metadata": {
        "id": "YxqWBviq3Ohx"
      },
      "source": [
        "This is very slow and seems not to work all that well. To speed things up, one can first apply LSA or similar:"
      ]
    },
    {
      "cell_type": "code",
      "metadata": {
        "id": "u26Sxdo43Ohx"
      },
      "source": [
        "imdb5_l2_svd100 = vsm.lsa(imdb5_l2, k=100)"
      ],
      "execution_count": null,
      "outputs": []
    },
    {
      "cell_type": "code",
      "metadata": {
        "id": "n1RH0aeU3Ohx",
        "outputId": "6fc875ba-e1f5-4790-cf13-c1e7547fb3da"
      },
      "source": [
        "imdb_l2_svd100_ae = TorchAutoencoder(\n",
        "    max_iter=1000, hidden_dim=50, eta=0.01).fit(imdb5_l2_svd100)"
      ],
      "execution_count": null,
      "outputs": [
        {
          "output_type": "stream",
          "text": [
            "Stopping after epoch 29. Training loss did not improve more than tol=1e-05. Final error is 0.0007643999852007255."
          ],
          "name": "stderr"
        }
      ]
    },
    {
      "cell_type": "code",
      "metadata": {
        "id": "3hMdoZK73Ohy",
        "outputId": "3932773f-5b2d-49bd-855d-ed8e50e94541"
      },
      "source": [
        "vsm.neighbors('superb', imdb_l2_svd100_ae).head()"
      ],
      "execution_count": null,
      "outputs": [
        {
          "output_type": "execute_result",
          "data": {
            "text/plain": [
              "superb         0.000000\n",
              "outstanding    0.017357\n",
              "terrific       0.035065\n",
              "exceptional    0.036933\n",
              "magnificent    0.052532\n",
              "dtype: float64"
            ]
          },
          "metadata": {
            "tags": []
          },
          "execution_count": 37
        }
      ]
    },
    {
      "cell_type": "markdown",
      "metadata": {
        "id": "O9kESM6GBBxi"
      },
      "source": [
        "## Other methods"
      ]
    },
    {
      "cell_type": "markdown",
      "metadata": {
        "id": "YpWsUnMj3Ohy"
      },
      "source": [
        "Learning word representations is one of the most active areas in NLP right now, so I can't hope to offer a comprehensive summary. I'll settle instead for identifying some overall trends and methods:\n",
        "\n",
        "* The label __word2vec__ picks out a family of models in which the embedding for a word $w$ is trained to predict the words that co-occur with $w$. This intuition can be cashed out in numerous ways. The skip-gram model, due to [Mikolov et al. 2013](https://papers.nips.cc/paper/5021-distributed-representations-of-words-and-phrases-and-their-compositionality), is arguably the closest to the models discussed above. For instance, see [Levy and Golberg 2014](http://papers.nips.cc/paper/5477-neural-word-embedding-as-implicit-matrix-factorization) for a proof that the skip-gram model's objective reduces to PMI shifted by a constant value.\n",
        "\n",
        "* The LexVec model of [Salle et al. 2016](https://www.aclweb.org/anthology/P16-2068/) combines the core insight of GloVe (learn vectors that approximate PMI) with the insight from word2vec that we should additionally try to push words that don't appear together farther apart in the VSM. (GloVe simply ignores 0 count cells and so can't do this.)\n",
        "\n",
        "* Many apparently diverse models can be expressed as matrix factorization methods like SVD/LSA. See especially \n",
        "[Singh and Gordon 2008](http://www.cs.cmu.edu/~ggordon/singh-gordon-unified-factorization-ecml.pdf),\n",
        "[Levy and Golberg 2014](http://papers.nips.cc/paper/5477-neural-word-embedding-as-implicit-matrix-factorization), [Cotterell et al. 2017](https://www.aclweb.org/anthology/E17-2028/).\n",
        "\n",
        "* Subword modeling ([reviewed briefly in the previous notebook](vsm_01_distributional.ipynb#Subword-information)) is increasingly yielding dividends. (It would already be central if most of NLP focused on languages with complex morphology!) Check out the papers at the Subword and Character-Level Models for NLP Workshops: [SCLeM 2017](https://sites.google.com/view/sclem2017/home), [SCLeM 2018](https://sites.google.com/view/sclem2018/home).\n",
        "\n",
        "* Contextualized word representations have proven valuable in many contexts. These methods do not provide representations for individual words, but rather represent them in their linguistic context. This creates space for modeling how word senses vary depending on their context of use. We will study these methods later in the quarter, mainly in the context of identifying ways that might achieve better results on your projects."
      ]
    }
  ]
}