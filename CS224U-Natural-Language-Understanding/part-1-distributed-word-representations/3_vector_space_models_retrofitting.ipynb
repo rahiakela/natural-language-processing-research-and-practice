{
  "nbformat": 4,
  "nbformat_minor": 0,
  "metadata": {
    "celltoolbar": "Slideshow",
    "kernelspec": {
      "display_name": "Python 3",
      "language": "python",
      "name": "python3"
    },
    "language_info": {
      "codemirror_mode": {
        "name": "ipython",
        "version": 3
      },
      "file_extension": ".py",
      "mimetype": "text/x-python",
      "name": "python",
      "nbconvert_exporter": "python",
      "pygments_lexer": "ipython3",
      "version": "3.7.4"
    },
    "colab": {
      "name": "3-vector-space-models--retrofitting.ipynb",
      "provenance": [],
      "toc_visible": true,
      "include_colab_link": true
    }
  },
  "cells": [
    {
      "cell_type": "markdown",
      "metadata": {
        "id": "view-in-github",
        "colab_type": "text"
      },
      "source": [
        "<a href=\"https://colab.research.google.com/github/rahiakela/CS224U-Natural-Language-Understanding/blob/main/part-1-distributed-word-representations/3_vector_space_models_retrofitting.ipynb\" target=\"_parent\"><img src=\"https://colab.research.google.com/assets/colab-badge.svg\" alt=\"Open In Colab\"/></a>"
      ]
    },
    {
      "cell_type": "markdown",
      "metadata": {
        "id": "9xVZEFWJGKD7"
      },
      "source": [
        "# Vector-space models: retrofitting"
      ]
    },
    {
      "cell_type": "markdown",
      "metadata": {
        "id": "IhCCX_6MG_bQ"
      },
      "source": [
        "* Thus far, all of the information in our word vectors has come solely from co-occurrences patterns in text. This information is often very easy to obtain – though one does need a __lot__ of text – and it is striking how rich the resulting representations can be.\r\n",
        "\r\n",
        "* Nonetheless, it seems clear that there is important information that we will miss this way – relationships that just aren't encoded at all in co-occurrences or that get distorted by such patterns. \r\n",
        "\r\n",
        "* For example, it is probably straightforward to learn representations that will support the inference that all puppies are dogs (_puppy_ entails _dog_), but it might be difficult to learn that _dog_ entails _mammal_ because of the unusual way that very broad taxonomic terms like _mammal_ are used in text.\r\n",
        "\r\n",
        "* The question then arises: how can we bring structured information – labels – into our representations? If we can do that, then we might get the best of both worlds: the ease of using co-occurrence data and the refinement that comes from using labeled data.\r\n",
        "\r\n",
        "* In this notebook, we look at one powerful method for doing this: the __retrofitting__ model of [Faruqui et al. 2016](http://www.aclweb.org/anthology/N15-1184). In this model, one learns (or just downloads) distributed representations for nodes in a knowledge graph and then updates those representations to bring connected nodes closer to each other.\r\n",
        "\r\n",
        "* This is an incredibly fertile idea; the final section of the notebook reviews some recent extensions, and new ones are likely appearing all the time."
      ]
    },
    {
      "cell_type": "markdown",
      "metadata": {
        "id": "Xx05ScOXHFBZ"
      },
      "source": [
        "## Contents"
      ]
    },
    {
      "cell_type": "markdown",
      "metadata": {
        "id": "bj2dXqgtGKEC"
      },
      "source": [
        "1. [Set-up](#Set-up)\n",
        "1. [The retrofitting model](#The-retrofitting-model)\n",
        "1. [Examples](#Examples)\n",
        "  1. [Only node 0 has outgoing edges](#Only-node-0-has-outgoing-edges)\n",
        "  1. [All nodes connected to all others](#All-nodes-connected-to-all-others)\n",
        "  1. [As before, but now 2 has no outgoing edges](#As-before,-but-now-2-has-no-outgoing-edges)\n",
        "  1. [All nodes connected to all others, but $\\alpha = 0$](#All-nodes-connected-to-all-others,-but-$\\alpha-=-0$)\n",
        "1. [WordNet](#WordNet)\n",
        "  1. [Background on WordNet](#Background-on-WordNet)\n",
        "  1. [WordNet and VSMs](#WordNet-and-VSMs)\n",
        "  1. [Reproducing the WordNet synonym graph experiment](#Reproducing-the-WordNet-synonym-graph-experiment)\n",
        "1. [Other retrofitting models and ideas](#Other-retrofitting-models-and-ideas)"
      ]
    },
    {
      "cell_type": "markdown",
      "metadata": {
        "id": "Ed7JCheFGKED"
      },
      "source": [
        "## Set-up"
      ]
    },
    {
      "cell_type": "code",
      "metadata": {
        "id": "Tp3LaRm1Hfwd"
      },
      "source": [
        "%%shell\r\n",
        "\r\n",
        "# download data\r\n",
        "wget http://web.stanford.edu/class/cs224u/data/data.tgz\r\n",
        "\r\n",
        "\r\n",
        "# extract file\r\n",
        "mkdir data\r\n",
        "tar -xvzf data.tgz data\r\n",
        "rm -rf data.tgz\r\n",
        "\r\n",
        "# download util file\r\n",
        "wget https://raw.githubusercontent.com/rahiakela/CS224U-Natural-Language-Understanding/main/code-base/retrofitting.py\r\n",
        "wget https://raw.githubusercontent.com/rahiakela/CS224U-Natural-Language-Understanding/main/code-base/utils.py\r\n",
        "wget https://raw.githubusercontent.com/rahiakela/CS224U-Natural-Language-Understanding/main/code-base/vsm.py\r\n",
        "wget https://raw.githubusercontent.com/rahiakela/CS224U-Natural-Language-Understanding/main/code-base/torch_glove.py\r\n",
        "wget https://raw.githubusercontent.com/rahiakela/CS224U-Natural-Language-Understanding/main/code-base/np_glove.py\r\n",
        "wget https://raw.githubusercontent.com/rahiakela/CS224U-Natural-Language-Understanding/main/code-base/torch_model_base.py\r\n",
        "wget https://raw.githubusercontent.com/rahiakela/CS224U-Natural-Language-Understanding/main/code-base/torch_autoencoder.py"
      ],
      "execution_count": null,
      "outputs": []
    },
    {
      "cell_type": "code",
      "metadata": {
        "id": "aOA7B7WTGKED"
      },
      "source": [
        "%matplotlib inline\n",
        "from collections import defaultdict\n",
        "from nltk.corpus import wordnet as wn\n",
        "import numpy as np\n",
        "import os\n",
        "import pandas as pd\n",
        "import retrofitting\n",
        "from retrofitting import Retrofitter\n",
        "import utils"
      ],
      "execution_count": 2,
      "outputs": []
    },
    {
      "cell_type": "code",
      "metadata": {
        "id": "IoIdunD3GKED"
      },
      "source": [
        "data_home = 'data'"
      ],
      "execution_count": 3,
      "outputs": []
    },
    {
      "cell_type": "markdown",
      "metadata": {
        "id": "YkGtLbRoHQD_"
      },
      "source": [
        "## The retrofitting model"
      ]
    },
    {
      "cell_type": "markdown",
      "metadata": {
        "id": "_prTh4g-GKEE"
      },
      "source": [
        "For an __an existing VSM__ $\\widehat{Q}$ of dimension $m \\times n$, and a set of __edges__  $E$ (pairs of indices into rows in  $\\widehat{Q}$), the retrofitting objective is to obtain a new VSM $Q$ (also dimension $m \\times n$)  according to the following objective:\n",
        "\n",
        "$$\\sum_{i=1}^{m} \\left[ \n",
        "\\alpha_{i}\\|q_{i} - \\widehat{q}_{i}\\|_{2}^{2}\n",
        "+\n",
        "\\sum_{j : (i,j) \\in E}\\beta_{ij}\\|q_{i} - q_{j}\\|_{2}^{2}\n",
        "\\right]$$\n",
        "\n",
        "The left term encodes a pressure to stay like the original vector. The right term encodes a pressure to be more like one's neighbors. In minimizing this objective, we should be able to strike a balance between old and new, VSM and graph.\n",
        "\n",
        "Definitions:\n",
        "\n",
        "1. $\\|u - v\\|_{2}^{2}$ gives the __squared euclidean distance__ from $u$ to $v$.\n",
        "\n",
        "1. $\\alpha$ and $\\beta$ are weights we set by hand, controlling the relative strength of the two pressures. In the paper, they use $\\alpha=1$ and $\\beta = \\frac{1}{\\{j : (i, j) \\in E\\}}$."
      ]
    },
    {
      "cell_type": "markdown",
      "metadata": {
        "id": "_cOfn4LpHWPt"
      },
      "source": [
        "## Examples"
      ]
    },
    {
      "cell_type": "markdown",
      "metadata": {
        "id": "GDED2dr0GKEE"
      },
      "source": [
        "To get a feel for what's happening, it's helpful to visualize the changes that occur in small, easily understood VSMs and graphs. The function `retrofitting.plot_retro_path` helps with this."
      ]
    },
    {
      "cell_type": "code",
      "metadata": {
        "id": "g0xMJu4EGKEE",
        "outputId": "d92fef98-4f98-42b9-9b8d-a4687fe89584",
        "colab": {
          "base_uri": "https://localhost:8080/",
          "height": 139
        }
      },
      "source": [
        "Q_hat = pd.DataFrame(\n",
        "    [[0.0, 0.0],\n",
        "     [0.0, 0.5],\n",
        "     [0.5, 0.0]],\n",
        "    columns=['x', 'y'])\n",
        "\n",
        "Q_hat"
      ],
      "execution_count": 4,
      "outputs": [
        {
          "output_type": "execute_result",
          "data": {
            "text/html": [
              "<div>\n",
              "<style scoped>\n",
              "    .dataframe tbody tr th:only-of-type {\n",
              "        vertical-align: middle;\n",
              "    }\n",
              "\n",
              "    .dataframe tbody tr th {\n",
              "        vertical-align: top;\n",
              "    }\n",
              "\n",
              "    .dataframe thead th {\n",
              "        text-align: right;\n",
              "    }\n",
              "</style>\n",
              "<table border=\"1\" class=\"dataframe\">\n",
              "  <thead>\n",
              "    <tr style=\"text-align: right;\">\n",
              "      <th></th>\n",
              "      <th>x</th>\n",
              "      <th>y</th>\n",
              "    </tr>\n",
              "  </thead>\n",
              "  <tbody>\n",
              "    <tr>\n",
              "      <th>0</th>\n",
              "      <td>0.0</td>\n",
              "      <td>0.0</td>\n",
              "    </tr>\n",
              "    <tr>\n",
              "      <th>1</th>\n",
              "      <td>0.0</td>\n",
              "      <td>0.5</td>\n",
              "    </tr>\n",
              "    <tr>\n",
              "      <th>2</th>\n",
              "      <td>0.5</td>\n",
              "      <td>0.0</td>\n",
              "    </tr>\n",
              "  </tbody>\n",
              "</table>\n",
              "</div>"
            ],
            "text/plain": [
              "     x    y\n",
              "0  0.0  0.0\n",
              "1  0.0  0.5\n",
              "2  0.5  0.0"
            ]
          },
          "metadata": {
            "tags": []
          },
          "execution_count": 4
        }
      ]
    },
    {
      "cell_type": "markdown",
      "metadata": {
        "id": "9WCPu9XbGKEF"
      },
      "source": [
        "### Only node 0 has outgoing edges"
      ]
    },
    {
      "cell_type": "code",
      "metadata": {
        "id": "YVgT25kLGKEG",
        "outputId": "5cd72dc3-0c0a-49c5-8fc6-6154b34beb83",
        "colab": {
          "base_uri": "https://localhost:8080/",
          "height": 297
        }
      },
      "source": [
        "edges_0 = {0: {1, 2}, 1: set(), 2: set()}\n",
        "\n",
        "_ = retrofitting.plot_retro_path(Q_hat, edges_0)"
      ],
      "execution_count": 5,
      "outputs": [
        {
          "output_type": "display_data",
          "data": {
            "image/png": "[encoded data removed]",
            "text/plain": [
              "<Figure size 864x288 with 2 Axes>"
            ]
          },
          "metadata": {
            "tags": [],
            "needs_background": "light"
          }
        }
      ]
    },
    {
      "cell_type": "markdown",
      "metadata": {
        "id": "lqM6ta_UGKEG"
      },
      "source": [
        "### All nodes connected to all others"
      ]
    },
    {
      "cell_type": "code",
      "metadata": {
        "id": "eiSWlUUUGKEG",
        "outputId": "4c8d616b-e873-4169-8104-e68db3620bb4",
        "colab": {
          "base_uri": "https://localhost:8080/",
          "height": 297
        }
      },
      "source": [
        "edges_all = {0: {1, 2}, 1: {0, 2}, 2: {0, 1}}\n",
        "\n",
        "_ = retrofitting.plot_retro_path(Q_hat, edges_all)"
      ],
      "execution_count": 6,
      "outputs": [
        {
          "output_type": "display_data",
          "data": {
            "image/png": "[encoded data removed]",
            "text/plain": [
              "<Figure size 864x288 with 4 Axes>"
            ]
          },
          "metadata": {
            "tags": [],
            "needs_background": "light"
          }
        }
      ]
    },
    {
      "cell_type": "markdown",
      "metadata": {
        "id": "e-q5Lf5lGKEG"
      },
      "source": [
        "### As before, but now 2 has no outgoing edges"
      ]
    },
    {
      "cell_type": "code",
      "metadata": {
        "id": "p7bZ1CmhGKEH",
        "outputId": "c507fc55-d1dd-4a87-e857-2c0fbe1740a8",
        "colab": {
          "base_uri": "https://localhost:8080/",
          "height": 297
        }
      },
      "source": [
        "edges_isolated = {0: {1, 2}, 1: {0, 2}, 2: set()}\n",
        "\n",
        "_ = retrofitting.plot_retro_path(Q_hat, edges_isolated)"
      ],
      "execution_count": 7,
      "outputs": [
        {
          "output_type": "display_data",
          "data": {
            "image/png": "[encoded data removed]",
            "text/plain": [
              "<Figure size 864x288 with 3 Axes>"
            ]
          },
          "metadata": {
            "tags": [],
            "needs_background": "light"
          }
        }
      ]
    },
    {
      "cell_type": "markdown",
      "metadata": {
        "id": "sAzjpPqGGKEH"
      },
      "source": [
        "### All nodes connected to all others, but $\\alpha = 0$"
      ]
    },
    {
      "cell_type": "code",
      "metadata": {
        "id": "NA4u2MezGKEH",
        "outputId": "f2781288-ab13-4332-f536-07189af4e278",
        "colab": {
          "base_uri": "https://localhost:8080/",
          "height": 297
        }
      },
      "source": [
        "_ = retrofitting.plot_retro_path(Q_hat, edges_all, retrofitter=Retrofitter(alpha=lambda x: 0))"
      ],
      "execution_count": 8,
      "outputs": [
        {
          "output_type": "display_data",
          "data": {
            "image/png": "[encoded data removed]",
            "text/plain": [
              "<Figure size 864x288 with 4 Axes>"
            ]
          },
          "metadata": {
            "tags": [],
            "needs_background": "light"
          }
        }
      ]
    },
    {
      "cell_type": "markdown",
      "metadata": {
        "id": "edKnDHjyXIbU"
      },
      "source": [
        "## WordNet"
      ]
    },
    {
      "cell_type": "markdown",
      "metadata": {
        "id": "qZp_iYdzGKEH"
      },
      "source": [
        "Faruqui et al. conduct experiments on three knowledge graphs: [WordNet](https://wordnet.princeton.edu), [FrameNet](https://framenet.icsi.berkeley.edu/fndrupal/), and the [Penn Paraphrase Database (PPDB)](http://paraphrase.org/). [The repository for their paper](https://github.com/mfaruqui/retrofitting) includes the graphs that they derived for their experiments.\n",
        "\n",
        "Here, we'll reproduce just one of the two WordNet experiments they report, in which the graph is formed based on synonymy."
      ]
    },
    {
      "cell_type": "markdown",
      "metadata": {
        "id": "oX_mNem4XPu8"
      },
      "source": [
        "### Background on WordNet"
      ]
    },
    {
      "cell_type": "markdown",
      "metadata": {
        "id": "ckhM26hKGKEI"
      },
      "source": [
        "WordNet is an incredible, hand-built lexical resource capturing a wealth of information about English words and their inter-relationships. ([Here is a collection of WordNets in other languages.](http://globalwordnet.org)) For a detailed overview using NLTK, see [this tutorial](http://compprag.christopherpotts.net/wordnet.html).\n",
        "\n",
        "The core concepts:\n",
        "\n",
        "* A __lemma__ is something like our usual notion of __word__. Lemmas are highly sense-disambiguated. For instance, there are six lemmas that are consistent with the string `crane`: the bird, the machine, the poets, ...\n",
        "\n",
        "* A __synset__ is a collection of lemmas that are synonymous in the WordNet sense (which is WordNet-specific; words with intuitively different meanings might still be grouped together into synsets.).\n",
        "\n",
        "WordNet is a graph of relations between lemmas and between synsets, capturing things like hypernymy, antonymy, and many others. For the most part, the relations are defined between nouns; the graph is sparser for other areas of the lexicon."
      ]
    },
    {
      "cell_type": "code",
      "metadata": {
        "id": "SERMghFW2YEY",
        "outputId": "dc940dfb-5c22-4dba-946f-8d27d3cac594",
        "colab": {
          "base_uri": "https://localhost:8080/"
        }
      },
      "source": [
        "import nltk\r\n",
        "nltk.download('wordnet')"
      ],
      "execution_count": 10,
      "outputs": [
        {
          "output_type": "stream",
          "text": [
            "[nltk_data] Downloading package wordnet to /root/nltk_data...\n",
            "[nltk_data]   Unzipping corpora/wordnet.zip.\n"
          ],
          "name": "stdout"
        },
        {
          "output_type": "execute_result",
          "data": {
            "text/plain": [
              "True"
            ]
          },
          "metadata": {
            "tags": []
          },
          "execution_count": 10
        }
      ]
    },
    {
      "cell_type": "code",
      "metadata": {
        "id": "5fySmQE7GKEI",
        "outputId": "abab26c5-7e10-4481-8422-0b0f38896318",
        "colab": {
          "base_uri": "https://localhost:8080/"
        }
      },
      "source": [
        "lems = wn.lemmas('crane', pos=None)\n",
        "\n",
        "for lem in lems:\n",
        "    ss = lem.synset()\n",
        "    print(\"=\"*70)\n",
        "    print(\"Lemma name: {}\".format(lem.name()))\n",
        "    print(\"Lemma Synset: {}\".format(ss))\n",
        "    print(\"Synset definition: {}\".format(ss.definition()))"
      ],
      "execution_count": 11,
      "outputs": [
        {
          "output_type": "stream",
          "text": [
            "======================================================================\n",
            "Lemma name: Crane\n",
            "Lemma Synset: Synset('crane.n.01')\n",
            "Synset definition: United States writer (1871-1900)\n",
            "======================================================================\n",
            "Lemma name: Crane\n",
            "Lemma Synset: Synset('crane.n.02')\n",
            "Synset definition: United States poet (1899-1932)\n",
            "======================================================================\n",
            "Lemma name: Crane\n",
            "Lemma Synset: Synset('grus.n.01')\n",
            "Synset definition: a small constellation in the southern hemisphere near Phoenix\n",
            "======================================================================\n",
            "Lemma name: crane\n",
            "Lemma Synset: Synset('crane.n.04')\n",
            "Synset definition: lifts and moves heavy objects; lifting tackle is suspended from a pivoted boom that rotates around a vertical axis\n",
            "======================================================================\n",
            "Lemma name: crane\n",
            "Lemma Synset: Synset('crane.n.05')\n",
            "Synset definition: large long-necked wading bird of marshes and plains in many parts of the world\n",
            "======================================================================\n",
            "Lemma name: crane\n",
            "Lemma Synset: Synset('crane.v.01')\n",
            "Synset definition: stretch (the neck) so as to see better\n"
          ],
          "name": "stdout"
        }
      ]
    },
    {
      "cell_type": "markdown",
      "metadata": {
        "id": "NE5-FXg2XVtm"
      },
      "source": [
        "### WordNet and VSMs"
      ]
    },
    {
      "cell_type": "markdown",
      "metadata": {
        "id": "wPMagelBGKEI"
      },
      "source": [
        "A central challenge of working with WordNet is that one doesn't usually encounter lemmas or synsets in the wild. One probably gets just strings, or maybe strings with part-of-speech tags. Mapping these objects to lemmas is incredibly difficult.\n",
        "\n",
        "For our experiments with VSMs, we simply collapse together all the senses that a given string can have. This is expedient, of course. It might also be a good choice linguistically: senses are flexible and thus hard to individuate, and we might hope that our vectors can model multiple senses at the same time. \n",
        "\n",
        "(That said, there is excellent work on creating sense-vectors; see [Reisinger and Mooney 2010](http://www.aclweb.org/anthology/N10-1013); [Huang et al 2012](http://www.aclweb.org/anthology/P12-1092).)\n",
        "\n",
        "The following code uses the NLTK WordNet API to create the edge dictionary we need for using the `Retrofitter` class:"
      ]
    },
    {
      "cell_type": "code",
      "metadata": {
        "id": "2VKDVuhmGKEJ"
      },
      "source": [
        "def get_wordnet_edges():\n",
        "    edges = defaultdict(set)\n",
        "    for ss in wn.all_synsets():\n",
        "        lem_names = {lem.name() for lem in ss.lemmas()}\n",
        "        for lem in lem_names:\n",
        "            edges[lem] |= lem_names\n",
        "    return edges"
      ],
      "execution_count": 12,
      "outputs": []
    },
    {
      "cell_type": "code",
      "metadata": {
        "id": "vS6XdyA9GKEJ"
      },
      "source": [
        "wn_edges = get_wordnet_edges()"
      ],
      "execution_count": 13,
      "outputs": []
    },
    {
      "cell_type": "markdown",
      "metadata": {
        "id": "gGhqGIluGKEJ"
      },
      "source": [
        "### Reproducing the WordNet synonym graph experiment"
      ]
    },
    {
      "cell_type": "markdown",
      "metadata": {
        "id": "USxcyOxhGKEJ"
      },
      "source": [
        "For our VSM, let's use the 300d file included in this distribution from the GloVe team, as it is close to or identical to the one used in the paper:\n",
        "\n",
        "http://nlp.stanford.edu/data/glove.6B.zip\n",
        "\n",
        "If you download this archive, place it in `vsmdata`, and unpack it, then the following will load the file into a dictionary for you:"
      ]
    },
    {
      "cell_type": "code",
      "metadata": {
        "id": "9VobtRWOGKEK"
      },
      "source": [
        "glove_dict = utils.glove2dict(os.path.join(data_home, 'glove.6B', 'glove.6B.300d.txt'))"
      ],
      "execution_count": 14,
      "outputs": []
    },
    {
      "cell_type": "markdown",
      "metadata": {
        "id": "1jCFgQvBGKEK"
      },
      "source": [
        "This is the initial embedding space $\\widehat{Q}$:"
      ]
    },
    {
      "cell_type": "code",
      "metadata": {
        "id": "JY5jvzWWGKEK"
      },
      "source": [
        "X_glove = pd.DataFrame(glove_dict).T"
      ],
      "execution_count": 15,
      "outputs": []
    },
    {
      "cell_type": "code",
      "metadata": {
        "id": "4-hd1IqrGKEL",
        "outputId": "81f69b1c-5ae6-4662-ef26-15f37a076608",
        "colab": {
          "base_uri": "https://localhost:8080/"
        }
      },
      "source": [
        "X_glove.T.shape"
      ],
      "execution_count": 16,
      "outputs": [
        {
          "output_type": "execute_result",
          "data": {
            "text/plain": [
              "(300, 400000)"
            ]
          },
          "metadata": {
            "tags": []
          },
          "execution_count": 16
        }
      ]
    },
    {
      "cell_type": "markdown",
      "metadata": {
        "id": "SeWrbe3nGKEL"
      },
      "source": [
        "Now we just need to replace all of the strings in `edges` with indices into `X_glove`:"
      ]
    },
    {
      "cell_type": "code",
      "metadata": {
        "id": "TSfdiCTkGKEL"
      },
      "source": [
        "def convert_edges_to_indices(edges, Q):\n",
        "    lookup = dict(zip(Q.index, range(Q.shape[0])))\n",
        "    index_edges = defaultdict(set)\n",
        "    for start, finish_nodes in edges.items():\n",
        "        s = lookup.get(start)\n",
        "        if s:\n",
        "            f = {lookup[n] for n in finish_nodes if n in lookup}\n",
        "            if f:\n",
        "                index_edges[s] = f\n",
        "    return index_edges"
      ],
      "execution_count": 17,
      "outputs": []
    },
    {
      "cell_type": "code",
      "metadata": {
        "id": "BUhHlnjfGKEL"
      },
      "source": [
        "wn_index_edges = convert_edges_to_indices(wn_edges, X_glove)"
      ],
      "execution_count": 18,
      "outputs": []
    },
    {
      "cell_type": "markdown",
      "metadata": {
        "id": "iSVnJatAGKEL"
      },
      "source": [
        "And now we can retrofit:"
      ]
    },
    {
      "cell_type": "code",
      "metadata": {
        "id": "TTcWy0VqGKEM"
      },
      "source": [
        "wn_retro = Retrofitter(verbose=True)"
      ],
      "execution_count": 19,
      "outputs": []
    },
    {
      "cell_type": "code",
      "metadata": {
        "id": "ePlStiIwGKEM",
        "outputId": "607c4e5e-9b8d-46cd-f81f-f17a68f90f32",
        "colab": {
          "base_uri": "https://localhost:8080/"
        }
      },
      "source": [
        "X_retro = wn_retro.fit(X_glove, wn_index_edges)"
      ],
      "execution_count": null,
      "outputs": [
        {
          "output_type": "stream",
          "text": [
            "Iteration 4; change was 1.6827"
          ],
          "name": "stderr"
        }
      ]
    },
    {
      "cell_type": "markdown",
      "metadata": {
        "id": "tGcPWI5-GKEM"
      },
      "source": [
        "You can now evaluate `X_retro` using the homework/bake-off notebook [hw_wordsim.ipynb](hw_wordsim.ipynb)!"
      ]
    },
    {
      "cell_type": "code",
      "metadata": {
        "id": "Wm2e2AB_GKEN"
      },
      "source": [
        "# Optionally write `X_retro` to disk for use elsewhere:\n",
        "#\n",
        "# X_retro.to_csv(\n",
        "#     os.path.join(data_home, 'glove6B300d-retrofit-wn.csv.gz'), compression='gzip')"
      ],
      "execution_count": null,
      "outputs": []
    },
    {
      "cell_type": "markdown",
      "metadata": {
        "id": "f_A4b7NVXDhO"
      },
      "source": [
        "## Other retrofitting models and ideas"
      ]
    },
    {
      "cell_type": "markdown",
      "metadata": {
        "id": "Ktz3D1SAGKEN"
      },
      "source": [
        "* The retrofitting idea is very close to __graph embedding__, in which one learns distributed representations of nodes based on their position in the graph. See [Hamilton et al. 2017](https://arxiv.org/pdf/1709.05584.pdf) for an overview of these methods. There are numerous parallels with the material we've reviewed here.\n",
        "\n",
        "* If you think of the input VSM as a \"warm start\" for graph embedding algorithms, then you're essentially retrofitting. This connection opens up a number of new opportunities to go beyond the similarity-based semantics that underlies Faruqui et al.'s model. See [Lengerich et al. 2017](https://arxiv.org/pdf/1708.00112.pdf), section 3.2, for more on these connections.\n",
        "\n",
        "* [Mrkšić  et al. 2016](https://www.aclweb.org/anthology/N16-1018) address the limitation of Faruqui et al's model that it assumes connected nodes in the graph are similar. In a graph with complex, varied edge semantics, this is likely to be false. They address the case of antonymy in particular.\n",
        "\n",
        "* [Lengerich et al. 2017](https://arxiv.org/pdf/1708.00112.pdf) present a __functional retrofitting__ framework in which the edge meanings are explicitly modeled, and they evaluate instantiations of the framework with linear and neural edge penalty functions. (The Faruqui et al. model emerges as a specific instantiation of this framework.)"
      ]
    }
  ]
}