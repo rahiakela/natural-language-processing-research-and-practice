{
  "nbformat": 4,
  "nbformat_minor": 0,
  "metadata": {
    "colab": {
      "name": "1-dense-vectors.ipynb",
      "provenance": [],
      "toc_visible": true,
      "authorship_tag": "ABX9TyOJ74cXMdSmZc+4+C+eKDqH",
      "include_colab_link": true
    },
    "kernelspec": {
      "name": "python3",
      "display_name": "Python 3"
    },
    "language_info": {
      "name": "python"
    }
  },
  "cells": [
    {
      "cell_type": "markdown",
      "metadata": {
        "id": "view-in-github",
        "colab_type": "text"
      },
      "source": [
        "<a href=\"https://colab.research.google.com/github/rahiakela/natural-language-processing-research-and-practice/blob/main/nlp-for-semantic-search/1_dense_vectors.ipynb\" target=\"_parent\"><img src=\"https://colab.research.google.com/assets/colab-badge.svg\" alt=\"Open In Colab\"/></a>"
      ]
    },
    {
      "cell_type": "markdown",
      "source": [
        "##Dense Vectors"
      ],
      "metadata": {
        "id": "4MV-BEYafocT"
      }
    },
    {
      "cell_type": "markdown",
      "source": [
        "Reference:\n",
        "\n",
        "https://www.pinecone.io/learn/dense-vector-embeddings-nlp/"
      ],
      "metadata": {
        "id": "5X7d4RahfrM-"
      }
    },
    {
      "cell_type": "code",
      "source": [
        "!pip -q install sentence-transformers"
      ],
      "metadata": {
        "colab": {
          "base_uri": "https://localhost:8080/"
        },
        "id": "_45ApvtOeFwv",
        "outputId": "0fd1b470-6b6b-4057-e16a-802efecd896d"
      },
      "execution_count": 1,
      "outputs": [
        {
          "output_type": "stream",
          "name": "stdout",
          "text": [
            "\u001b[K     |████████████████████████████████| 78 kB 4.4 MB/s \n",
            "\u001b[K     |████████████████████████████████| 3.4 MB 31.5 MB/s \n",
            "\u001b[K     |████████████████████████████████| 3.3 MB 34.9 MB/s \n",
            "\u001b[K     |████████████████████████████████| 1.2 MB 35.3 MB/s \n",
            "\u001b[K     |████████████████████████████████| 61 kB 346 kB/s \n",
            "\u001b[K     |████████████████████████████████| 895 kB 43.9 MB/s \n",
            "\u001b[K     |████████████████████████████████| 596 kB 45.5 MB/s \n",
            "\u001b[?25h  Building wheel for sentence-transformers (setup.py) ... \u001b[?25l\u001b[?25hdone\n"
          ]
        }
      ]
    },
    {
      "cell_type": "code",
      "source": [
        "from sentence_transformers import SentenceTransformer"
      ],
      "metadata": {
        "id": "F0uyB4hmeM-_"
      },
      "execution_count": 2,
      "outputs": []
    },
    {
      "cell_type": "code",
      "source": [
        "model = SentenceTransformer(\"all-mpnet-base-v2\")"
      ],
      "metadata": {
        "id": "daacuqrMeN4F"
      },
      "execution_count": null,
      "outputs": []
    },
    {
      "cell_type": "code",
      "source": [
        "sentences = [\n",
        "   \"it caught him off guard that space smelled of seared steak\",\n",
        "    \"she could not decide between painting her teeth or brushing her nails\",\n",
        "    \"he thought there'd be sufficient time is he hid his watch\",\n",
        "    \"the bees decided to have a mutiny against their queen\",\n",
        "    \"the sign said there was road work ahead so she decided to speed up\",\n",
        "    \"on a scale of one to ten, what's your favorite flavor of color?\",\n",
        "    \"flying stinging insects rebelled in opposition to the matriarch\"          \n",
        "]"
      ],
      "metadata": {
        "id": "HtGLcDZHea2m"
      },
      "execution_count": 4,
      "outputs": []
    },
    {
      "cell_type": "code",
      "source": [
        "embeddings = model.encode(sentences)\n",
        "embeddings.shape"
      ],
      "metadata": {
        "colab": {
          "base_uri": "https://localhost:8080/"
        },
        "id": "96UrOZq3eeer",
        "outputId": "d7517ad1-0a6d-4938-b4c1-9b3daeaddbcf"
      },
      "execution_count": 5,
      "outputs": [
        {
          "output_type": "execute_result",
          "data": {
            "text/plain": [
              "(7, 768)"
            ]
          },
          "metadata": {},
          "execution_count": 5
        }
      ]
    },
    {
      "cell_type": "code",
      "source": [
        "embeddings"
      ],
      "metadata": {
        "colab": {
          "base_uri": "https://localhost:8080/"
        },
        "id": "pl_2LLiIeogq",
        "outputId": "b0fffb07-6695-4a9a-93a8-8de9c31cf621"
      },
      "execution_count": 6,
      "outputs": [
        {
          "output_type": "execute_result",
          "data": {
            "text/plain": [
              "array([[ 0.07613575,  0.03554152, -0.04853423, ...,  0.02156135,\n",
              "        -0.02294155, -0.01750991],\n",
              "       [ 0.02348459,  0.03777696, -0.0244106 , ..., -0.00101797,\n",
              "         0.01494204, -0.00690051],\n",
              "       [-0.01087208, -0.06204989, -0.02355074, ...,  0.04565978,\n",
              "         0.00899556, -0.04353992],\n",
              "       ...,\n",
              "       [-0.00952114, -0.00817684, -0.0054946 , ..., -0.01066917,\n",
              "         0.00550096, -0.01924828],\n",
              "       [-0.00313652,  0.03131971, -0.00896536, ...,  0.04947064,\n",
              "        -0.04866311, -0.00352198],\n",
              "       [ 0.0035543 , -0.04229828,  0.01761915, ...,  0.01523382,\n",
              "         0.01262348, -0.01886442]], dtype=float32)"
            ]
          },
          "metadata": {},
          "execution_count": 6
        }
      ]
    },
    {
      "cell_type": "code",
      "source": [
        "from sentence_transformers.util import cos_sim"
      ],
      "metadata": {
        "id": "ySgTVj-weqE3"
      },
      "execution_count": 7,
      "outputs": []
    },
    {
      "cell_type": "code",
      "source": [
        "sentences"
      ],
      "metadata": {
        "colab": {
          "base_uri": "https://localhost:8080/"
        },
        "id": "fOGd23SfgE1I",
        "outputId": "21ef281e-985c-4a0b-9aed-e1a8b42ded14"
      },
      "execution_count": 9,
      "outputs": [
        {
          "output_type": "execute_result",
          "data": {
            "text/plain": [
              "['it caught him off guard that space smelled of seared steak',\n",
              " 'she could not decide between painting her teeth or brushing her nails',\n",
              " \"he thought there'd be sufficient time is he hid his watch\",\n",
              " 'the bees decided to have a mutiny against their queen',\n",
              " 'the sign said there was road work ahead so she decided to speed up',\n",
              " \"on a scale of one to ten, what's your favorite flavor of color?\",\n",
              " 'flying stinging insects rebelled in opposition to the matriarch']"
            ]
          },
          "metadata": {},
          "execution_count": 9
        }
      ]
    },
    {
      "cell_type": "code",
      "source": [
        "sentences[-1] # get last elemenet"
      ],
      "metadata": {
        "colab": {
          "base_uri": "https://localhost:8080/",
          "height": 35
        },
        "id": "wL0PoAzLgHSL",
        "outputId": "5898830f-6c04-493e-a04d-ef804e3bcc4f"
      },
      "execution_count": 10,
      "outputs": [
        {
          "output_type": "execute_result",
          "data": {
            "application/vnd.google.colaboratory.intrinsic+json": {
              "type": "string"
            },
            "text/plain": [
              "'flying stinging insects rebelled in opposition to the matriarch'"
            ]
          },
          "metadata": {},
          "execution_count": 10
        }
      ]
    },
    {
      "cell_type": "code",
      "source": [
        "sentences[:-1] # get all except last elemenet"
      ],
      "metadata": {
        "colab": {
          "base_uri": "https://localhost:8080/"
        },
        "id": "OMD15ZaYgI-a",
        "outputId": "a57d35b6-06b8-47c5-bb98-1080f12d179d"
      },
      "execution_count": 11,
      "outputs": [
        {
          "output_type": "execute_result",
          "data": {
            "text/plain": [
              "['it caught him off guard that space smelled of seared steak',\n",
              " 'she could not decide between painting her teeth or brushing her nails',\n",
              " \"he thought there'd be sufficient time is he hid his watch\",\n",
              " 'the bees decided to have a mutiny against their queen',\n",
              " 'the sign said there was road work ahead so she decided to speed up',\n",
              " \"on a scale of one to ten, what's your favorite flavor of color?\"]"
            ]
          },
          "metadata": {},
          "execution_count": 11
        }
      ]
    },
    {
      "cell_type": "code",
      "source": [
        "# get cosine of all elemenets with last element\n",
        "scores = cos_sim(embeddings[-1], embeddings[:-1])\n",
        "\n",
        "print(sentences[-1])\n",
        "for i, score in enumerate(scores[0]):\n",
        "  print(f\"{round(score.item(), 4)} | {sentences[i]}\")"
      ],
      "metadata": {
        "colab": {
          "base_uri": "https://localhost:8080/"
        },
        "id": "0dc30plKewti",
        "outputId": "fd55de3f-156e-4b4c-ea03-e14eaff6e388"
      },
      "execution_count": 8,
      "outputs": [
        {
          "output_type": "stream",
          "name": "stdout",
          "text": [
            "flying stinging insects rebelled in opposition to the matriarch\n",
            "0.1232 | it caught him off guard that space smelled of seared steak\n",
            "0.1967 | she could not decide between painting her teeth or brushing her nails\n",
            "0.0523 | he thought there'd be sufficient time is he hid his watch\n",
            "0.6084 | the bees decided to have a mutiny against their queen\n",
            "0.1011 | the sign said there was road work ahead so she decided to speed up\n",
            "-0.0492 | on a scale of one to ten, what's your favorite flavor of color?\n"
          ]
        }
      ]
    }
  ]
}