{
  "nbformat": 4,
  "nbformat_minor": 0,
  "metadata": {
    "colab": {
      "name": "2-sentence-transformers-basics.ipynb",
      "provenance": [],
      "toc_visible": true,
      "authorship_tag": "ABX9TyPSNqQe8x3Xqkc88wvqOeC4",
      "include_colab_link": true
    },
    "kernelspec": {
      "name": "python3",
      "display_name": "Python 3"
    },
    "language_info": {
      "name": "python"
    }
  },
  "cells": [
    {
      "cell_type": "markdown",
      "metadata": {
        "id": "view-in-github",
        "colab_type": "text"
      },
      "source": [
        "<a href=\"https://colab.research.google.com/github/rahiakela/natural-language-processing-research-and-practice/blob/main/nlp-for-semantic-search/2_sentence_transformers_basics.ipynb\" target=\"_parent\"><img src=\"https://colab.research.google.com/assets/colab-badge.svg\" alt=\"Open In Colab\"/></a>"
      ]
    },
    {
      "cell_type": "markdown",
      "source": [
        "##Sentence Transformers Basics"
      ],
      "metadata": {
        "id": "d8shS4NZwN74"
      }
    },
    {
      "cell_type": "markdown",
      "source": [
        "**Reference**:\n",
        "\n",
        "https://www.pinecone.io/learn/sentence-embeddings/#other-sentence-transformers\n"
      ],
      "metadata": {
        "id": "RYgjfmgYwYiw"
      }
    },
    {
      "cell_type": "markdown",
      "source": [
        "##Setup"
      ],
      "metadata": {
        "id": "PjlWPiY8wdBV"
      }
    },
    {
      "cell_type": "code",
      "source": [
        "!pip -q install sentence-transformers"
      ],
      "metadata": {
        "id": "x12108EhweAW"
      },
      "execution_count": null,
      "outputs": []
    },
    {
      "cell_type": "code",
      "source": [
        "from sentence_transformers import SentenceTransformer\n",
        "from sentence_transformers.util import cos_sim\n",
        "\n",
        "import numpy as np\n",
        "import pandas as pd"
      ],
      "metadata": {
        "id": "csx62X6mwn0f"
      },
      "execution_count": 10,
      "outputs": []
    },
    {
      "cell_type": "markdown",
      "source": [
        "##Getting Started with Sentence Transformers"
      ],
      "metadata": {
        "id": "9qTPyp7Yw2A3"
      }
    },
    {
      "cell_type": "markdown",
      "source": [
        "We will start with the original SBERT model `bert-base-nli-mean-tokens`. \n",
        "\n",
        "First, we download and initialize the model."
      ],
      "metadata": {
        "id": "oR8OPpDZw7f3"
      }
    },
    {
      "cell_type": "code",
      "source": [
        "model = SentenceTransformer(\"bert-base-nli-mean-tokens\")"
      ],
      "metadata": {
        "id": "LR8aw0Ldw92N"
      },
      "execution_count": null,
      "outputs": []
    },
    {
      "cell_type": "code",
      "source": [
        "model"
      ],
      "metadata": {
        "colab": {
          "base_uri": "https://localhost:8080/"
        },
        "id": "HDtQAZaUxE57",
        "outputId": "d7ca1fff-2c2a-4445-8c15-d3cbac0d8ac8"
      },
      "execution_count": 4,
      "outputs": [
        {
          "output_type": "execute_result",
          "data": {
            "text/plain": [
              "SentenceTransformer(\n",
              "  (0): Transformer({'max_seq_length': 128, 'do_lower_case': False}) with Transformer model: BertModel \n",
              "  (1): Pooling({'word_embedding_dimension': 768, 'pooling_mode_cls_token': False, 'pooling_mode_mean_tokens': True, 'pooling_mode_max_tokens': False, 'pooling_mode_mean_sqrt_len_tokens': False})\n",
              ")"
            ]
          },
          "metadata": {},
          "execution_count": 4
        }
      ]
    },
    {
      "cell_type": "markdown",
      "source": [
        "The output we can see here is the `SentenceTransformer` object which contains three components:\n",
        "\n",
        "- The `transformer` itself, here we can see the max sequence length of 128 tokens and whether to lowercase any input (in this case, the model does not). We can also see the model class, `BertModel`.\n",
        "- The `pooling` operation, here we can see that we are producing a 768-dimensional sentence embedding. We are doing this using the mean pooling method.\n",
        "\n",
        "Once we have the model, building sentence embeddings is quickly done using the `encode` method."
      ],
      "metadata": {
        "id": "GVtZptt0xMLq"
      }
    },
    {
      "cell_type": "code",
      "source": [
        "sentences = [\n",
        "   \"the fifty mannequin heads floating in the pool kind of freaked them out\",\n",
        "    \"she swore she just saw her sushi move\",\n",
        "    \"he embraced his new life as an eggplant\",\n",
        "    \"my dentist tells me that chewing bricks is very bad for your teeth\",\n",
        "    \"the dental specialist recommended an immediate stop to flossing with construction materials\"          \n",
        "]"
      ],
      "metadata": {
        "id": "jR0pUY9fxkwQ"
      },
      "execution_count": 5,
      "outputs": []
    },
    {
      "cell_type": "code",
      "source": [
        "embeddings = model.encode(sentences)\n",
        "embeddings.shape"
      ],
      "metadata": {
        "colab": {
          "base_uri": "https://localhost:8080/"
        },
        "id": "SNF_lBmsxt_F",
        "outputId": "943788f5-f757-4aa7-c749-00365dd7b38c"
      },
      "execution_count": 7,
      "outputs": [
        {
          "output_type": "execute_result",
          "data": {
            "text/plain": [
              "(5, 768)"
            ]
          },
          "metadata": {},
          "execution_count": 7
        }
      ]
    },
    {
      "cell_type": "markdown",
      "source": [
        "We can put together a fast STS example using nothing more than a cosine similarity function and Numpy."
      ],
      "metadata": {
        "id": "dklSBF34x7Yi"
      }
    },
    {
      "cell_type": "code",
      "source": [
        "sim = np.zeros((len(sentences), len(sentences)))\n",
        "\n",
        "for i in range(len(sentences)):\n",
        "  sim[i:, i] = cos_sim(embeddings[i], embeddings[i:])\n",
        "\n",
        "sim"
      ],
      "metadata": {
        "colab": {
          "base_uri": "https://localhost:8080/"
        },
        "id": "z7r4prw_x7zP",
        "outputId": "a23d4963-2ba3-4ab7-cb37-156f55ed05ca"
      },
      "execution_count": 9,
      "outputs": [
        {
          "output_type": "execute_result",
          "data": {
            "text/plain": [
              "array([[1.00000048, 0.        , 0.        , 0.        , 0.        ],\n",
              "       [0.40914333, 1.00000012, 0.        , 0.        , 0.        ],\n",
              "       [0.1090903 , 0.44547975, 0.99999994, 0.        , 0.        ],\n",
              "       [0.50074869, 0.30693942, 0.20791662, 0.9999997 , 0.        ],\n",
              "       [0.29936224, 0.38607225, 0.28499281, 0.63849497, 1.00000024]])"
            ]
          },
          "metadata": {},
          "execution_count": 9
        }
      ]
    },
    {
      "cell_type": "markdown",
      "source": [
        "<img src='https://d33wubrfki0l68.cloudfront.net/0c2178d0eadcc9c5755526afda3322b0efbf0b87/8059a/images/sentence-embeddings-9.jpg?raw=1' width='600'/>\n",
        "\n",
        "Here we have calculated the cosine similarity between every combination of our five sentence embeddings. Which are:"
      ],
      "metadata": {
        "id": "DZO9M6Nxy4SN"
      }
    },
    {
      "cell_type": "code",
      "source": [
        "# Creating pandas dataframe from numpy array\n",
        "df = pd.DataFrame({\"Sentence\": sentences[:]})\n",
        "df"
      ],
      "metadata": {
        "colab": {
          "base_uri": "https://localhost:8080/",
          "height": 206
        },
        "id": "zZWMEH2AzXb0",
        "outputId": "2341c69d-6b90-41cf-e96f-be4bd6937ac9"
      },
      "execution_count": 15,
      "outputs": [
        {
          "output_type": "execute_result",
          "data": {
            "text/html": [
              "\n",
              "  <div id=\"df-2b5e04e0-99f4-456d-b201-fc000b8286e6\">\n",
              "    <div class=\"colab-df-container\">\n",
              "      <div>\n",
              "<style scoped>\n",
              "    .dataframe tbody tr th:only-of-type {\n",
              "        vertical-align: middle;\n",
              "    }\n",
              "\n",
              "    .dataframe tbody tr th {\n",
              "        vertical-align: top;\n",
              "    }\n",
              "\n",
              "    .dataframe thead th {\n",
              "        text-align: right;\n",
              "    }\n",
              "</style>\n",
              "<table border=\"1\" class=\"dataframe\">\n",
              "  <thead>\n",
              "    <tr style=\"text-align: right;\">\n",
              "      <th></th>\n",
              "      <th>Sentence</th>\n",
              "    </tr>\n",
              "  </thead>\n",
              "  <tbody>\n",
              "    <tr>\n",
              "      <th>0</th>\n",
              "      <td>the fifty mannequin heads floating in the pool...</td>\n",
              "    </tr>\n",
              "    <tr>\n",
              "      <th>1</th>\n",
              "      <td>she swore she just saw her sushi move</td>\n",
              "    </tr>\n",
              "    <tr>\n",
              "      <th>2</th>\n",
              "      <td>he embraced his new life as an eggplant</td>\n",
              "    </tr>\n",
              "    <tr>\n",
              "      <th>3</th>\n",
              "      <td>my dentist tells me that chewing bricks is ver...</td>\n",
              "    </tr>\n",
              "    <tr>\n",
              "      <th>4</th>\n",
              "      <td>the dental specialist recommended an immediate...</td>\n",
              "    </tr>\n",
              "  </tbody>\n",
              "</table>\n",
              "</div>\n",
              "      <button class=\"colab-df-convert\" onclick=\"convertToInteractive('df-2b5e04e0-99f4-456d-b201-fc000b8286e6')\"\n",
              "              title=\"Convert this dataframe to an interactive table.\"\n",
              "              style=\"display:none;\">\n",
              "        \n",
              "  <svg xmlns=\"http://www.w3.org/2000/svg\" height=\"24px\"viewBox=\"0 0 24 24\"\n",
              "       width=\"24px\">\n",
              "    <path d=\"M0 0h24v24H0V0z\" fill=\"none\"/>\n",
              "    <path d=\"M18.56 5.44l.94 2.06.94-2.06 2.06-.94-2.06-.94-.94-2.06-.94 2.06-2.06.94zm-11 1L8.5 8.5l.94-2.06 2.06-.94-2.06-.94L8.5 2.5l-.94 2.06-2.06.94zm10 10l.94 2.06.94-2.06 2.06-.94-2.06-.94-.94-2.06-.94 2.06-2.06.94z\"/><path d=\"M17.41 7.96l-1.37-1.37c-.4-.4-.92-.59-1.43-.59-.52 0-1.04.2-1.43.59L10.3 9.45l-7.72 7.72c-.78.78-.78 2.05 0 2.83L4 21.41c.39.39.9.59 1.41.59.51 0 1.02-.2 1.41-.59l7.78-7.78 2.81-2.81c.8-.78.8-2.07 0-2.86zM5.41 20L4 18.59l7.72-7.72 1.47 1.35L5.41 20z\"/>\n",
              "  </svg>\n",
              "      </button>\n",
              "      \n",
              "  <style>\n",
              "    .colab-df-container {\n",
              "      display:flex;\n",
              "      flex-wrap:wrap;\n",
              "      gap: 12px;\n",
              "    }\n",
              "\n",
              "    .colab-df-convert {\n",
              "      background-color: #E8F0FE;\n",
              "      border: none;\n",
              "      border-radius: 50%;\n",
              "      cursor: pointer;\n",
              "      display: none;\n",
              "      fill: #1967D2;\n",
              "      height: 32px;\n",
              "      padding: 0 0 0 0;\n",
              "      width: 32px;\n",
              "    }\n",
              "\n",
              "    .colab-df-convert:hover {\n",
              "      background-color: #E2EBFA;\n",
              "      box-shadow: 0px 1px 2px rgba(60, 64, 67, 0.3), 0px 1px 3px 1px rgba(60, 64, 67, 0.15);\n",
              "      fill: #174EA6;\n",
              "    }\n",
              "\n",
              "    [theme=dark] .colab-df-convert {\n",
              "      background-color: #3B4455;\n",
              "      fill: #D2E3FC;\n",
              "    }\n",
              "\n",
              "    [theme=dark] .colab-df-convert:hover {\n",
              "      background-color: #434B5C;\n",
              "      box-shadow: 0px 1px 3px 1px rgba(0, 0, 0, 0.15);\n",
              "      filter: drop-shadow(0px 1px 2px rgba(0, 0, 0, 0.3));\n",
              "      fill: #FFFFFF;\n",
              "    }\n",
              "  </style>\n",
              "\n",
              "      <script>\n",
              "        const buttonEl =\n",
              "          document.querySelector('#df-2b5e04e0-99f4-456d-b201-fc000b8286e6 button.colab-df-convert');\n",
              "        buttonEl.style.display =\n",
              "          google.colab.kernel.accessAllowed ? 'block' : 'none';\n",
              "\n",
              "        async function convertToInteractive(key) {\n",
              "          const element = document.querySelector('#df-2b5e04e0-99f4-456d-b201-fc000b8286e6');\n",
              "          const dataTable =\n",
              "            await google.colab.kernel.invokeFunction('convertToInteractive',\n",
              "                                                     [key], {});\n",
              "          if (!dataTable) return;\n",
              "\n",
              "          const docLinkHtml = 'Like what you see? Visit the ' +\n",
              "            '<a target=\"_blank\" href=https://colab.research.google.com/notebooks/data_table.ipynb>data table notebook</a>'\n",
              "            + ' to learn more about interactive tables.';\n",
              "          element.innerHTML = '';\n",
              "          dataTable['output_type'] = 'display_data';\n",
              "          await google.colab.output.renderOutput(dataTable, element);\n",
              "          const docLink = document.createElement('div');\n",
              "          docLink.innerHTML = docLinkHtml;\n",
              "          element.appendChild(docLink);\n",
              "        }\n",
              "      </script>\n",
              "    </div>\n",
              "  </div>\n",
              "  "
            ],
            "text/plain": [
              "                                            Sentence\n",
              "0  the fifty mannequin heads floating in the pool...\n",
              "1              she swore she just saw her sushi move\n",
              "2            he embraced his new life as an eggplant\n",
              "3  my dentist tells me that chewing bricks is ver...\n",
              "4  the dental specialist recommended an immediate..."
            ]
          },
          "metadata": {},
          "execution_count": 15
        }
      ]
    },
    {
      "cell_type": "markdown",
      "source": [
        "We can see the highest similarity score in the bottom-right corner with 0.64. As we would hope, this is for sentences 4 and 3, which both describe poor dental practices using construction materials."
      ],
      "metadata": {
        "id": "8rKgbOPY1WX4"
      }
    },
    {
      "cell_type": "markdown",
      "source": [
        "##Other sentence-transformers"
      ],
      "metadata": {
        "id": "q7Vubet21oeh"
      }
    },
    {
      "cell_type": "markdown",
      "source": [
        "These newer models can significantly outperform the original SBERT."
      ],
      "metadata": {
        "id": "jemUcufE1pNN"
      }
    },
    {
      "cell_type": "code",
      "source": [
        "models = [\"all-mpnet-base-v2\", \"all-roberta-large-v1\", \"all-MiniLM-L12-v1\"]\n",
        "performances = [63.30, 53.05, 59.80]\n",
        "speed = [2800, 800, 7500]\n",
        "sizes = [418, 1355, 118]\n",
        "df = pd.DataFrame({\"Model\": models[:], \"Avg. Performance\": performances[:], \"Speed\": speed[:], \"Size(MB)\": sizes[:]})\n",
        "df"
      ],
      "metadata": {
        "colab": {
          "base_uri": "https://localhost:8080/",
          "height": 144
        },
        "id": "RE_FZ5O02EJp",
        "outputId": "638af0e9-680f-4ec0-f0ce-b5d6b6197d7c"
      },
      "execution_count": 16,
      "outputs": [
        {
          "output_type": "execute_result",
          "data": {
            "text/html": [
              "\n",
              "  <div id=\"df-dda48643-6fb4-4a45-8192-8089c07f0b58\">\n",
              "    <div class=\"colab-df-container\">\n",
              "      <div>\n",
              "<style scoped>\n",
              "    .dataframe tbody tr th:only-of-type {\n",
              "        vertical-align: middle;\n",
              "    }\n",
              "\n",
              "    .dataframe tbody tr th {\n",
              "        vertical-align: top;\n",
              "    }\n",
              "\n",
              "    .dataframe thead th {\n",
              "        text-align: right;\n",
              "    }\n",
              "</style>\n",
              "<table border=\"1\" class=\"dataframe\">\n",
              "  <thead>\n",
              "    <tr style=\"text-align: right;\">\n",
              "      <th></th>\n",
              "      <th>Model</th>\n",
              "      <th>Avg. Performance</th>\n",
              "      <th>Speed</th>\n",
              "      <th>Size(MB)</th>\n",
              "    </tr>\n",
              "  </thead>\n",
              "  <tbody>\n",
              "    <tr>\n",
              "      <th>0</th>\n",
              "      <td>all-mpnet-base-v2</td>\n",
              "      <td>63.30</td>\n",
              "      <td>2800</td>\n",
              "      <td>418</td>\n",
              "    </tr>\n",
              "    <tr>\n",
              "      <th>1</th>\n",
              "      <td>all-roberta-large-v1</td>\n",
              "      <td>53.05</td>\n",
              "      <td>800</td>\n",
              "      <td>1355</td>\n",
              "    </tr>\n",
              "    <tr>\n",
              "      <th>2</th>\n",
              "      <td>all-MiniLM-L12-v1</td>\n",
              "      <td>59.80</td>\n",
              "      <td>7500</td>\n",
              "      <td>118</td>\n",
              "    </tr>\n",
              "  </tbody>\n",
              "</table>\n",
              "</div>\n",
              "      <button class=\"colab-df-convert\" onclick=\"convertToInteractive('df-dda48643-6fb4-4a45-8192-8089c07f0b58')\"\n",
              "              title=\"Convert this dataframe to an interactive table.\"\n",
              "              style=\"display:none;\">\n",
              "        \n",
              "  <svg xmlns=\"http://www.w3.org/2000/svg\" height=\"24px\"viewBox=\"0 0 24 24\"\n",
              "       width=\"24px\">\n",
              "    <path d=\"M0 0h24v24H0V0z\" fill=\"none\"/>\n",
              "    <path d=\"M18.56 5.44l.94 2.06.94-2.06 2.06-.94-2.06-.94-.94-2.06-.94 2.06-2.06.94zm-11 1L8.5 8.5l.94-2.06 2.06-.94-2.06-.94L8.5 2.5l-.94 2.06-2.06.94zm10 10l.94 2.06.94-2.06 2.06-.94-2.06-.94-.94-2.06-.94 2.06-2.06.94z\"/><path d=\"M17.41 7.96l-1.37-1.37c-.4-.4-.92-.59-1.43-.59-.52 0-1.04.2-1.43.59L10.3 9.45l-7.72 7.72c-.78.78-.78 2.05 0 2.83L4 21.41c.39.39.9.59 1.41.59.51 0 1.02-.2 1.41-.59l7.78-7.78 2.81-2.81c.8-.78.8-2.07 0-2.86zM5.41 20L4 18.59l7.72-7.72 1.47 1.35L5.41 20z\"/>\n",
              "  </svg>\n",
              "      </button>\n",
              "      \n",
              "  <style>\n",
              "    .colab-df-container {\n",
              "      display:flex;\n",
              "      flex-wrap:wrap;\n",
              "      gap: 12px;\n",
              "    }\n",
              "\n",
              "    .colab-df-convert {\n",
              "      background-color: #E8F0FE;\n",
              "      border: none;\n",
              "      border-radius: 50%;\n",
              "      cursor: pointer;\n",
              "      display: none;\n",
              "      fill: #1967D2;\n",
              "      height: 32px;\n",
              "      padding: 0 0 0 0;\n",
              "      width: 32px;\n",
              "    }\n",
              "\n",
              "    .colab-df-convert:hover {\n",
              "      background-color: #E2EBFA;\n",
              "      box-shadow: 0px 1px 2px rgba(60, 64, 67, 0.3), 0px 1px 3px 1px rgba(60, 64, 67, 0.15);\n",
              "      fill: #174EA6;\n",
              "    }\n",
              "\n",
              "    [theme=dark] .colab-df-convert {\n",
              "      background-color: #3B4455;\n",
              "      fill: #D2E3FC;\n",
              "    }\n",
              "\n",
              "    [theme=dark] .colab-df-convert:hover {\n",
              "      background-color: #434B5C;\n",
              "      box-shadow: 0px 1px 3px 1px rgba(0, 0, 0, 0.15);\n",
              "      filter: drop-shadow(0px 1px 2px rgba(0, 0, 0, 0.3));\n",
              "      fill: #FFFFFF;\n",
              "    }\n",
              "  </style>\n",
              "\n",
              "      <script>\n",
              "        const buttonEl =\n",
              "          document.querySelector('#df-dda48643-6fb4-4a45-8192-8089c07f0b58 button.colab-df-convert');\n",
              "        buttonEl.style.display =\n",
              "          google.colab.kernel.accessAllowed ? 'block' : 'none';\n",
              "\n",
              "        async function convertToInteractive(key) {\n",
              "          const element = document.querySelector('#df-dda48643-6fb4-4a45-8192-8089c07f0b58');\n",
              "          const dataTable =\n",
              "            await google.colab.kernel.invokeFunction('convertToInteractive',\n",
              "                                                     [key], {});\n",
              "          if (!dataTable) return;\n",
              "\n",
              "          const docLinkHtml = 'Like what you see? Visit the ' +\n",
              "            '<a target=\"_blank\" href=https://colab.research.google.com/notebooks/data_table.ipynb>data table notebook</a>'\n",
              "            + ' to learn more about interactive tables.';\n",
              "          element.innerHTML = '';\n",
              "          dataTable['output_type'] = 'display_data';\n",
              "          await google.colab.output.renderOutput(dataTable, element);\n",
              "          const docLink = document.createElement('div');\n",
              "          docLink.innerHTML = docLinkHtml;\n",
              "          element.appendChild(docLink);\n",
              "        }\n",
              "      </script>\n",
              "    </div>\n",
              "  </div>\n",
              "  "
            ],
            "text/plain": [
              "                  Model  Avg. Performance  Speed  Size(MB)\n",
              "0     all-mpnet-base-v2             63.30   2800       418\n",
              "1  all-roberta-large-v1             53.05    800      1355\n",
              "2     all-MiniLM-L12-v1             59.80   7500       118"
            ]
          },
          "metadata": {},
          "execution_count": 16
        }
      ]
    },
    {
      "cell_type": "markdown",
      "source": [
        "For now, let’s compare one of the highest performers and run through our STS task."
      ],
      "metadata": {
        "id": "Ujz_bdzV252Q"
      }
    },
    {
      "cell_type": "code",
      "source": [
        "mpnet = SentenceTransformer(\"all-mpnet-base-v2\")"
      ],
      "metadata": {
        "id": "t5-rx_yA26Wh"
      },
      "execution_count": null,
      "outputs": []
    },
    {
      "cell_type": "code",
      "source": [
        "mpnet"
      ],
      "metadata": {
        "colab": {
          "base_uri": "https://localhost:8080/"
        },
        "id": "J4PQowhX2_to",
        "outputId": "77aee36a-0f66-4562-983b-07d5f8da461f"
      },
      "execution_count": 18,
      "outputs": [
        {
          "output_type": "execute_result",
          "data": {
            "text/plain": [
              "SentenceTransformer(\n",
              "  (0): Transformer({'max_seq_length': 384, 'do_lower_case': False}) with Transformer model: MPNetModel \n",
              "  (1): Pooling({'word_embedding_dimension': 768, 'pooling_mode_cls_token': False, 'pooling_mode_mean_tokens': True, 'pooling_mode_max_tokens': False, 'pooling_mode_mean_sqrt_len_tokens': False})\n",
              "  (2): Normalize()\n",
              ")"
            ]
          },
          "metadata": {},
          "execution_count": 18
        }
      ]
    },
    {
      "cell_type": "markdown",
      "source": [
        "Let’s compare the STS results of `all-mpnet-base-v2` against SBERT."
      ],
      "metadata": {
        "id": "UtqbCL6Y3KSx"
      }
    },
    {
      "cell_type": "code",
      "source": [
        "embeddings = mpnet.encode(sentences)\n",
        "\n",
        "sim = np.zeros((len(sentences), len(sentences)))\n",
        "\n",
        "for i in range(len(sentences)):\n",
        "  sim[i:, i] = cos_sim(embeddings[i], embeddings[i:])\n",
        "\n",
        "sim"
      ],
      "metadata": {
        "colab": {
          "base_uri": "https://localhost:8080/"
        },
        "id": "OvfTLViL3MBY",
        "outputId": "a8577ba5-81c5-4334-ea53-60aad1537d90"
      },
      "execution_count": 19,
      "outputs": [
        {
          "output_type": "execute_result",
          "data": {
            "text/plain": [
              "array([[ 1.00000024,  0.        ,  0.        ,  0.        ,  0.        ],\n",
              "       [ 0.26406288,  1.00000024,  0.        ,  0.        ,  0.        ],\n",
              "       [ 0.16503499,  0.16126692,  1.00000024,  0.        ,  0.        ],\n",
              "       [ 0.04334465,  0.04615876,  0.05670136,  1.00000048,  0.        ],\n",
              "       [ 0.05398512,  0.06101187, -0.0112226 ,  0.51847208,  0.99999988]])"
            ]
          },
          "metadata": {},
          "execution_count": 19
        }
      ]
    },
    {
      "cell_type": "markdown",
      "source": [
        "<img src='https://d33wubrfki0l68.cloudfront.net/988cdd0f93df1ffebf12f96621ffdabf861684b1/f8cb5/images/sentence-embeddings-10.jpg?raw=1' width='600'/>\n",
        "\n",
        "The semantic representation of later models is apparent. Although SBERT correctly identifies 4 and 3 as the most similar pair, it also assigns reasonably high similarity to other sentence pairs.\n",
        "\n",
        "On the other hand, the MPNet model makes a very clear distinction between similar and dissimilar pairs, with most pairs scoring less than 0.1 and the 4-3 pair scored at 0.52."
      ],
      "metadata": {
        "id": "ZhJvDtYx3gxq"
      }
    }
  ]
}